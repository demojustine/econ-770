{
 "cells": [
  {
   "cell_type": "markdown",
   "metadata": {},
   "source": [
    "# What makes a good visualization?\n",
    "\n",
    "files needed = ('bea_gdp.csv', 'map_data.zip')\n",
    "\n",
    "Visualizations of data are probably the most important outputs data analysts will produce. We may spend a lot of time  building complex models and cleaning datasets, but when it comes to communicating our results, a visual display is often most efficient. Your results are only useful when they can be understood by others. \n",
    "\n",
    "In this notebook, we are taking a step back from the nitty-gritty (no, not [that one](https://www.thegritty.com/)) of coding figures to spend some time thinking about what makes a \"good\" visualization. While the code to create the figures is in this notebook, we won't worry about it (we will cover it in other notebooks) and focus on the figures themselves. \\[Don't despair, you will get a chance to code in the practice problems.\\] \n",
    "\n",
    "\n",
    "Today we will cover: \n",
    "\n",
    "0. Why visualize? What is graphical excellence?\n",
    "1. The big picture: Know your message, your audience, and your medium. \n",
    "2. Plot types: Match your plot type to your message.\n",
    "3. Graphical concepts and best practices\n"
   ]
  },
  {
   "cell_type": "markdown",
   "metadata": {},
   "source": [
    "### Why visualize?\n",
    "\n",
    "Below, we load some data on U.S. GDP and its subcomponents. I have displayed the data from 2010 onward as a table. After looking at the table, answer these questions: \n",
    "\n",
    "Is the correlation between investment spending (inv) and GDP (gdp) positive or negative? Is the relationship linear?"
   ]
  },
  {
   "cell_type": "code",
   "execution_count": 1,
   "metadata": {},
   "outputs": [
    {
     "data": {
      "text/html": [
       "<div>\n",
       "<style scoped>\n",
       "    .dataframe tbody tr th:only-of-type {\n",
       "        vertical-align: middle;\n",
       "    }\n",
       "\n",
       "    .dataframe tbody tr th {\n",
       "        vertical-align: top;\n",
       "    }\n",
       "\n",
       "    .dataframe thead th {\n",
       "        text-align: right;\n",
       "    }\n",
       "</style>\n",
       "<table border=\"1\" class=\"dataframe\">\n",
       "  <thead>\n",
       "    <tr style=\"text-align: right;\">\n",
       "      <th></th>\n",
       "      <th>gdp</th>\n",
       "      <th>cons</th>\n",
       "      <th>inv</th>\n",
       "      <th>exp</th>\n",
       "      <th>imp</th>\n",
       "      <th>gov</th>\n",
       "      <th>res</th>\n",
       "    </tr>\n",
       "    <tr>\n",
       "      <th>year</th>\n",
       "      <th></th>\n",
       "      <th></th>\n",
       "      <th></th>\n",
       "      <th></th>\n",
       "      <th></th>\n",
       "      <th></th>\n",
       "      <th></th>\n",
       "    </tr>\n",
       "  </thead>\n",
       "  <tbody>\n",
       "    <tr>\n",
       "      <th>2010.0</th>\n",
       "      <td>15598.8</td>\n",
       "      <td>10643.0</td>\n",
       "      <td>2216.5</td>\n",
       "      <td>1977.9</td>\n",
       "      <td>2543.8</td>\n",
       "      <td>3307.2</td>\n",
       "      <td>-11.3</td>\n",
       "    </tr>\n",
       "    <tr>\n",
       "      <th>2011.0</th>\n",
       "      <td>15840.7</td>\n",
       "      <td>10843.8</td>\n",
       "      <td>2362.1</td>\n",
       "      <td>2119.0</td>\n",
       "      <td>2687.1</td>\n",
       "      <td>3203.3</td>\n",
       "      <td>-3.7</td>\n",
       "    </tr>\n",
       "    <tr>\n",
       "      <th>2012.0</th>\n",
       "      <td>16197.0</td>\n",
       "      <td>11006.8</td>\n",
       "      <td>2621.8</td>\n",
       "      <td>2191.3</td>\n",
       "      <td>2759.9</td>\n",
       "      <td>3137.0</td>\n",
       "      <td>0.0</td>\n",
       "    </tr>\n",
       "    <tr>\n",
       "      <th>2013.0</th>\n",
       "      <td>16495.4</td>\n",
       "      <td>11166.9</td>\n",
       "      <td>2801.5</td>\n",
       "      <td>2269.6</td>\n",
       "      <td>2802.4</td>\n",
       "      <td>3061.0</td>\n",
       "      <td>-0.4</td>\n",
       "    </tr>\n",
       "    <tr>\n",
       "      <th>2014.0</th>\n",
       "      <td>16912.0</td>\n",
       "      <td>11497.4</td>\n",
       "      <td>2959.2</td>\n",
       "      <td>2365.3</td>\n",
       "      <td>2942.5</td>\n",
       "      <td>3033.4</td>\n",
       "      <td>0.7</td>\n",
       "    </tr>\n",
       "    <tr>\n",
       "      <th>2015.0</th>\n",
       "      <td>17432.2</td>\n",
       "      <td>11934.3</td>\n",
       "      <td>3121.8</td>\n",
       "      <td>2375.2</td>\n",
       "      <td>3094.8</td>\n",
       "      <td>3088.2</td>\n",
       "      <td>11.3</td>\n",
       "    </tr>\n",
       "    <tr>\n",
       "      <th>2016.0</th>\n",
       "      <td>17730.5</td>\n",
       "      <td>12264.6</td>\n",
       "      <td>3074.8</td>\n",
       "      <td>2382.3</td>\n",
       "      <td>3145.9</td>\n",
       "      <td>3144.4</td>\n",
       "      <td>22.3</td>\n",
       "    </tr>\n",
       "    <tr>\n",
       "      <th>2017.0</th>\n",
       "      <td>18144.1</td>\n",
       "      <td>12587.2</td>\n",
       "      <td>3183.4</td>\n",
       "      <td>2475.5</td>\n",
       "      <td>3292.4</td>\n",
       "      <td>3172.3</td>\n",
       "      <td>20.8</td>\n",
       "    </tr>\n",
       "    <tr>\n",
       "      <th>2018.0</th>\n",
       "      <td>18687.8</td>\n",
       "      <td>12928.1</td>\n",
       "      <td>3384.9</td>\n",
       "      <td>2549.5</td>\n",
       "      <td>3427.2</td>\n",
       "      <td>3229.8</td>\n",
       "      <td>1.1</td>\n",
       "    </tr>\n",
       "    <tr>\n",
       "      <th>2019.0</th>\n",
       "      <td>19091.7</td>\n",
       "      <td>13240.2</td>\n",
       "      <td>3442.6</td>\n",
       "      <td>2546.6</td>\n",
       "      <td>3464.2</td>\n",
       "      <td>3303.9</td>\n",
       "      <td>-25.0</td>\n",
       "    </tr>\n",
       "  </tbody>\n",
       "</table>\n",
       "</div>"
      ],
      "text/plain": [
       "            gdp     cons     inv     exp     imp     gov   res\n",
       "year                                                          \n",
       "2010.0  15598.8  10643.0  2216.5  1977.9  2543.8  3307.2 -11.3\n",
       "2011.0  15840.7  10843.8  2362.1  2119.0  2687.1  3203.3  -3.7\n",
       "2012.0  16197.0  11006.8  2621.8  2191.3  2759.9  3137.0   0.0\n",
       "2013.0  16495.4  11166.9  2801.5  2269.6  2802.4  3061.0  -0.4\n",
       "2014.0  16912.0  11497.4  2959.2  2365.3  2942.5  3033.4   0.7\n",
       "2015.0  17432.2  11934.3  3121.8  2375.2  3094.8  3088.2  11.3\n",
       "2016.0  17730.5  12264.6  3074.8  2382.3  3145.9  3144.4  22.3\n",
       "2017.0  18144.1  12587.2  3183.4  2475.5  3292.4  3172.3  20.8\n",
       "2018.0  18687.8  12928.1  3384.9  2549.5  3427.2  3229.8   1.1\n",
       "2019.0  19091.7  13240.2  3442.6  2546.6  3464.2  3303.9 -25.0"
      ]
     },
     "execution_count": 1,
     "metadata": {},
     "output_type": "execute_result"
    }
   ],
   "source": [
    "import pandas as pd\n",
    "import matplotlib.pyplot as plt \n",
    "import seaborn as sns\n",
    "\n",
    "gdp = pd.read_csv('bea_gdp.csv', index_col='year')\n",
    "gdp.loc[gdp.index>=2010]"
   ]
  },
  {
   "cell_type": "markdown",
   "metadata": {},
   "source": [
    "If you are anything like me, you probably have no idea how to answer these questions by looking at a table of numbers. \n",
    "\n",
    "Now take a look at this figure. \n",
    "\n",
    "* Is the correlation between investment spending (inv) and GDP (gdp) positive or negative? **Positive!**\n",
    "\n",
    "* Is the relationship linear? **Pretty much!**\n",
    "\n",
    "All the information that is in this figure is in the table of numbers from above.\n",
    "\n",
    "**Key idea: Visualizations are powerful ways to summarize large amounts of data.**"
   ]
  },
  {
   "cell_type": "code",
   "execution_count": 2,
   "metadata": {},
   "outputs": [
    {
     "data": {
      "image/png": "[encoded data removed]",
      "text/plain": [
       "<Figure size 720x360 with 1 Axes>"
      ]
     },
     "metadata": {
      "needs_background": "light"
     },
     "output_type": "display_data"
    }
   ],
   "source": [
    "fig, ax = plt.subplots(figsize=(10,5)) \n",
    "ax.scatter(gdp.loc[gdp.index>=2010,'gdp'], gdp.loc[gdp.index>=2010,'inv'],          # line plot of gdp vs. time\n",
    "        color='black'                   # set the line color to black\n",
    "       )  \n",
    "\n",
    "ax.set_ylabel('investment (billions of dollars)')\n",
    "ax.set_xlabel('gross domestic product (billions of dollars)')\n",
    "ax.set_title('U.S. investment spending and gdp')\n",
    "#ax.set_xlim(0, 20000)\n",
    "sns.despine(ax=ax)\n",
    "\n",
    "plt.show()"
   ]
  },
  {
   "cell_type": "markdown",
   "metadata": {},
   "source": [
    "## Graphical excellence\n",
    "\n",
    "You will sometime catch me saying: \"That is a pretty figure.\" This is an example of me being imprecise with language. I do not mean that the figure is pretty in an artistic sense&mdash;that it is an interpretation of humanity or an expression of the imagination&mdash;what I mean is that the figure is graphically excellent.$^1$ \n",
    "\n",
    "[Edward Tufte's](https://www.edwardtufte.com/tufte/books_vdqi) *The Visual Display of Quantitative Information* is a masterpiece of \"thinking hard about visualizations.\" The book is worth a read (or a look through). His Principles of Graphic Excellence are great to keep in mind. Two of my favorites:\n",
    "\n",
    "* Graphical excellence consists of complex ideas communicated with clarity, precision, and efficiency\n",
    "* Graphical excellence is that which gives the viewer the greatest number of ideas, in the shortest time, with the least ink, in the smallest space. \n",
    "\n",
    "Let us all strive for graphical excellence.\n",
    "\n",
    "What follows is a distillation of ideas from several sources as well as my own thoughts. I encourage you to look through these sources, too. \n",
    "\n",
    "* *Ten Simple Rules for Better Figures* ([Rougier, Droettboom, and Bourne, 2014](https://journals.plos.org/ploscompbiol/article?id=10.1371/journal.pcbi.1003833#s10)). The *big picture* discussion below is based on some of their rules. My favorite is: **Do not trust the defaults.** Not long, ago, [this was Excel's default](http://media.juiceanalytics.com/images/blog/excel_line_graph.png) chart formatting.\n",
    "\n",
    "\n",
    "* Tufte's [*The Visual Display of Quantitative Information*](https://www.edwardtufte.com/tufte/books_vdqi).\n",
    "\n",
    "\n",
    "* Cole Nussbaumer Knaflic's [*Storytelling with Data*](http://www.storytellingwithdata.com/). The book is a bit verbose for my tastes, but full of good advice. \n",
    "\n",
    "\n",
    "* [*Data Visualization: Rules and Guidelines*](https://datascience.quantecon.org/applications/visualization_rules.html) from the QuantEcon group. This entire website is good. \n",
    "\n",
    "\n",
    "\n",
    "&mdash;&mdash;&mdash;&mdash;&mdash;&mdash;<br>\n",
    "$^1$Trying to make a figure artistically beautiful is the path to the dark side. "
   ]
  },
  {
   "cell_type": "markdown",
   "metadata": {},
   "source": [
    "## The big picture\n",
    "\n",
    "We spend a lot of time on the details of our visualizations: data wrangling, formatting axes, choosing colors, labeling...\n",
    "\n",
    "Before working out the details of a visualization, we need to take a step back and get a handle on the big picture: \n",
    "\n",
    "1. Your message\n",
    "2. Your audience\n",
    "3. Your medium\n"
   ]
  },
  {
   "cell_type": "markdown",
   "metadata": {},
   "source": [
    "### 1. Know your message\n",
    "\n",
    "This is the most important part of any visualization. All of the decisions you make regarding the details of the figure will be made in support of your message. What message are you trying to convey? Some examples: \n",
    "\n",
    "\n",
    "* I want to show how a variable changed over time.\n",
    "* I want to compare a variable in two geographic locations. \n",
    "* I want to show how two variables are related to each other.\n",
    "* I want to show that something is big or small. \n",
    "\n",
    "As a general rule, each visualization should have **one message**. When you are deciding to include a figure in a project ask yourself: \"What do I want the reader to learn from this?\"   "
   ]
  },
  {
   "cell_type": "markdown",
   "metadata": {},
   "source": [
    "### 2. Know your audience\n",
    "\n",
    "Are you writing for an academic audience with a background in the subject? Are you writing for someone who knows a bit about statistics but nothing about your subject? Are you writing for the average reader of the Wall Street Journal? Of a blog?\n",
    "\n",
    "Defining your target audience will help keep your visualization appropriate. If you are writing for a general audience, you might not include the variance and autocorrelation of a variable&mdash;it's wasted ink. If you are writing for a math-literate audience, you probably do not need to explain what a log axis means. Your audience will be one factor in determining which details to include and which to leave out. "
   ]
  },
  {
   "cell_type": "markdown",
   "metadata": {},
   "source": [
    "### 3. Know your medium\n",
    "\n",
    "Where do you intend to publish your visualization? On paper? On the web? In a magazine? \n",
    "\n",
    "This is particularly important to keep in mind when you are thinking about color in a figure and whether to include fine details.\n",
    "\n",
    "When I am writing a research paper, I expect it to be printed out on paper for someone to read. This often happens in black-and-white, so I make sure my figures can be understood without color. Figures in a paper are usually only a few square inches, so I try to avoid small details that would be hard to read without magnification. \n",
    "\n",
    "\n",
    "When I make figures for a seminar presentation that will be projected onto a screen, I use color when it is useful. The large format of the figure also means that I can include more details, but those details have to be useful in supporting my message. Otherwise, I leave them out! \n",
    "\n",
    "\n",
    "In many cases, I make two versions of the same figure: one for the paper and another for the presentation. \n"
   ]
  },
  {
   "cell_type": "markdown",
   "metadata": {},
   "source": [
    "## Plot types\n",
    "\n",
    "Our message will largely drive the type of visualization we will use. There are many to choose from: The [Data Visualization Catalog](https://datavizcatalogue.com/index.html) provides an extensive list of plot types. \n",
    "\n",
    "In general, I use only a handful of plot types, and if you read the *New York Times*, *The Wall Street Journal*, *The Economist*, etc., you will notice the popularity of just a few types of visualizations: \n",
    "\n",
    "1. Line plots\n",
    "2. Scatter plots\n",
    "3. Bar plots\n",
    "4. Histograms\n",
    "5. Maps\n",
    "\n",
    "We briefly review these below. Again, we are not focusing on the code today. We are focusing on the design of the figure. We begin with data on the components of U.S. gross domestic product."
   ]
  },
  {
   "cell_type": "markdown",
   "metadata": {},
   "source": [
    "### 1. Line plots\n",
    "\n",
    "Line plots are good for showing the evolution of a variable over many time periods. Typically, time is on the x axis and the variable of interest in on the y axis. Although we only have data at each year, we connect the points with a line. This is reflecting the idea that we think the variable is growing continuously over time. \n",
    "\n",
    "If we only have data for a few points in time we might be better off with a bar chart (see below). The issue is that it is harder to interpolate (draw the line) between the few points.\n",
    "\n",
    "Below, we plot U.S. GDP from 1929 to 2019. Time is on the x axis and GDP is on the y axis. \n",
    "\n",
    "**The message:** GDP has grown a lot since 1929. The shape of the curve suggests that the growth is exponential. "
   ]
  },
  {
   "cell_type": "code",
   "execution_count": 3,
   "metadata": {},
   "outputs": [
    {
     "data": {
      "image/png": "[encoded data removed]",
      "text/plain": [
       "<Figure size 720x360 with 1 Axes>"
      ]
     },
     "metadata": {
      "needs_background": "light"
     },
     "output_type": "display_data"
    }
   ],
   "source": [
    "fig, ax = plt.subplots(figsize=(10,5)) \n",
    "ax.plot(gdp.index, gdp['gdp'],          # line plot of gdp vs. time\n",
    "        color='black'                   # set the line color to black\n",
    "       )  \n",
    "\n",
    "ax.set_ylabel('billions of dollars')\n",
    "ax.set_title('U.S. Gross Domestic Product')\n",
    "\n",
    "sns.despine(ax=ax)\n",
    "\n",
    "plt.show()"
   ]
  },
  {
   "cell_type": "markdown",
   "metadata": {},
   "source": [
    "Variants: Add markers, labels, or a legend. Use a log axis to make the exponential nature of growth more apparent. "
   ]
  },
  {
   "cell_type": "markdown",
   "metadata": {},
   "source": [
    "### 2. Scatter plots\n",
    "\n",
    "Scatter plots are good for showing the relationship between two variables. Each point corresponds to an (x,y) pair. Below, we plot aggregate investment spending (y-axis) and gdp (x-axis). \n",
    "\n",
    "**The message:** Investment is positively correlated with GDP. The relationship is roughly linear. "
   ]
  },
  {
   "cell_type": "code",
   "execution_count": 4,
   "metadata": {},
   "outputs": [
    {
     "data": {
      "image/png": "[encoded data removed]",
      "text/plain": [
       "<Figure size 720x360 with 1 Axes>"
      ]
     },
     "metadata": {
      "needs_background": "light"
     },
     "output_type": "display_data"
    }
   ],
   "source": [
    "fig, ax = plt.subplots(figsize=(10,5)) \n",
    "ax.scatter(gdp['gdp'], gdp['inv'],          # line plot of gdp vs. time\n",
    "        color='black'                   # set the line color to black\n",
    "       )  \n",
    "\n",
    "ax.set_ylabel('investment (billions of dollars)')\n",
    "ax.set_xlabel('gross domestic product (billions of dollars)')\n",
    "ax.set_title('U.S. investment spending and gdp')\n",
    "ax.set_xlim(0, 20000)\n",
    "sns.despine(ax=ax)\n",
    "\n",
    "plt.show()"
   ]
  },
  {
   "cell_type": "markdown",
   "metadata": {},
   "source": [
    "Variants: Add a regression line. Scale the points against a third variable.\n",
    "\n",
    "Below we add the regression line using the seaborn package. Now the message \"the relationship is linear\" is even more apparent. "
   ]
  },
  {
   "cell_type": "code",
   "execution_count": 5,
   "metadata": {},
   "outputs": [
    {
     "data": {
      "image/png": "[encoded data removed]",
      "text/plain": [
       "<Figure size 720x360 with 1 Axes>"
      ]
     },
     "metadata": {
      "needs_background": "light"
     },
     "output_type": "display_data"
    }
   ],
   "source": [
    "my_fig, my_ax = plt.subplots(figsize=(10,5)) \n",
    "\n",
    "sns.regplot(x='gdp', y='inv', data=gdp, ax = my_ax, color = 'black', ci = 0) \n",
    "\n",
    "sns.despine(ax=my_ax)\n",
    "my_ax.set(xlabel='gross domestic product (billions of dollars)', ylabel='investment (billions of dollars)')\n",
    "my_ax.set_title('U.S. investment spending and gdp')\n",
    "my_ax.set_xlim(0, 20000)\n",
    "plt.show()"
   ]
  },
  {
   "cell_type": "markdown",
   "metadata": {},
   "source": [
    "### 3. Bar plots\n",
    "\n",
    "Bar plots are good for comparing the values of relatively few, discrete observations. They are almost always preferred to a pie chart. \\[I cannot think of a case in which I would rather use a pie chart, but I'm leaving myself some wiggle room.\\] \n",
    "\n",
    "Below we plot the average GDP growth rate over two-decade intervals. We only have five data points. \n",
    "\n",
    "**The message:** GDP growth in the 1920s and 30s was low, peaked in the 40s and 50s, and has drifted lower since. "
   ]
  },
  {
   "cell_type": "code",
   "execution_count": 6,
   "metadata": {},
   "outputs": [
    {
     "data": {
      "image/png": "[encoded data removed]",
      "text/plain": [
       "<Figure size 720x360 with 1 Axes>"
      ]
     },
     "metadata": {
      "needs_background": "light"
     },
     "output_type": "display_data"
    }
   ],
   "source": [
    "# Compute the GDP growth rate. \n",
    "gdp['gdp_gr'] = gdp['gdp'].pct_change()*100\n",
    "# Create 20-year bins.\n",
    "gdp['long_period']=pd.cut(gdp.index, bins=range(1920,2021,20))\n",
    "# Take average over these 20-year bins.\n",
    "gdp_long = gdp.groupby('long_period').mean()\n",
    "\n",
    "fig, ax = plt.subplots(figsize=(10,5)) \n",
    "\n",
    "ax.bar(gdp_long.index.astype(str), gdp_long['gdp_gr'], color='silver')\n",
    "ax.set_ylabel('GDP growth rate (percent)')\n",
    "ax.set_title('U.S. GDP growth')\n",
    "sns.despine(ax=ax)"
   ]
  },
  {
   "cell_type": "markdown",
   "metadata": {},
   "source": [
    "Variants: horizontal bar plots."
   ]
  },
  {
   "cell_type": "markdown",
   "metadata": {},
   "source": [
    "### 4. Histograms\n",
    "\n",
    "Histograms are good for visualizing the distribution of a variable. In what range are the values concentrated? What are the minimum and maximum values? Histograms are typically displayed as bars. Each bar represents an interval of the values (often called *bins*) a variable can take and the height of the bar reports how often the data are in this interval. The x axis measures the values of the variable and the y axis measures the frequency of the value. \n",
    "\n",
    "Below, we plot the histogram of U.S. GDP growth rates. \n",
    "\n",
    "**The message:** GDP growth is often in the range of zero to five, but there have been large growth rates, both positive and negative. "
   ]
  },
  {
   "cell_type": "code",
   "execution_count": 7,
   "metadata": {},
   "outputs": [
    {
     "data": {
      "image/png": "[encoded data removed]",
      "text/plain": [
       "<Figure size 720x360 with 1 Axes>"
      ]
     },
     "metadata": {
      "needs_background": "light"
     },
     "output_type": "display_data"
    }
   ],
   "source": [
    "fig, ax = plt.subplots(figsize=(10,5)) \n",
    "\n",
    "ax.hist(gdp['gdp_gr'].dropna(), color='silver', density=True, rwidth=0.95)\n",
    "\n",
    "ax.set_ylim(0, 0.1)\n",
    "sns.despine(ax=ax)\n",
    "ax.set_xlabel('GDP growth rate (percent)')\n",
    "ax.set_ylabel('density')\n",
    "plt.show()"
   ]
  },
  {
   "cell_type": "markdown",
   "metadata": {},
   "source": [
    "Variants: Kernel density plots, which estimate a continuous pdf from the data. Adding a line to represent the mean of the data."
   ]
  },
  {
   "cell_type": "markdown",
   "metadata": {},
   "source": [
    "### 5. Maps\n",
    "\n",
    "Maps are useful for displaying the spatial dimension of data. How is a variable distributed geographically? Is it concentrated in one part of the country? (e.g., housing prices are most expensive on the coasts; corn is mostly grown in the midwest) Is a variable correlated with geographic features? (e.g., truck stops are located near highways; bars are located near universities)\n",
    "\n",
    "Below, we plot the cumulative number of covid-19 cases per capita, by county, in Wisconsin. Is there a spatial relationship in the spread of the virus?\n",
    "\n",
    "**The message:** There are three clusters of cases. One around Menominee County, one around Jackson County, and one around Dodge County. "
   ]
  },
  {
   "cell_type": "code",
   "execution_count": 8,
   "metadata": {},
   "outputs": [
    {
     "ename": "DriverError",
     "evalue": "map_data: No such file or directory",
     "output_type": "error",
     "traceback": [
      "\u001b[1;31m---------------------------------------------------------------------------\u001b[0m",
      "\u001b[1;31mCPLE_OpenFailedError\u001b[0m                      Traceback (most recent call last)",
      "\u001b[1;32mfiona\\_shim.pyx\u001b[0m in \u001b[0;36mfiona._shim.gdal_open_vector\u001b[1;34m()\u001b[0m\n",
      "\u001b[1;32mfiona\\_err.pyx\u001b[0m in \u001b[0;36mfiona._err.exc_wrap_pointer\u001b[1;34m()\u001b[0m\n",
      "\u001b[1;31mCPLE_OpenFailedError\u001b[0m: map_data: No such file or directory",
      "\nDuring handling of the above exception, another exception occurred:\n",
      "\u001b[1;31mDriverError\u001b[0m                               Traceback (most recent call last)",
      "\u001b[1;32m<ipython-input-8-fc0cb17ffe94>\u001b[0m in \u001b[0;36m<module>\u001b[1;34m\u001b[0m\n\u001b[0;32m      1\u001b[0m \u001b[1;32mimport\u001b[0m \u001b[0mgeopandas\u001b[0m \u001b[1;32mas\u001b[0m \u001b[0mgeo\u001b[0m\u001b[1;33m\u001b[0m\u001b[1;33m\u001b[0m\u001b[0m\n\u001b[1;32m----> 2\u001b[1;33m \u001b[0mmap_data\u001b[0m \u001b[1;33m=\u001b[0m \u001b[0mgeo\u001b[0m\u001b[1;33m.\u001b[0m\u001b[0mread_file\u001b[0m\u001b[1;33m(\u001b[0m\u001b[1;34m'map_data'\u001b[0m\u001b[1;33m)\u001b[0m\u001b[1;33m\u001b[0m\u001b[1;33m\u001b[0m\u001b[0m\n\u001b[0m\u001b[0;32m      3\u001b[0m \u001b[1;33m\u001b[0m\u001b[0m\n\u001b[0;32m      4\u001b[0m \u001b[0mfig\u001b[0m\u001b[1;33m,\u001b[0m \u001b[0max\u001b[0m \u001b[1;33m=\u001b[0m \u001b[0mplt\u001b[0m\u001b[1;33m.\u001b[0m\u001b[0msubplots\u001b[0m\u001b[1;33m(\u001b[0m\u001b[0mfigsize\u001b[0m\u001b[1;33m=\u001b[0m\u001b[1;33m(\u001b[0m\u001b[1;36m10\u001b[0m\u001b[1;33m,\u001b[0m\u001b[1;36m8\u001b[0m\u001b[1;33m)\u001b[0m\u001b[1;33m)\u001b[0m\u001b[1;33m\u001b[0m\u001b[1;33m\u001b[0m\u001b[0m\n\u001b[0;32m      5\u001b[0m \u001b[1;33m\u001b[0m\u001b[0m\n",
      "\u001b[1;32mC:\\ProgramData\\Anaconda3\\lib\\site-packages\\geopandas\\io\\file.py\u001b[0m in \u001b[0;36m_read_file\u001b[1;34m(filename, bbox, mask, rows, **kwargs)\u001b[0m\n\u001b[0;32m    158\u001b[0m \u001b[1;33m\u001b[0m\u001b[0m\n\u001b[0;32m    159\u001b[0m     \u001b[1;32mwith\u001b[0m \u001b[0mfiona_env\u001b[0m\u001b[1;33m(\u001b[0m\u001b[1;33m)\u001b[0m\u001b[1;33m:\u001b[0m\u001b[1;33m\u001b[0m\u001b[1;33m\u001b[0m\u001b[0m\n\u001b[1;32m--> 160\u001b[1;33m         \u001b[1;32mwith\u001b[0m \u001b[0mreader\u001b[0m\u001b[1;33m(\u001b[0m\u001b[0mpath_or_bytes\u001b[0m\u001b[1;33m,\u001b[0m \u001b[1;33m**\u001b[0m\u001b[0mkwargs\u001b[0m\u001b[1;33m)\u001b[0m \u001b[1;32mas\u001b[0m \u001b[0mfeatures\u001b[0m\u001b[1;33m:\u001b[0m\u001b[1;33m\u001b[0m\u001b[1;33m\u001b[0m\u001b[0m\n\u001b[0m\u001b[0;32m    161\u001b[0m \u001b[1;33m\u001b[0m\u001b[0m\n\u001b[0;32m    162\u001b[0m             \u001b[1;31m# In a future Fiona release the crs attribute of features will\u001b[0m\u001b[1;33m\u001b[0m\u001b[1;33m\u001b[0m\u001b[1;33m\u001b[0m\u001b[0m\n",
      "\u001b[1;32mC:\\ProgramData\\Anaconda3\\lib\\site-packages\\fiona\\env.py\u001b[0m in \u001b[0;36mwrapper\u001b[1;34m(*args, **kwargs)\u001b[0m\n\u001b[0;32m    406\u001b[0m     \u001b[1;32mdef\u001b[0m \u001b[0mwrapper\u001b[0m\u001b[1;33m(\u001b[0m\u001b[1;33m*\u001b[0m\u001b[0margs\u001b[0m\u001b[1;33m,\u001b[0m \u001b[1;33m**\u001b[0m\u001b[0mkwargs\u001b[0m\u001b[1;33m)\u001b[0m\u001b[1;33m:\u001b[0m\u001b[1;33m\u001b[0m\u001b[1;33m\u001b[0m\u001b[0m\n\u001b[0;32m    407\u001b[0m         \u001b[1;32mif\u001b[0m \u001b[0mlocal\u001b[0m\u001b[1;33m.\u001b[0m\u001b[0m_env\u001b[0m\u001b[1;33m:\u001b[0m\u001b[1;33m\u001b[0m\u001b[1;33m\u001b[0m\u001b[0m\n\u001b[1;32m--> 408\u001b[1;33m             \u001b[1;32mreturn\u001b[0m \u001b[0mf\u001b[0m\u001b[1;33m(\u001b[0m\u001b[1;33m*\u001b[0m\u001b[0margs\u001b[0m\u001b[1;33m,\u001b[0m \u001b[1;33m**\u001b[0m\u001b[0mkwargs\u001b[0m\u001b[1;33m)\u001b[0m\u001b[1;33m\u001b[0m\u001b[1;33m\u001b[0m\u001b[0m\n\u001b[0m\u001b[0;32m    409\u001b[0m         \u001b[1;32melse\u001b[0m\u001b[1;33m:\u001b[0m\u001b[1;33m\u001b[0m\u001b[1;33m\u001b[0m\u001b[0m\n\u001b[0;32m    410\u001b[0m             \u001b[1;32mif\u001b[0m \u001b[0misinstance\u001b[0m\u001b[1;33m(\u001b[0m\u001b[0margs\u001b[0m\u001b[1;33m[\u001b[0m\u001b[1;36m0\u001b[0m\u001b[1;33m]\u001b[0m\u001b[1;33m,\u001b[0m \u001b[0mstr\u001b[0m\u001b[1;33m)\u001b[0m\u001b[1;33m:\u001b[0m\u001b[1;33m\u001b[0m\u001b[1;33m\u001b[0m\u001b[0m\n",
      "\u001b[1;32mC:\\ProgramData\\Anaconda3\\lib\\site-packages\\fiona\\__init__.py\u001b[0m in \u001b[0;36mopen\u001b[1;34m(fp, mode, driver, schema, crs, encoding, layer, vfs, enabled_drivers, crs_wkt, **kwargs)\u001b[0m\n\u001b[0;32m    257\u001b[0m \u001b[1;33m\u001b[0m\u001b[0m\n\u001b[0;32m    258\u001b[0m         \u001b[1;32mif\u001b[0m \u001b[0mmode\u001b[0m \u001b[1;32min\u001b[0m \u001b[1;33m(\u001b[0m\u001b[1;34m'a'\u001b[0m\u001b[1;33m,\u001b[0m \u001b[1;34m'r'\u001b[0m\u001b[1;33m)\u001b[0m\u001b[1;33m:\u001b[0m\u001b[1;33m\u001b[0m\u001b[1;33m\u001b[0m\u001b[0m\n\u001b[1;32m--> 259\u001b[1;33m             c = Collection(path, mode, driver=driver, encoding=encoding,\n\u001b[0m\u001b[0;32m    260\u001b[0m                            layer=layer, enabled_drivers=enabled_drivers, **kwargs)\n\u001b[0;32m    261\u001b[0m         \u001b[1;32melif\u001b[0m \u001b[0mmode\u001b[0m \u001b[1;33m==\u001b[0m \u001b[1;34m'w'\u001b[0m\u001b[1;33m:\u001b[0m\u001b[1;33m\u001b[0m\u001b[1;33m\u001b[0m\u001b[0m\n",
      "\u001b[1;32mC:\\ProgramData\\Anaconda3\\lib\\site-packages\\fiona\\collection.py\u001b[0m in \u001b[0;36m__init__\u001b[1;34m(self, path, mode, driver, schema, crs, encoding, layer, vsi, archive, enabled_drivers, crs_wkt, ignore_fields, ignore_geometry, **kwargs)\u001b[0m\n\u001b[0;32m    160\u001b[0m             \u001b[1;32mif\u001b[0m \u001b[0mself\u001b[0m\u001b[1;33m.\u001b[0m\u001b[0mmode\u001b[0m \u001b[1;33m==\u001b[0m \u001b[1;34m'r'\u001b[0m\u001b[1;33m:\u001b[0m\u001b[1;33m\u001b[0m\u001b[1;33m\u001b[0m\u001b[0m\n\u001b[0;32m    161\u001b[0m                 \u001b[0mself\u001b[0m\u001b[1;33m.\u001b[0m\u001b[0msession\u001b[0m \u001b[1;33m=\u001b[0m \u001b[0mSession\u001b[0m\u001b[1;33m(\u001b[0m\u001b[1;33m)\u001b[0m\u001b[1;33m\u001b[0m\u001b[1;33m\u001b[0m\u001b[0m\n\u001b[1;32m--> 162\u001b[1;33m                 \u001b[0mself\u001b[0m\u001b[1;33m.\u001b[0m\u001b[0msession\u001b[0m\u001b[1;33m.\u001b[0m\u001b[0mstart\u001b[0m\u001b[1;33m(\u001b[0m\u001b[0mself\u001b[0m\u001b[1;33m,\u001b[0m \u001b[1;33m**\u001b[0m\u001b[0mkwargs\u001b[0m\u001b[1;33m)\u001b[0m\u001b[1;33m\u001b[0m\u001b[1;33m\u001b[0m\u001b[0m\n\u001b[0m\u001b[0;32m    163\u001b[0m             \u001b[1;32melif\u001b[0m \u001b[0mself\u001b[0m\u001b[1;33m.\u001b[0m\u001b[0mmode\u001b[0m \u001b[1;32min\u001b[0m \u001b[1;33m(\u001b[0m\u001b[1;34m'a'\u001b[0m\u001b[1;33m,\u001b[0m \u001b[1;34m'w'\u001b[0m\u001b[1;33m)\u001b[0m\u001b[1;33m:\u001b[0m\u001b[1;33m\u001b[0m\u001b[1;33m\u001b[0m\u001b[0m\n\u001b[0;32m    164\u001b[0m                 \u001b[0mself\u001b[0m\u001b[1;33m.\u001b[0m\u001b[0msession\u001b[0m \u001b[1;33m=\u001b[0m \u001b[0mWritingSession\u001b[0m\u001b[1;33m(\u001b[0m\u001b[1;33m)\u001b[0m\u001b[1;33m\u001b[0m\u001b[1;33m\u001b[0m\u001b[0m\n",
      "\u001b[1;32mfiona\\ogrext.pyx\u001b[0m in \u001b[0;36mfiona.ogrext.Session.start\u001b[1;34m()\u001b[0m\n",
      "\u001b[1;32mfiona\\_shim.pyx\u001b[0m in \u001b[0;36mfiona._shim.gdal_open_vector\u001b[1;34m()\u001b[0m\n",
      "\u001b[1;31mDriverError\u001b[0m: map_data: No such file or directory"
     ]
    }
   ],
   "source": [
    "import geopandas as geo\n",
    "map_data = geo.read_file('map_data')\n",
    "\n",
    "fig, ax = plt.subplots(figsize=(10,8))\n",
    "\n",
    "lkwds={'label': 'Cumulative cases per capita (percent)'}\n",
    "\n",
    "map_data.plot(ax = ax, column='PCT_INF', cmap='Reds', legend=True, legend_kwds = lkwds)\n",
    "plt.axis('off')\n",
    "\n",
    "plt.show()"
   ]
  },
  {
   "cell_type": "markdown",
   "metadata": {},
   "source": [
    "## Practice problems\n",
    "\n",
    "Use markdown cells to write out your answers to the practice problems. "
   ]
  },
  {
   "cell_type": "markdown",
   "metadata": {},
   "source": [
    "### 1. Match the message to the plot type\n",
    "For each of the messages below, choose the appropriate plot type. Describe what variable would be on each axis, if applicable.\n",
    "\n",
    "You have daily data on the temperature in Madison, WI and the number of bikes that crossed [the bike counter at Regent St and Monroe St](https://www.cityofmadison.com/bikemadison/planning/visualbikecounter.cfm). \n",
    "\n",
    "1. I want to show that the temperature is coldest in January and February. \n",
    "2. I want to show that fewer people ride bikes when the weather is cold. \n",
    "\n",
    "You have data on the locations for Walmart distribution centers and Walmart stores. You also have data on the population density of the counties in which Walmart stores are located.\n",
    "\n",
    "3. I want to show that Walmart stores cluster around Walmart distribution centers. \n",
    "4. I want to show that Walmart stores are located in \"medium\" density locations and not in extremely dense cities like New York.\n"
   ]
  },
  {
   "cell_type": "markdown",
   "metadata": {},
   "source": [
    "# practice problem 1\n",
    "### 1\n",
    "Bar chart / line polt\n",
    "x-axis => month(date) y-axis => temperature\n",
    "### 2\n",
    "Histograms  \n",
    "Scatter plots\n",
    "x-axis => temperature y-axis => peopel who ride bikes dots => daily observation \n",
    "\n",
    "### 3\n",
    "maps\n",
    "Choropleth Map\n",
    "\n",
    "\n",
    "### 4\n",
    "Histograms  x-axis => density y-axis => number/distance of walmart\n",
    "Choropleth Map with dot map  Choropleth Map =>density dot map=> the location of walmart"
   ]
  },
  {
   "cell_type": "markdown",
   "metadata": {},
   "source": [
    "### 2. Know your medium\n",
    "\n",
    "Visualizations meant for online distribution are often interactive. Hovering over parts of the figure pop up additional information. [Here](https://www.tradewartracker.com/) is an example that tracks the US-China trade dispute.\n",
    "\n",
    "1. What are the benefits of creating an interactive visualization?\n",
    "2. What are the potential problems with an interactive visualization? "
   ]
  },
  {
   "cell_type": "markdown",
   "metadata": {},
   "source": [
    "# practice problem 2\n",
    "\n",
    "### 1\n",
    "The biggest benefit is that the user can get more information without cluttering the visualization. I can hover over a part of the plot that interests me and see exactly what the value is at that point. To know this in a non-interactive figure, there would need to be data labels next to each point, or a very precise axis.\n",
    "\n",
    "\n",
    "### 2\n",
    "One potential problem is that the user gets lost in the details and misses the bigger picture. In the map (scroll down the page) I might get caught up trying to see what the value is for Dane county and miss the point that Northern Wisconsin and Minnesota have seen exports fall a lot. A second potential issue is mobile devices. If you view an interactive graphic on a small cellphone screen, it may be hard to zoom and scroll."
   ]
  },
  {
   "cell_type": "markdown",
   "metadata": {},
   "source": [
    "## Graphical concepts\n",
    "\n",
    "There are hundreds of details, rules, and best practices regarding visualization, but, as in most things, a few simple things make a big difference.  \n",
    "\n",
    "1. Clutter: spines and boxes\n",
    "2. Legends and labels\n",
    "3. Color\n",
    "4. Axes formats"
   ]
  },
  {
   "cell_type": "markdown",
   "metadata": {},
   "source": [
    "### 1. Clutter\n",
    "\n",
    "Remember Tufte's principle of \"the least ink.\" Every mark in a figure should be doing something. If it is not, it is clutter and should be eliminated. This is the **golden rule** of visualization.\n",
    "\n",
    "Boxes around figures (which are made up of four \"spines\") are inexplicably the default behavior of many plotting packages, including matplotlib. Compare the images below. \n",
    "\n",
    "Do the top and right spines help you better understand the GDP figure? They do not, so I remove them. You can turn off spines individually:\n",
    "```python\n",
    "ax.spines['top'].set_visible(False)\n",
    "ax.spines['right'].set_visible(False)\n",
    "```\n",
    "or use the seaborn package \n",
    "```python\n",
    "import seaborn as sns\n",
    "sns.despine(ax=ax)\n",
    "```\n",
    "\n",
    "\n",
    "In the map example, it's even worse. Do you need to know the coordinate values in the map? Is our goal to navigate to [Woodruff, WI](https://www.roadsideamerica.com/story/2255)? It is more efficient to just turn the axes off. \n",
    "\n",
    "```python\n",
    "plt.axis('off');\n",
    "```\n"
   ]
  },
  {
   "cell_type": "code",
   "execution_count": 9,
   "metadata": {},
   "outputs": [
    {
     "ename": "NameError",
     "evalue": "name 'map_data' is not defined",
     "output_type": "error",
     "traceback": [
      "\u001b[1;31m---------------------------------------------------------------------------\u001b[0m",
      "\u001b[1;31mNameError\u001b[0m                                 Traceback (most recent call last)",
      "\u001b[1;32m<ipython-input-9-86921626336c>\u001b[0m in \u001b[0;36m<module>\u001b[1;34m\u001b[0m\n\u001b[0;32m      9\u001b[0m \u001b[1;33m\u001b[0m\u001b[0m\n\u001b[0;32m     10\u001b[0m \u001b[0mlkwds\u001b[0m\u001b[1;33m=\u001b[0m\u001b[1;33m{\u001b[0m\u001b[1;34m'label'\u001b[0m\u001b[1;33m:\u001b[0m \u001b[1;34m'Cumulative cases per capita (percent)'\u001b[0m\u001b[1;33m}\u001b[0m\u001b[1;33m\u001b[0m\u001b[1;33m\u001b[0m\u001b[0m\n\u001b[1;32m---> 11\u001b[1;33m \u001b[0mmap_data\u001b[0m\u001b[1;33m.\u001b[0m\u001b[0mplot\u001b[0m\u001b[1;33m(\u001b[0m\u001b[0max\u001b[0m \u001b[1;33m=\u001b[0m \u001b[0max\u001b[0m\u001b[1;33m[\u001b[0m\u001b[1;36m1\u001b[0m\u001b[1;33m]\u001b[0m\u001b[1;33m[\u001b[0m\u001b[1;36m1\u001b[0m\u001b[1;33m]\u001b[0m\u001b[1;33m,\u001b[0m \u001b[0mcolumn\u001b[0m\u001b[1;33m=\u001b[0m\u001b[1;34m'PCT_INF'\u001b[0m\u001b[1;33m,\u001b[0m \u001b[0mcmap\u001b[0m\u001b[1;33m=\u001b[0m\u001b[1;34m'Reds'\u001b[0m\u001b[1;33m,\u001b[0m \u001b[0mlegend\u001b[0m\u001b[1;33m=\u001b[0m\u001b[1;32mTrue\u001b[0m\u001b[1;33m)\u001b[0m\u001b[1;33m\u001b[0m\u001b[1;33m\u001b[0m\u001b[0m\n\u001b[0m\u001b[0;32m     12\u001b[0m \u001b[0mmap_data\u001b[0m\u001b[1;33m.\u001b[0m\u001b[0mplot\u001b[0m\u001b[1;33m(\u001b[0m\u001b[0max\u001b[0m \u001b[1;33m=\u001b[0m \u001b[0max\u001b[0m\u001b[1;33m[\u001b[0m\u001b[1;36m1\u001b[0m\u001b[1;33m]\u001b[0m\u001b[1;33m[\u001b[0m\u001b[1;36m0\u001b[0m\u001b[1;33m]\u001b[0m\u001b[1;33m,\u001b[0m \u001b[0mcolumn\u001b[0m\u001b[1;33m=\u001b[0m\u001b[1;34m'PCT_INF'\u001b[0m\u001b[1;33m,\u001b[0m \u001b[0mcmap\u001b[0m\u001b[1;33m=\u001b[0m\u001b[1;34m'Reds'\u001b[0m\u001b[1;33m,\u001b[0m \u001b[0mlegend\u001b[0m\u001b[1;33m=\u001b[0m\u001b[1;32mTrue\u001b[0m\u001b[1;33m)\u001b[0m\u001b[1;33m\u001b[0m\u001b[1;33m\u001b[0m\u001b[0m\n\u001b[0;32m     13\u001b[0m \u001b[0mplt\u001b[0m\u001b[1;33m.\u001b[0m\u001b[0maxis\u001b[0m\u001b[1;33m(\u001b[0m\u001b[1;34m'off'\u001b[0m\u001b[1;33m)\u001b[0m\u001b[1;33m\u001b[0m\u001b[1;33m\u001b[0m\u001b[0m\n",
      "\u001b[1;31mNameError\u001b[0m: name 'map_data' is not defined"
     ]
    },
    {
     "data": {
      "image/png": "[encoded data removed]",
      "text/plain": [
       "<Figure size 864x720 with 4 Axes>"
      ]
     },
     "metadata": {
      "needs_background": "light"
     },
     "output_type": "display_data"
    }
   ],
   "source": [
    "fig, ax = plt.subplots(2, 2, figsize=(12,10)) \n",
    "\n",
    "for a in range(0,2):\n",
    "    ax[0][a].plot(gdp.index, gdp['gdp'], color='black')  \n",
    "    ax[0][a].set_ylabel('billions of dollars')\n",
    "    ax[0][a].set_title('U.S. Gross Domestic Product')\n",
    "\n",
    "    sns.despine(ax=ax[0][1])\n",
    "\n",
    "lkwds={'label': 'Cumulative cases per capita (percent)'}\n",
    "map_data.plot(ax = ax[1][1], column='PCT_INF', cmap='Reds', legend=True)\n",
    "map_data.plot(ax = ax[1][0], column='PCT_INF', cmap='Reds', legend=True)\n",
    "plt.axis('off')    \n",
    "    \n",
    "    \n",
    "plt.show()"
   ]
  },
  {
   "cell_type": "markdown",
   "metadata": {},
   "source": [
    "### 2. Legends and labels\n",
    "\n",
    "In the figures below, I have added investment spending to our gdp figure. How do we tell the two apart? One way is to use a legend. Notice that the default legend has a box around it. More clutter. We turn the box off with \n",
    "\n",
    "```python\n",
    "ax.legend(frameon=False)\n",
    "```\n",
    "\n",
    "An alternative approach is to add labels directly to the figure. This approach has two big advantages. First, the reader does not need to look back-and-forth between the legend and the lines to keep track of which line is which. Second, I do not need to rely on color or different line styles to differentiate the lines. \n",
    "\n",
    "```python\n",
    "ax[1].text(1980, 9500, 'gdp')\n",
    "ax[1].text(1980, 2600, 'investment')\n",
    "```\n",
    "\n",
    "This approach is not always applicable. If the lines are very close to each other, if there are many lines, or if the lines overlap, then it may be preferable to use a legend. "
   ]
  },
  {
   "cell_type": "code",
   "execution_count": null,
   "metadata": {},
   "outputs": [],
   "source": [
    "fig, ax = plt.subplots(1, 2, figsize=(12,5)) \n",
    "\n",
    "for a in range(0,2):\n",
    "    ax[a].plot(gdp.index, gdp['gdp'], color='black', label='gdp')  \n",
    "    ax[a].set_ylabel('billions of dollars')\n",
    "    ax[a].set_title('U.S. GDP and Investment')\n",
    "    sns.despine(ax=ax[a])\n",
    "    \n",
    "ax[0].plot(gdp.index, gdp['inv'], color='black', ls='--', label='investment')  \n",
    "ax[0].legend()\n",
    "\n",
    "ax[1].plot(gdp.index, gdp['inv'], color='black', ls='-', label='investment')  \n",
    "ax[1].text(1980, 9500, 'gdp')\n",
    "ax[1].text(1980, 2600, 'investment')\n",
    "\n",
    "plt.show()"
   ]
  },
  {
   "cell_type": "markdown",
   "metadata": {},
   "source": [
    "### 3. Color\n",
    "\n",
    "More than once I have asked someone why they used a color in their plot and the replied \"because it looks good.\" We are not making art here! We should be using color to make our figures more informative. The links at the top of this notebook contain more on color choice and [representing color in computer graphics](https://en.wikipedia.org/wiki/HSL_and_HSV) is fascinating in its own right. I want to just cover a few basics here. \n",
    "\n",
    "I mostly use color to \n",
    "\n",
    "1. Differentiate variables in a figure with many variables\n",
    "2. Indicate the value of a variable in a choropleth map \n",
    "\n",
    "I never use color\n",
    "\n",
    "1. In the background. Some people will use a very light gray as background in the plot. ggplot, seaborn, and FiveThirtyEight include gray backgrounds in their default style. If you think a gray background makes it easier to interpret your plot, then go for it.   \n",
    "\n",
    "### Differentiating variables\n",
    "In the figure below, I add more variables of the U.S. national income and product accounts. I try two different methods to differentiate the variables. "
   ]
  },
  {
   "cell_type": "code",
   "execution_count": null,
   "metadata": {},
   "outputs": [],
   "source": [
    "fig, ax = plt.subplots(1,2,figsize=(12,5)) \n",
    "\n",
    "ax[0].plot(gdp.index, gdp['gdp'], color='black', label='gdp')  \n",
    "ax[0].plot(gdp.index, gdp['cons'], color='blue', label='consumption')  \n",
    "ax[0].plot(gdp.index, gdp['inv'], color='red', label='investment') \n",
    "ax[0].plot(gdp.index, gdp['gov'], color='green', label='gov\\'t spending')  \n",
    "\n",
    "ax[1].plot(gdp.index, gdp['gdp'], color='black', label='gdp')  \n",
    "ax[1].plot(gdp.index, gdp['cons'], color='black', ls='--', label='consumption')  \n",
    "ax[1].plot(gdp.index, gdp['inv'], color='black', ls='-.', label='investment') \n",
    "ax[1].plot(gdp.index, gdp['gov'], color='black', ls=':', label='gov\\'t spending') \n",
    "\n",
    "for a in range(0,2):\n",
    "    ax[a].set_ylabel('billions of dollars')\n",
    "    ax[a].set_title('U.S. national accounts data')\n",
    "    ax[a].legend(frameon=False)\n",
    "    sns.despine(ax=ax[a])\n",
    "\n",
    "plt.savefig('color.jpg')\n",
    "plt.show()"
   ]
  },
  {
   "cell_type": "markdown",
   "metadata": {},
   "source": [
    "The color makes it easier to tell the lines apart, especially in the early periods, when the lines are close together and some overlap. The figure on the right takes more work to sort out which line pattern corresponds to which variable. \n",
    "\n",
    "**Warning**\n",
    "\n",
    "Suppose we include this figure in a pdf which someone prints out on a laser printer in black and white. The figure will be converted to grayscale for printing. Now, the left panel is useless. Know your medium. \n",
    "\n",
    "![grayscale version](http://kjrs3.com/misc/color-gs.jpg)"
   ]
  },
  {
   "cell_type": "markdown",
   "metadata": {},
   "source": [
    "### Mapping colors\n",
    "\n",
    "The second place I tend to use color in visualizations is to plot a variable in \"color space.\" The choropleth map of covid cases from above is a good example ([heatmaps](https://matplotlib.org/3.1.1/gallery/images_contours_and_fields/image_annotated_heatmap.html) are another). They key here is the choice of colormap. A *colormap* is a sequence of colors that are mapped to the values of a variable. In the covid map case, the colormap uses different intensities of the color red to indicate the value of the covid infection rate. The higher the value in the data, the darker the color red.  \n",
    "\n",
    "There are different types of colormaps that are good for different kinds of data. From the excellent [colormap tutorial](https://matplotlib.org/3.1.0/tutorials/colors/colormaps.html) at matplotlib: \n",
    "\n",
    ">Sequential: change in lightness and often saturation of color incrementally, often using a single hue; should be used for representing information that has ordering.\n",
    "\n",
    "\n",
    ">Diverging: change in lightness and possibly saturation of two different colors that meet in the middle at an unsaturated color; should be used when the information being plotted has a critical middle value, such as topography or when the data deviates around zero.\n",
    "\n",
    "\n",
    ">Cyclic: change in lightness of two different colors that meet in the middle and beginning/end at an unsaturated color; should be used for values that wrap around at the endpoints, such as phase angle, wind direction, or time of day.\n",
    "\n",
    ">Qualitative: often are miscellaneous colors; should be used to represent information which does not have ordering or relationships.\n",
    "\n"
   ]
  },
  {
   "cell_type": "markdown",
   "metadata": {},
   "source": [
    "Below, I have plotted the covid map using examples of the four types of colormaps. \n",
    "\n",
    "* The **sequential** map clearly works best here, as the data (the infection rate) has a natural, monotone order. \n",
    "\n",
    "* The **diverging** map is still useful. We just need to keep in mind that dark red is a high value and dark blue is a low value. The issue here, though, is that there is nothing interesting about the point in which we switch from blue to red (somewhere around 11 percent). Using the two-color scheme is not adding any new information. \n",
    "\n",
    "* The **cyclic** map is not very useful. The reader now has to keep track of light blues, purples, dark reds,...this is way too hard to interpret. \n",
    "\n",
    "* The **qualitative** map is useless in this context. There is no intuitive order to the colors and the discrete color blocks remove information from the visualization. "
   ]
  },
  {
   "cell_type": "code",
   "execution_count": null,
   "metadata": {},
   "outputs": [],
   "source": [
    "#https://matplotlib.org/3.1.0/tutorials/colors/colormaps.html\n",
    "\n",
    "fig, ax = plt.subplots(2, 2, figsize=(12,10)) \n",
    "\n",
    "\n",
    "lkwds={'label': 'Cumulative cases per capita (percent)'}\n",
    "\n",
    "for a, cm, t in zip(ax.reshape(-1), ['Reds', 'bwr', 'twilight', 'tab10'], ['Sequential', 'Diverging', 'Cyclic', 'Qualitative']):\n",
    "    map_data.plot(ax = a, column='PCT_INF', cmap=cm, legend=True)\n",
    "    a.set_title(t)\n",
    "    a.axis('off')\n",
    "\n",
    "\n",
    "    \n",
    "plt.show()"
   ]
  },
  {
   "cell_type": "markdown",
   "metadata": {},
   "source": [
    "### 4. Axes\n",
    "\n",
    "Axes (when applicable) are extremely important parts of visualizations and should be given with the same level of care as the rest of the figure. \n",
    "\n",
    "**Labels** <br>\n",
    "\n",
    "* **Always** label your axes! The only exception I make is when one axis is obviously the date. \n",
    "* Include the units your axes are measured in: percent, billions of dollars, dollars per unit,...\n",
    "\n",
    "**Ticks**<br>\n",
    "The plotting package you use will add ticks and labels. Often, they are reasonable, but **do not trust the default.** Check the ticks and labels and make sure they are excellent. \n",
    "\n",
    "* Do not use too many ticks and labels. \n",
    "* Use easy-to-interpret tick intervals. e.g., spaced apart by 100, rather than 106\n",
    "* If you need to control the limits of the axes use\n",
    "```python\n",
    "ax.set_xlim(minval, maxval)\n",
    "ax.set_ylim(minval, maxval)\n",
    "```\n",
    "* Set custom ticks by passing an array or list of tick values. `np.arrange()` is like the `range()` method but takes floats instead of ints.  \n",
    "```python\n",
    "tick_vals = np.arange(start, end, stepsize)\n",
    "ax.xaxis.set_ticks(tick_vals)\n",
    "```\n",
    "* Format the tick labels using string format codes\n",
    "```python\n",
    "from matplotlib.ticker import FormatStrFormatter\n",
    "ax.xaxis.set_major_formatter(FormatStrFormatter('%0.1f'))\n",
    "```\n",
    "* Rotate tick labels if they overlap (`ax.tick_params` can do [lots of things](https://matplotlib.org/3.3.3/api/_as_gen/matplotlib.axes.Axes.tick_params.html))\n",
    "```python\n",
    "ax.tick_params(axis='x', labelrotation=45)\n",
    "```"
   ]
  },
  {
   "cell_type": "markdown",
   "metadata": {},
   "source": [
    "Below, I plot the cumulative covid infection rate by county for 12/31/2020. To clean up the x axis, I remove the extra space using `set_xlim()` and I rotate the tick labels. By setting the tick length to zero, I remove the tick. It is not conveying any useful information.\n",
    "```python\n",
    "ax[1].set_xlim(-1, 72)\n",
    "ax[1].tick_params(axis='x', labelrotation=90, length=0)\n",
    "```\n",
    "My next step would be to sort the bars in ascending order so it is easy to see which counties have had the most infections per capita."
   ]
  },
  {
   "cell_type": "code",
   "execution_count": null,
   "metadata": {},
   "outputs": [],
   "source": [
    "fig, ax = plt.subplots(2,1, figsize=(16,12))\n",
    "\n",
    "for a in ax:\n",
    "    a.bar(map_data['NAME'], map_data['PCT_INF'], color='silver')\n",
    "    sns.despine(ax=a)\n",
    "    a.set_ylabel('Cumulative cases per capita (percent)')\n",
    "    a.set_title('Total covid cases per capita, by Wisconsin county (12/31/2020)')\n",
    "    \n",
    "# How to find the x limits\n",
    "# print(ax[0].get_xlim())\n",
    "\n",
    "ax[1].set_xlim(-1, 72)\n",
    "ax[1].tick_params(axis='x', labelrotation=90, length=0)"
   ]
  },
  {
   "cell_type": "markdown",
   "metadata": {},
   "source": [
    "## Summary \n",
    "\n",
    "Wow, that was a lot of things to keep straight! Let's summarize the big points. \n",
    "\n",
    "1. Know your message, your audience, and your medium. \n",
    "2. Choose the figure type that best conveys your message. \n",
    "3. Don't clutter your figure. Make sure every mark in your figure conveys information. \n",
    "4. Use color to convey your message, not to make your figure \"look nice.\"\n",
    "5. Use labels and text thoughtfully \n"
   ]
  },
  {
   "cell_type": "markdown",
   "metadata": {},
   "source": [
    "## Practice problems\n",
    "\n",
    "Use markdown cells to write out your answers to the practice problems. "
   ]
  },
  {
   "cell_type": "markdown",
   "metadata": {},
   "source": [
    "### 1. Rotating tick labels\n",
    "\n",
    "Jeff, a friend of mine, has a rule: \"The x-axis tick labels should never be rotated.\" His thinking is that if you need to rotate your labels, you are either using too many labels or the wrong type of chart. This rule definitely has merit. \n",
    "\n",
    "My bar chart on covid breaks this rule. We do not want to delete some of the labels, so we should think about altering the graph type. What type of chart should you use? How does it fix the problem?\n",
    "\n",
    "*Bonus problem for no extra points:* Copy my code for the bar graph into a new cell and modify it to create a figure that obeys Jeff's rule.   "
   ]
  },
  {
   "cell_type": "markdown",
   "metadata": {},
   "source": [
    "### 2. Know your message.\n",
    "Let's keep working on my covid figure. I want my message to be \"these counties have had high infection rates and these have had low infection rates.\" \n",
    "\n",
    "How would you modify the plot to make the message clearer?\n",
    "\n",
    "*Bonus problem for no extra points:* Modify your code to implement this change. "
   ]
  },
  {
   "cell_type": "markdown",
   "metadata": {},
   "source": [
    "### 3. Match the message to the plot type\n",
    "\n",
    "The map and the bar chart both represent the same data: The covid infection rate in WI counties. The difference is the message each plot represents. \n",
    "\n",
    "1. Why is a bar chart not a good idea when the message is: There are covid infection clusters around Menominee, Jackson, and Dodge counties?\n",
    "\n",
    "\n",
    "2. Why is a map not a good idea when the message is: Menominee, Dodge, Jackson, and Shawano are the four counties with the highest infection rates and Vernon, St. Croix, Dane, and Bayfield are the four counties with the lowest infection rates?"
   ]
  }
 ],
 "metadata": {
  "celltoolbar": "Edit Metadata",
  "hide_input": true,
  "kernelspec": {
   "display_name": "Python 3",
   "language": "python",
   "name": "python3"
  },
  "language_info": {
   "codemirror_mode": {
    "name": "ipython",
    "version": 3
   },
   "file_extension": ".py",
   "mimetype": "text/x-python",
   "name": "python",
   "nbconvert_exporter": "python",
   "pygments_lexer": "ipython3",
   "version": "3.8.8"
  }
 },
 "nbformat": 4,
 "nbformat_minor": 4
}
