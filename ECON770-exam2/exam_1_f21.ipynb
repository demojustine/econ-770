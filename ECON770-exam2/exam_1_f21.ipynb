{
 "cells": [
  {
   "cell_type": "markdown",
   "metadata": {},
   "source": [
    "# Exam 1, Fall 2021 (100 pts total)\n",
    "\n",
    "files needed = ('2021-02.csv', 'invest.csv', 'phil.xls'), which can be found in `exam1_data_f21.zip`\n",
    "\n",
    "You have 75 minutes to complete this exam.\n",
    "\n",
    "Answer all the questions below in this notebook. You should insert as many cells into the notebook as you need. When you are finished, upload your finished notebook to Canvas. \n",
    "\n",
    "* You may use your notes and the Internet, but you cannot work with others.  \n",
    "* Import any packages you need to complete this exam.\n",
    "* Do not modify the data files directly. All data manipulation should happen in your code.\n",
    "\n",
    "Remember, jupyter notebooks and python have lots of built-in help facilities. \n",
    "\n",
    "If you have a question, I am available at this zoom link: https://uwmadison.zoom.us/j/93329158371?pwd=czFVV0dNUmQwenJ6VXFCMEtJUEJRUT09 "
   ]
  },
  {
   "cell_type": "markdown",
   "metadata": {},
   "source": [
    "## Question 0 (5 pts): Yuan, Meng\n",
    " \n",
    "Replace 'Last, First' above with your actual name. Enter it as: last name, first name."
   ]
  },
  {
   "cell_type": "markdown",
   "metadata": {},
   "source": [
    "## Question 1 (10 pts): Visualization\n",
    "\n",
    "\n",
    "Go to this [link](http://kjrs3.com/misc/exam1_f21_q1.pdf).  It is a plot of the consumer price index (CPI), which is the average price in the United States at each point in time.  It uses the default figure settings from the FRED database.\n",
    "\n",
    "The *inflation rate* is the growth rate of the CPI. \n",
    "\n",
    "Insert a markdown cell below, and answer the following questions. \n",
    "\n",
    "1. I want to include this figure in a research paper that will be printed out in black and white and distributed. How would you change this figure? \n",
    "\n",
    "2. I want the message to be: \"the inflation rate in 2021 is high compared to its values since 2000.\" How would you change this figure?\n",
    "\n"
   ]
  },
  {
   "cell_type": "markdown",
   "metadata": {},
   "source": [
    "# Question 1 \n",
    "\n",
    "1. I would change the figure code like:\n",
    "When i assume that the dataset name is cpi and the year values is 'year' and cpi value is 'cpi_data'.\n",
    "```\n",
    "ax.plot(cpi['year'], cpi['cpi_data'], linewidth = 2.0,  color = 'black')\n",
    "```\n",
    "2. I will add a code like\n",
    "```\n",
    "ax.text(75, 75, 'The inflation rate in 2021 is high compared to its values since 2000', fontsize = 16)\n",
    "```"
   ]
  },
  {
   "cell_type": "markdown",
   "metadata": {},
   "source": [
    "## Question 2 (20 pts): Functions and flow control\n",
    "\n",
    "Write a function that takes two argumens: a list of weights ($\\omega$) and a list of values ($x$). There are $N$ values and weights. The function should return the weighted average of the values. \n",
    "\n",
    "$$\n",
    "\\text{weighted average} = \\sum_{i=0}^N(\\omega_i x_i)\n",
    "$$\n",
    "\n",
    "Use your function to compute the weighted average of the list `values` using the weights `weights`. Print out the weighted average as \n",
    "\n",
    "\"The weighted average is ??.??.\" Replace the ??.?? with the weighted average. \n",
    "\n",
    "```python\n",
    "weights = [0.1, 0.2, 0.05, 0.1, 0.15, 0.35, 0.03, 0.02]\n",
    "values = [25, 75, 33, 26, 87, 64, 21, 55]\n",
    "```"
   ]
  },
  {
   "cell_type": "code",
   "execution_count": 10,
   "metadata": {},
   "outputs": [
    {
     "name": "stdout",
     "output_type": "stream",
     "text": [
      "The weighted average is 2.50\n",
      "The weighted average is 15.00\n",
      "The weighted average is 1.65\n",
      "The weighted average is 2.60\n",
      "The weighted average is 13.05\n",
      "The weighted average is 22.40\n",
      "The weighted average is 0.63\n",
      "The weighted average is 1.10\n"
     ]
    }
   ],
   "source": [
    "# question 2\n",
    "\n",
    "def weighted_average(w, x):\n",
    "    w_a = []\n",
    "    for i in range(len(w)):\n",
    "        w_a.append(w[i] * x[i])\n",
    "    return w_a\n",
    "\n",
    "weights = [0.1, 0.2, 0.05, 0.1, 0.15, 0.35, 0.03, 0.02]\n",
    "values = [25, 75, 33, 26, 87, 64, 21, 55]\n",
    "\n",
    "weighted_average_values = weighted_average(weights, values)\n",
    "\n",
    "for j in range(len(weighted_average_values)):\n",
    "    print(\"The weighted average is {:.2f}\".format(weighted_average_values[j]))\n"
   ]
  },
  {
   "cell_type": "markdown",
   "metadata": {},
   "source": [
    "\n",
    "## Question 3 (20 pts): Selecting data from a DataFrame \n",
    "\n",
    "Load the file '2021-02.csv'. It contains U.S. imports by 10-digit harmonized system code, by country, for February 2021. \n",
    "\n",
    "An observation (row of the data) is the imports of a good from a country in Feburary 2021.\n",
    "\n",
    "The variables of interest: \n",
    "\n",
    "* `I_COMMODITY` = The code that identifies the type of good. Example:  6505002590 is the code for \"knitted hats.\"\n",
    "* `CTY_CODE` = The code that identifies the exporting country. Example: 2010 is the code for \"Mexico.\"\n",
    "* `GEN_VAL_MO` = The value of imports of the good\n",
    "\n",
    "\n",
    "Use python and pandas to answer the following questions.\n"
   ]
  },
  {
   "cell_type": "markdown",
   "metadata": {},
   "source": [
    "1. How many countries have positive `GEN_VAL_MO` for `I_COMMODITY` 6505002590? Print the answer as \n",
    "\n",
    "\"There are ?? countries with positive exports of 6505002590.\" Replace ?? with your answer."
   ]
  },
  {
   "cell_type": "code",
   "execution_count": 12,
   "metadata": {},
   "outputs": [
    {
     "name": "stdout",
     "output_type": "stream",
     "text": [
      "There are 38 countries with positive exports of 6505002590.\n"
     ]
    }
   ],
   "source": [
    "# question 3 \n",
    "#1\n",
    "import pandas as pd\n",
    "\n",
    "us_import1 = pd.read_csv(\"2021-02.csv\", usecols=[0,5,11])\n",
    "\n",
    "pos_export = us_import1.loc[(us_import1.GEN_VAL_MO > 0) & (us_import1.I_COMMODITY ==6505002590), 'GEN_VAL_MO'].count()\n",
    "\n",
    "print(\"There are {0:.0f} countries with positive exports of 6505002590.\".format(pos_export))"
   ]
  },
  {
   "cell_type": "markdown",
   "metadata": {},
   "source": [
    "2.  For this question\n",
    "    1. Compute the total value of imports of commodity 6505002590. \n",
    "    2. Compute the total value of imports of commodity 6505002590 **that are from country 2010.** \n",
    "    3. Report the share of total imports of commodity 6505002590 **that come from Mexico.** Report it as\n",
    "\n",
    "\"The share of total imports of commodity 6505002590 from Mexico is ?.?? percent.\"  \n",
    "\n",
    "Replace the ?.?? with your answer. "
   ]
  },
  {
   "cell_type": "code",
   "execution_count": 24,
   "metadata": {},
   "outputs": [
    {
     "name": "stdout",
     "output_type": "stream",
     "text": [
      "The share of total imports of commodity 6505002590 from Mexico is 3.07 percent.\n"
     ]
    }
   ],
   "source": [
    "#2\n",
    "total_value = us_import1.loc[(us_import1.GEN_VAL_MO > 0) & (us_import1.I_COMMODITY ==6505002590), 'GEN_VAL_MO'].sum()\n",
    "\n",
    "mexico_value = us_import1.loc[(us_import1.GEN_VAL_MO > 0) & (us_import1.I_COMMODITY ==6505002590) & (us_import1.CTY_CODE == 2010), 'GEN_VAL_MO'].sum()\n",
    "\n",
    "share = mexico_value / total_value \n",
    "\n",
    "print(\"The share of total imports of commodity 6505002590 from Mexico is {0:.2f} percent.\".format(share*100))"
   ]
  },
  {
   "cell_type": "markdown",
   "metadata": {},
   "source": [
    "3. Create a new DataFrame that contains only the columns `CTY_CODE`, `I_COMMODITY`, `VES_VAL_MO`, and `AIR_VAL_MO`. Drop all rows from this new DataFrame that do not have strictly positive values for **both** `VES_VAL_MO` and `AIR_VAL_MO`.\n",
    "\n",
    "Report the number of rows and columns in your new DataFrame as \n",
    "\n",
    "\"There are ????? rows and ? columns in the new DataFrame.\" \n",
    "\n",
    "Replace ? with the number of rows and ????? with the number of columns."
   ]
  },
  {
   "cell_type": "code",
   "execution_count": 43,
   "metadata": {},
   "outputs": [
    {
     "name": "stdout",
     "output_type": "stream",
     "text": [
      "There are 4 rows and 36269 columns in the new DataFrame.\n"
     ]
    }
   ],
   "source": [
    "#3\n",
    "us_import2 = pd.read_csv(\"2021-02.csv\", usecols=[2,3,5,11]\n",
    "us_import3 = us_import2.loc[(us_import2.VES_VAL_MO >0) & (us_import2.AIR_VAL_MO > 0)]\n",
    "\n",
    "cols = len(us_import3.sum(axis=1))\n",
    "rows = len(us_import3.sum(axis=0))\n",
    "\n",
    "print(\"There are {0} rows and {1} columns in the new DataFrame.\".format(rows, cols))"
   ]
  },
  {
   "cell_type": "markdown",
   "metadata": {},
   "source": [
    "## Question 4 (15 pts): Loading messy data\n",
    "\n",
    "The file 'invest.csv' contains quarterly U.S. private nonresidentrial fixed investment (PNFI). \n",
    "\n",
    "1. Load the file into a DataFrame. Print out 3 random rows from your DataFrame."
   ]
  },
  {
   "cell_type": "code",
   "execution_count": 47,
   "metadata": {
    "scrolled": true
   },
   "outputs": [
    {
     "data": {
      "text/html": [
       "<div>\n",
       "<style scoped>\n",
       "    .dataframe tbody tr th:only-of-type {\n",
       "        vertical-align: middle;\n",
       "    }\n",
       "\n",
       "    .dataframe tbody tr th {\n",
       "        vertical-align: top;\n",
       "    }\n",
       "\n",
       "    .dataframe thead th {\n",
       "        text-align: right;\n",
       "    }\n",
       "</style>\n",
       "<table border=\"1\" class=\"dataframe\">\n",
       "  <thead>\n",
       "    <tr style=\"text-align: right;\">\n",
       "      <th></th>\n",
       "      <th>observation_date</th>\n",
       "      <th>PNFI</th>\n",
       "    </tr>\n",
       "  </thead>\n",
       "  <tbody>\n",
       "    <tr>\n",
       "      <th>207</th>\n",
       "      <td>1998-10-01</td>\n",
       "      <td>1,295,444,000,000.00</td>\n",
       "    </tr>\n",
       "    <tr>\n",
       "      <th>31</th>\n",
       "      <td>1954-10-01</td>\n",
       "      <td>38,890,000,000.00</td>\n",
       "    </tr>\n",
       "    <tr>\n",
       "      <th>263</th>\n",
       "      <td>2012-10-01</td>\n",
       "      <td>2,148,622,000,000.00</td>\n",
       "    </tr>\n",
       "  </tbody>\n",
       "</table>\n",
       "</div>"
      ],
      "text/plain": [
       "    observation_date                    PNFI\n",
       "207       1998-10-01   1,295,444,000,000.00 \n",
       "31        1954-10-01      38,890,000,000.00 \n",
       "263       2012-10-01   2,148,622,000,000.00 "
      ]
     },
     "execution_count": 47,
     "metadata": {},
     "output_type": "execute_result"
    }
   ],
   "source": [
    "# question 4\n",
    "#1\n",
    "invest_data = pd.read_csv(\"invest.csv\", header = 11)\n",
    "\n",
    "invest_data.sample(3)\n"
   ]
  },
  {
   "cell_type": "markdown",
   "metadata": {},
   "source": [
    "2. Print out: \"Average investment is is ???,???,???,???.\" \n",
    "\n",
    "   Replace the ???,???,???,??? with the average PNFI. Note the commas separating the thousands and no digits to the right of the decimal point."
   ]
  },
  {
   "cell_type": "code",
   "execution_count": 60,
   "metadata": {},
   "outputs": [
    {
     "name": "stdout",
     "output_type": "stream",
     "text": [
      "Average investment is is 843,439,285,235.\n"
     ]
    }
   ],
   "source": [
    "#2\n",
    "invest_data['PNFI'] = invest_data['PNFI'].str.replace(',','')\n",
    "invest_data['PNFI'] = invest_data['PNFI'].astype(float)\n",
    "\n",
    "average1 = invest_data['PNFI'].mean()\n",
    "\n",
    "print(\"Average investment is is {0:,.0f}.\".format(average1))"
   ]
  },
  {
   "cell_type": "markdown",
   "metadata": {},
   "source": [
    "## Question 5 (30 pts): Plotting\n",
    "\n",
    "The file 'phil.xls' contains the U.S. unemployment rate and inflation rate. Use these data to recreate the figure below.  Some details:\n",
    " \n",
    "* The title font size is 20\n",
    "* The y-axis and y-axis label font size is 16\n",
    "* Adjust the size of the data markers (the stars) so that they are larger than the default. Do not make them so large that they are hard to read, though.\n",
    "* The x-axis min and max are (2, 15)\n",
    "\n",
    "![alt](http://kjrs3.com/misc/exam1_f21_q5.png)"
   ]
  },
  {
   "cell_type": "code",
   "execution_count": 101,
   "metadata": {},
   "outputs": [],
   "source": [
    "# question 5 \n",
    "import matplotlib.pyplot as plt\n",
    "phil_data = pd.read_excel(\"phil.xls\")\n"
   ]
  },
  {
   "cell_type": "code",
   "execution_count": 100,
   "metadata": {},
   "outputs": [
    {
     "data": {
      "image/png": "[encoded data removed]",
      "text/plain": [
       "<Figure size 1008x504 with 1 Axes>"
      ]
     },
     "metadata": {
      "needs_background": "light"
     },
     "output_type": "display_data"
    }
   ],
   "source": [
    "# Set the basics for the plot.\n",
    "fig, ax = plt.subplots(figsize=(14,7))\n",
    "ax.plot(phil_data.unemp, phil_data.infl, linestyle = 'None',  marker = '*', markersize=12, color = \"black\")\n",
    "\n",
    "# Set the title and the x and y lables.\n",
    "ax.set_title('The Phillips curve', fontsize = 20)\n",
    "ax.set_ylabel('inflation rate', fontsize = 16)\n",
    "ax.set_xlabel('unemployment rate', fontsize = 16)\n",
    "\n",
    "# Set the test for the plot.\n",
    "ax.text(4.05, 11.1, '2021-09-01', fontsize = 12)\n",
    "ax.text(13.7,4.1, '2021-04-01', fontsize = 12)\n",
    "\n",
    "\n",
    "# Adjust the frame of plot.\n",
    "ax.set_xlim(2, 15)\n",
    "ax.spines['right'].set_visible(False) \n",
    "ax.spines['top'].set_visible(False)  \n",
    "\n",
    "plt.show()"
   ]
  },
  {
   "cell_type": "markdown",
   "metadata": {},
   "source": [
    "### You are finished!\n",
    "Upload your completed notebook to Canvas."
   ]
  }
 ],
 "metadata": {
  "celltoolbar": "Edit Metadata",
  "hide_input": false,
  "kernelspec": {
   "display_name": "Python 3",
   "language": "python",
   "name": "python3"
  },
  "language_info": {
   "codemirror_mode": {
    "name": "ipython",
    "version": 3
   },
   "file_extension": ".py",
   "mimetype": "text/x-python",
   "name": "python",
   "nbconvert_exporter": "python",
   "pygments_lexer": "ipython3",
   "version": "3.8.8"
  }
 },
 "nbformat": 4,
 "nbformat_minor": 2
}
