{
 "cells": [
  {
   "cell_type": "markdown",
   "metadata": {},
   "source": [
    "# Exam 2, Fall 2021 (100 pts total)\n",
    "\n",
    "files needed = ('pl.csv', 'nval.csv', 'wdi_q4.csv') which can be found in `exam2_f21s1_data.zip`\n",
    "\n",
    "You have 75 minutes to complete this exam.\n",
    "\n",
    "Answer all the questions below in this notebook. You should insert as many cells into the notebook as you need. When you are finished, upload your finished notebook to Canvas. \n",
    "\n",
    "* You may use your notes and the Internet, but you cannot work with others.  \n",
    "* Import any packages you need to complete this exam.\n",
    "* Do not modify the data files. All data manipulation should happen in your code.\n",
    "\n",
    "**A word on plotting:** At this point in the course, I expect you to create graphically excellent visualizations. \n",
    "\n",
    "Remember, jupyter notebooks and python have lots of built in help facilities. "
   ]
  },
  {
   "cell_type": "markdown",
   "metadata": {},
   "source": [
    "## Question 0 (5 points): Yuan, Meng\n",
    " \n",
    "Replace 'Last, First' above with your actual name. Enter it as: last name, first name."
   ]
  },
  {
   "cell_type": "markdown",
   "metadata": {},
   "source": [
    "## Question 1 (15 points): Time series/APIs \n",
    "\n",
    "1. From FRED, retrieve the daily price of oil (DCOILWTICO).  \n",
    "2. Compute the average price of oil in 2020 and 2021. Print them out as: \n",
    "\n",
    "   \"The mean price per barrel of oil in 2020 is \\\\$xx.xx and in 2021 is $xx.xx.\""
   ]
  },
  {
   "cell_type": "code",
   "execution_count": 1,
   "metadata": {},
   "outputs": [],
   "source": [
    "import pandas as pd               \n",
    "import matplotlib.pyplot as plt   \n",
    "import datetime as dt  \n",
    "import numpy as np\n",
    "import pandas_datareader.data as web\n",
    "import seaborn as sns\n",
    "import matplotlib.dates as mdates"
   ]
  },
  {
   "cell_type": "code",
   "execution_count": 2,
   "metadata": {},
   "outputs": [
    {
     "name": "stdout",
     "output_type": "stream",
     "text": [
      "The mean price per barrel of oil in 2020 is $39.16 and in 2021 is $67.46.\n"
     ]
    }
   ],
   "source": [
    "#q1\n",
    "#1\n",
    "start = dt.datetime(2020,1,1) \n",
    "codes = 'DCOILWTICO'\n",
    "fred = web.DataReader(codes, 'fred', start)\n",
    "price20 = fred.loc['2020-01-01':'2020-12-31'].mean()\n",
    "price21 = fred.loc['2021-01-01':'2021-12-31'].mean()\n",
    "#2\n",
    "print(\"The mean price per barrel of oil in 2020 is ${0:.2f} and in 2021 is ${1:.2f}.\".format(price20[0], price21[0]))\n"
   ]
  },
  {
   "cell_type": "markdown",
   "metadata": {},
   "source": [
    "## Question 2A (15 points): Merging \n",
    "\n",
    "1. Load the files 'pl.csv' and 'nval.csv'. They contain the price index and nominal value added by U.S. industries for 2010&ndash;2020.\n",
    "2. Merge the two DataFrames together. \n",
    "3. In the merged DataFrame, compute real value added by industry:\n",
    "\n",
    "$$\\text{real value added} = \\frac{\\text{nominal value added}}{\\text{price index/100}}.$$\n",
    "\n",
    "4. Print out the top 2 rows of your DataFrame."
   ]
  },
  {
   "cell_type": "code",
   "execution_count": 3,
   "metadata": {},
   "outputs": [
    {
     "name": "stdout",
     "output_type": "stream",
     "text": [
      "                              ind  year       p\n",
      "0          Gross domestic product  2010  96.164\n",
      "1          Gross domestic product  2011  98.157\n",
      "                              ind  year      nva\n",
      "0          Gross domestic product  2010  15049.0\n",
      "1          Gross domestic product  2011  15599.7\n",
      "(1067, 3)\n",
      "(1067, 3)\n"
     ]
    }
   ],
   "source": [
    "#q2a\n",
    "#1\n",
    "pl = pd.read_csv('pl.csv')\n",
    "nval = pd.read_csv('nval.csv')\n",
    "\n",
    "print(pl.head(2))\n",
    "print(nval.head(2))\n",
    "\n",
    "print(pl.shape)\n",
    "print(nval.shape)"
   ]
  },
  {
   "cell_type": "code",
   "execution_count": 4,
   "metadata": {},
   "outputs": [],
   "source": [
    "#2\n",
    "merge_1 = pd.merge(left=pl, right=nval, on=['ind','year'], how='inner')"
   ]
  },
  {
   "cell_type": "code",
   "execution_count": 5,
   "metadata": {},
   "outputs": [
    {
     "data": {
      "text/html": [
       "<div>\n",
       "<style scoped>\n",
       "    .dataframe tbody tr th:only-of-type {\n",
       "        vertical-align: middle;\n",
       "    }\n",
       "\n",
       "    .dataframe tbody tr th {\n",
       "        vertical-align: top;\n",
       "    }\n",
       "\n",
       "    .dataframe thead th {\n",
       "        text-align: right;\n",
       "    }\n",
       "</style>\n",
       "<table border=\"1\" class=\"dataframe\">\n",
       "  <thead>\n",
       "    <tr style=\"text-align: right;\">\n",
       "      <th></th>\n",
       "      <th>ind</th>\n",
       "      <th>year</th>\n",
       "      <th>p</th>\n",
       "      <th>nva</th>\n",
       "      <th>rv add</th>\n",
       "    </tr>\n",
       "  </thead>\n",
       "  <tbody>\n",
       "    <tr>\n",
       "      <th>0</th>\n",
       "      <td>Gross domestic product</td>\n",
       "      <td>2010</td>\n",
       "      <td>96.164</td>\n",
       "      <td>15049.0</td>\n",
       "      <td>15649.307433</td>\n",
       "    </tr>\n",
       "    <tr>\n",
       "      <th>1</th>\n",
       "      <td>Gross domestic product</td>\n",
       "      <td>2011</td>\n",
       "      <td>98.157</td>\n",
       "      <td>15599.7</td>\n",
       "      <td>15892.600630</td>\n",
       "    </tr>\n",
       "  </tbody>\n",
       "</table>\n",
       "</div>"
      ],
      "text/plain": [
       "                              ind  year       p      nva        rv add\n",
       "0          Gross domestic product  2010  96.164  15049.0  15649.307433\n",
       "1          Gross domestic product  2011  98.157  15599.7  15892.600630"
      ]
     },
     "execution_count": 5,
     "metadata": {},
     "output_type": "execute_result"
    }
   ],
   "source": [
    "#3\n",
    "merge_1['rv add'] = merge_1['nva'] / (merge_1['p'] / 100)\n",
    "#4\n",
    "merge_1.head(2)"
   ]
  },
  {
   "cell_type": "markdown",
   "metadata": {},
   "source": [
    "## Question 2B (15 points): Indexing\n",
    "\n",
    "If you completed question 2A, use your results in this question. If not, use the file 'q2a_f21.csv' to complete this question.\n",
    "\n",
    "1. Report real value added for \"Utilities\" in 2015. \n",
    "2. Print it out as: \n",
    "\n",
    "   \"Real value added in utilities is xxx.xx billion dollars.\""
   ]
  },
  {
   "cell_type": "code",
   "execution_count": 6,
   "metadata": {},
   "outputs": [
    {
     "name": "stdout",
     "output_type": "stream",
     "text": [
      "Real value added in utilities is 81154.18 billion dollars.\n"
     ]
    }
   ],
   "source": [
    "#q2b\n",
    "\n",
    "rvadd = pd.read_csv('q2a_f21.csv', parse_dates=['year']) \n",
    "#1\n",
    "rvadd.set_index('year', inplace = True)\n",
    "\n",
    "Utilities = rvadd.loc['2015']['rva'].sum()\n",
    "print(\"Real value added in utilities is {0:.2f} billion dollars.\".format(Utilities))"
   ]
  },
  {
   "cell_type": "markdown",
   "metadata": {},
   "source": [
    "## Question 3 (15 points): Groupby/Plotting\n",
    "If you completed question 2A, use your results in this question. If not, use the file 'q2a_f21.csv' to complete this question.\n",
    "\n",
    "1. Compute the average real value added and the median real value added for each industry, 2010&ndash;2020.\n",
    "2. Drop 'Gross domestic product' and 'Private industries'. (If you have trouble dropping these industries, skip this step and go to step 3.)\n",
    "3. Create a scatter plot with a regression line. Average real value added by industry is the y-axis and median real value added by industry is the x-axis.\n",
    "    1. Use black for the scatter points and the line\n",
    "    1. Do not plot a confindence interval"
   ]
  },
  {
   "cell_type": "code",
   "execution_count": 7,
   "metadata": {},
   "outputs": [
    {
     "data": {
      "text/html": [
       "<div>\n",
       "<style scoped>\n",
       "    .dataframe tbody tr th:only-of-type {\n",
       "        vertical-align: middle;\n",
       "    }\n",
       "\n",
       "    .dataframe tbody tr th {\n",
       "        vertical-align: top;\n",
       "    }\n",
       "\n",
       "    .dataframe thead tr th {\n",
       "        text-align: left;\n",
       "    }\n",
       "\n",
       "    .dataframe thead tr:last-of-type th {\n",
       "        text-align: right;\n",
       "    }\n",
       "</style>\n",
       "<table border=\"1\" class=\"dataframe\">\n",
       "  <thead>\n",
       "    <tr>\n",
       "      <th></th>\n",
       "      <th colspan=\"2\" halign=\"left\">rva</th>\n",
       "    </tr>\n",
       "    <tr>\n",
       "      <th></th>\n",
       "      <th>mean</th>\n",
       "      <th>median</th>\n",
       "    </tr>\n",
       "    <tr>\n",
       "      <th>ind</th>\n",
       "      <th></th>\n",
       "      <th></th>\n",
       "    </tr>\n",
       "  </thead>\n",
       "  <tbody>\n",
       "    <tr>\n",
       "      <th>Housing</th>\n",
       "      <td>1565.360560</td>\n",
       "      <td>1555.353405</td>\n",
       "    </tr>\n",
       "    <tr>\n",
       "      <th>Other real estate</th>\n",
       "      <td>417.564415</td>\n",
       "      <td>428.690427</td>\n",
       "    </tr>\n",
       "    <tr>\n",
       "      <th>Accommodation</th>\n",
       "      <td>133.072005</td>\n",
       "      <td>134.721660</td>\n",
       "    </tr>\n",
       "    <tr>\n",
       "      <th>Administrative and support services</th>\n",
       "      <td>465.913618</td>\n",
       "      <td>463.527552</td>\n",
       "    </tr>\n",
       "    <tr>\n",
       "      <th>Ambulatory health care services</th>\n",
       "      <td>644.178656</td>\n",
       "      <td>641.519577</td>\n",
       "    </tr>\n",
       "    <tr>\n",
       "      <th>...</th>\n",
       "      <td>...</td>\n",
       "      <td>...</td>\n",
       "    </tr>\n",
       "    <tr>\n",
       "      <th>Transportation and warehousing</th>\n",
       "      <td>504.558929</td>\n",
       "      <td>494.351619</td>\n",
       "    </tr>\n",
       "    <tr>\n",
       "      <th>Utilities</th>\n",
       "      <td>278.797050</td>\n",
       "      <td>280.700000</td>\n",
       "    </tr>\n",
       "    <tr>\n",
       "      <th>Wholesale trade</th>\n",
       "      <td>1053.382182</td>\n",
       "      <td>1083.882554</td>\n",
       "    </tr>\n",
       "    <tr>\n",
       "      <th>Government</th>\n",
       "      <td>2173.361922</td>\n",
       "      <td>2175.829770</td>\n",
       "    </tr>\n",
       "    <tr>\n",
       "      <th>Private industries</th>\n",
       "      <td>15114.010288</td>\n",
       "      <td>15197.892720</td>\n",
       "    </tr>\n",
       "  </tbody>\n",
       "</table>\n",
       "<p>95 rows × 2 columns</p>\n",
       "</div>"
      ],
      "text/plain": [
       "                                                          rva              \n",
       "                                                         mean        median\n",
       "ind                                                                        \n",
       "                Housing                           1565.360560   1555.353405\n",
       "                Other real estate                  417.564415    428.690427\n",
       "            Accommodation                          133.072005    134.721660\n",
       "            Administrative and support services    465.913618    463.527552\n",
       "            Ambulatory health care services        644.178656    641.519577\n",
       "...                                                       ...           ...\n",
       "    Transportation and warehousing                 504.558929    494.351619\n",
       "    Utilities                                      278.797050    280.700000\n",
       "    Wholesale trade                               1053.382182   1083.882554\n",
       "Government                                        2173.361922   2175.829770\n",
       "Private industries                               15114.010288  15197.892720\n",
       "\n",
       "[95 rows x 2 columns]"
      ]
     },
     "execution_count": 7,
     "metadata": {},
     "output_type": "execute_result"
    }
   ],
   "source": [
    "#q3\n",
    "q3 = pd.read_csv('q2a_f21.csv')\n",
    "q3.head(3)\n",
    "#1\n",
    "agg_value = q3[['rva','ind']].groupby('ind').agg(['mean','median'])\n",
    "\n",
    "agg_value"
   ]
  },
  {
   "cell_type": "code",
   "execution_count": 8,
   "metadata": {},
   "outputs": [
    {
     "ename": "KeyError",
     "evalue": "\"['Gross domestic product'] not found in axis\"",
     "output_type": "error",
     "traceback": [
      "\u001b[1;31m---------------------------------------------------------------------------\u001b[0m",
      "\u001b[1;31mKeyError\u001b[0m                                  Traceback (most recent call last)",
      "\u001b[1;32m<ipython-input-8-fce28577caa3>\u001b[0m in \u001b[0;36m<module>\u001b[1;34m\u001b[0m\n\u001b[0;32m      1\u001b[0m \u001b[1;31m#2\u001b[0m\u001b[1;33m\u001b[0m\u001b[1;33m\u001b[0m\u001b[1;33m\u001b[0m\u001b[0m\n\u001b[1;32m----> 2\u001b[1;33m \u001b[0magg_value\u001b[0m \u001b[1;33m=\u001b[0m \u001b[0magg_value\u001b[0m\u001b[1;33m.\u001b[0m\u001b[0mdrop\u001b[0m\u001b[1;33m(\u001b[0m\u001b[1;33m[\u001b[0m\u001b[1;34m'Gross domestic product'\u001b[0m\u001b[1;33m,\u001b[0m\u001b[1;34m'Private industries'\u001b[0m\u001b[1;33m]\u001b[0m\u001b[1;33m)\u001b[0m\u001b[1;33m\u001b[0m\u001b[1;33m\u001b[0m\u001b[0m\n\u001b[0m\u001b[0;32m      3\u001b[0m \u001b[0magg_value\u001b[0m\u001b[1;33m\u001b[0m\u001b[1;33m\u001b[0m\u001b[0m\n",
      "\u001b[1;32mC:\\ProgramData\\Anaconda3\\lib\\site-packages\\pandas\\core\\frame.py\u001b[0m in \u001b[0;36mdrop\u001b[1;34m(self, labels, axis, index, columns, level, inplace, errors)\u001b[0m\n\u001b[0;32m   4306\u001b[0m                 \u001b[0mweight\u001b[0m  \u001b[1;36m1.0\u001b[0m     \u001b[1;36m0.8\u001b[0m\u001b[1;33m\u001b[0m\u001b[1;33m\u001b[0m\u001b[0m\n\u001b[0;32m   4307\u001b[0m         \"\"\"\n\u001b[1;32m-> 4308\u001b[1;33m         return super().drop(\n\u001b[0m\u001b[0;32m   4309\u001b[0m             \u001b[0mlabels\u001b[0m\u001b[1;33m=\u001b[0m\u001b[0mlabels\u001b[0m\u001b[1;33m,\u001b[0m\u001b[1;33m\u001b[0m\u001b[1;33m\u001b[0m\u001b[0m\n\u001b[0;32m   4310\u001b[0m             \u001b[0maxis\u001b[0m\u001b[1;33m=\u001b[0m\u001b[0maxis\u001b[0m\u001b[1;33m,\u001b[0m\u001b[1;33m\u001b[0m\u001b[1;33m\u001b[0m\u001b[0m\n",
      "\u001b[1;32mC:\\ProgramData\\Anaconda3\\lib\\site-packages\\pandas\\core\\generic.py\u001b[0m in \u001b[0;36mdrop\u001b[1;34m(self, labels, axis, index, columns, level, inplace, errors)\u001b[0m\n\u001b[0;32m   4151\u001b[0m         \u001b[1;32mfor\u001b[0m \u001b[0maxis\u001b[0m\u001b[1;33m,\u001b[0m \u001b[0mlabels\u001b[0m \u001b[1;32min\u001b[0m \u001b[0maxes\u001b[0m\u001b[1;33m.\u001b[0m\u001b[0mitems\u001b[0m\u001b[1;33m(\u001b[0m\u001b[1;33m)\u001b[0m\u001b[1;33m:\u001b[0m\u001b[1;33m\u001b[0m\u001b[1;33m\u001b[0m\u001b[0m\n\u001b[0;32m   4152\u001b[0m             \u001b[1;32mif\u001b[0m \u001b[0mlabels\u001b[0m \u001b[1;32mis\u001b[0m \u001b[1;32mnot\u001b[0m \u001b[1;32mNone\u001b[0m\u001b[1;33m:\u001b[0m\u001b[1;33m\u001b[0m\u001b[1;33m\u001b[0m\u001b[0m\n\u001b[1;32m-> 4153\u001b[1;33m                 \u001b[0mobj\u001b[0m \u001b[1;33m=\u001b[0m \u001b[0mobj\u001b[0m\u001b[1;33m.\u001b[0m\u001b[0m_drop_axis\u001b[0m\u001b[1;33m(\u001b[0m\u001b[0mlabels\u001b[0m\u001b[1;33m,\u001b[0m \u001b[0maxis\u001b[0m\u001b[1;33m,\u001b[0m \u001b[0mlevel\u001b[0m\u001b[1;33m=\u001b[0m\u001b[0mlevel\u001b[0m\u001b[1;33m,\u001b[0m \u001b[0merrors\u001b[0m\u001b[1;33m=\u001b[0m\u001b[0merrors\u001b[0m\u001b[1;33m)\u001b[0m\u001b[1;33m\u001b[0m\u001b[1;33m\u001b[0m\u001b[0m\n\u001b[0m\u001b[0;32m   4154\u001b[0m \u001b[1;33m\u001b[0m\u001b[0m\n\u001b[0;32m   4155\u001b[0m         \u001b[1;32mif\u001b[0m \u001b[0minplace\u001b[0m\u001b[1;33m:\u001b[0m\u001b[1;33m\u001b[0m\u001b[1;33m\u001b[0m\u001b[0m\n",
      "\u001b[1;32mC:\\ProgramData\\Anaconda3\\lib\\site-packages\\pandas\\core\\generic.py\u001b[0m in \u001b[0;36m_drop_axis\u001b[1;34m(self, labels, axis, level, errors)\u001b[0m\n\u001b[0;32m   4186\u001b[0m                 \u001b[0mnew_axis\u001b[0m \u001b[1;33m=\u001b[0m \u001b[0maxis\u001b[0m\u001b[1;33m.\u001b[0m\u001b[0mdrop\u001b[0m\u001b[1;33m(\u001b[0m\u001b[0mlabels\u001b[0m\u001b[1;33m,\u001b[0m \u001b[0mlevel\u001b[0m\u001b[1;33m=\u001b[0m\u001b[0mlevel\u001b[0m\u001b[1;33m,\u001b[0m \u001b[0merrors\u001b[0m\u001b[1;33m=\u001b[0m\u001b[0merrors\u001b[0m\u001b[1;33m)\u001b[0m\u001b[1;33m\u001b[0m\u001b[1;33m\u001b[0m\u001b[0m\n\u001b[0;32m   4187\u001b[0m             \u001b[1;32melse\u001b[0m\u001b[1;33m:\u001b[0m\u001b[1;33m\u001b[0m\u001b[1;33m\u001b[0m\u001b[0m\n\u001b[1;32m-> 4188\u001b[1;33m                 \u001b[0mnew_axis\u001b[0m \u001b[1;33m=\u001b[0m \u001b[0maxis\u001b[0m\u001b[1;33m.\u001b[0m\u001b[0mdrop\u001b[0m\u001b[1;33m(\u001b[0m\u001b[0mlabels\u001b[0m\u001b[1;33m,\u001b[0m \u001b[0merrors\u001b[0m\u001b[1;33m=\u001b[0m\u001b[0merrors\u001b[0m\u001b[1;33m)\u001b[0m\u001b[1;33m\u001b[0m\u001b[1;33m\u001b[0m\u001b[0m\n\u001b[0m\u001b[0;32m   4189\u001b[0m             \u001b[0mresult\u001b[0m \u001b[1;33m=\u001b[0m \u001b[0mself\u001b[0m\u001b[1;33m.\u001b[0m\u001b[0mreindex\u001b[0m\u001b[1;33m(\u001b[0m\u001b[1;33m**\u001b[0m\u001b[1;33m{\u001b[0m\u001b[0maxis_name\u001b[0m\u001b[1;33m:\u001b[0m \u001b[0mnew_axis\u001b[0m\u001b[1;33m}\u001b[0m\u001b[1;33m)\u001b[0m\u001b[1;33m\u001b[0m\u001b[1;33m\u001b[0m\u001b[0m\n\u001b[0;32m   4190\u001b[0m \u001b[1;33m\u001b[0m\u001b[0m\n",
      "\u001b[1;32mC:\\ProgramData\\Anaconda3\\lib\\site-packages\\pandas\\core\\indexes\\base.py\u001b[0m in \u001b[0;36mdrop\u001b[1;34m(self, labels, errors)\u001b[0m\n\u001b[0;32m   5589\u001b[0m         \u001b[1;32mif\u001b[0m \u001b[0mmask\u001b[0m\u001b[1;33m.\u001b[0m\u001b[0many\u001b[0m\u001b[1;33m(\u001b[0m\u001b[1;33m)\u001b[0m\u001b[1;33m:\u001b[0m\u001b[1;33m\u001b[0m\u001b[1;33m\u001b[0m\u001b[0m\n\u001b[0;32m   5590\u001b[0m             \u001b[1;32mif\u001b[0m \u001b[0merrors\u001b[0m \u001b[1;33m!=\u001b[0m \u001b[1;34m\"ignore\"\u001b[0m\u001b[1;33m:\u001b[0m\u001b[1;33m\u001b[0m\u001b[1;33m\u001b[0m\u001b[0m\n\u001b[1;32m-> 5591\u001b[1;33m                 \u001b[1;32mraise\u001b[0m \u001b[0mKeyError\u001b[0m\u001b[1;33m(\u001b[0m\u001b[1;34mf\"{labels[mask]} not found in axis\"\u001b[0m\u001b[1;33m)\u001b[0m\u001b[1;33m\u001b[0m\u001b[1;33m\u001b[0m\u001b[0m\n\u001b[0m\u001b[0;32m   5592\u001b[0m             \u001b[0mindexer\u001b[0m \u001b[1;33m=\u001b[0m \u001b[0mindexer\u001b[0m\u001b[1;33m[\u001b[0m\u001b[1;33m~\u001b[0m\u001b[0mmask\u001b[0m\u001b[1;33m]\u001b[0m\u001b[1;33m\u001b[0m\u001b[1;33m\u001b[0m\u001b[0m\n\u001b[0;32m   5593\u001b[0m         \u001b[1;32mreturn\u001b[0m \u001b[0mself\u001b[0m\u001b[1;33m.\u001b[0m\u001b[0mdelete\u001b[0m\u001b[1;33m(\u001b[0m\u001b[0mindexer\u001b[0m\u001b[1;33m)\u001b[0m\u001b[1;33m\u001b[0m\u001b[1;33m\u001b[0m\u001b[0m\n",
      "\u001b[1;31mKeyError\u001b[0m: \"['Gross domestic product'] not found in axis\""
     ]
    }
   ],
   "source": [
    "#2\n",
    "agg_value = agg_value.drop(['Gross domestic product','Private industries'])\n",
    "agg_value"
   ]
  },
  {
   "cell_type": "markdown",
   "metadata": {},
   "source": [
    "Create a scatter plot with a regression line. Average real value added by industry is the y-axis and median real value added by industry is the x-axis.\n",
    "Use black for the scatter points and the line\n",
    "Do not plot a confindence interval"
   ]
  },
  {
   "cell_type": "code",
   "execution_count": null,
   "metadata": {},
   "outputs": [],
   "source": [
    "agg_value.columns = agg_value.columns.droplevel(level = 0)"
   ]
  },
  {
   "cell_type": "code",
   "execution_count": null,
   "metadata": {},
   "outputs": [],
   "source": [
    "#3\n",
    "\n",
    "fig, ax = plt.subplots(figsize=(15,6))\n",
    "sns.regplot(x='median',                                       \n",
    "            y='mean',                                        \n",
    "            data=agg_value,                                          \n",
    "            ax = ax,                                         \n",
    "            color = 'black',                                  \n",
    "            ci = 0)  \n",
    "\n",
    "ax.spines['top'].set_visible(False)\n",
    "ax.spines['right'].set_visible(False)\n",
    "\n",
    "ax.set_title('Median and average real value')\n",
    "ax.set_xlabel('Median real value')\n",
    "ax.set_ylabel('Average real value')\n",
    "plt.show()"
   ]
  },
  {
   "cell_type": "markdown",
   "metadata": {},
   "source": [
    "## Question 4 (15 points): Reshaping \n",
    "\n",
    "The file 'wdi_q4.csv' contains data on real GDP and the working age population (15-64 years) for China and Japan from 1970 to 2019. \n",
    "\n",
    "1. Compute the ratio of GDP to the working age population for both countries for all years. Name the variable 'gdpc'.\n",
    "2. Arrange your DataFrame so that the index is the country (outermost index) and date (innermost index) and the columns are the variable names. Sort both of the indexes. \n",
    "3. Print out the first two rows of your DataFrame."
   ]
  },
  {
   "cell_type": "code",
   "execution_count": null,
   "metadata": {},
   "outputs": [],
   "source": [
    "#q4\n",
    "\n",
    "wdi = pd.read_csv('wdi_q4.csv',parse_dates=['DATE'])\n",
    "#1\n",
    "wdi.set_index(['DATE', 'var'], inplace=True)\n",
    "wdi = wdi.sort_index(axis=0)\n",
    "wdi2 = wdi.transpose() \n",
    "wdi3 = wdi2.stack('DATE')\n",
    "wdi3['gpdc'] = wdi3['gdp'] / wdi3['pop']\n",
    "\n",
    "wdi3.head(2)"
   ]
  },
  {
   "cell_type": "code",
   "execution_count": null,
   "metadata": {},
   "outputs": [],
   "source": [
    "#2\n",
    "wdi3 = wdi3.sort_index(axis=0)\n",
    "#3\n",
    "wdi3.head(2)"
   ]
  },
  {
   "cell_type": "markdown",
   "metadata": {},
   "source": [
    "## Question 5 (15 points): Transformations\n",
    "\n",
    "Create the `dogs` DataFrame and use pandas funtions to:\n",
    "\n",
    "1. Remove the '\\n' characters from the dogs' names.\n",
    "3. Create a new column in `dogs` named `year` that holds the year in which each dog was born.\n",
    "4. In the column `sex`, replace 0 with the text 'good boy' and 1 with the text 'good girl'.\n",
    "5. Print out `dogs` \n",
    "\n",
    "```python\n",
    "dogs = pd.DataFrame({'name':['Buster\\n', 'Subee\\n', 'Jax', 'Izzy'], \n",
    "                     'dob':['2005-05-06', '2005-10-07', '2019-07-15', '2020-12-22'],\n",
    "                    'sex':[0,1,0,1]})\n",
    "```"
   ]
  },
  {
   "cell_type": "code",
   "execution_count": null,
   "metadata": {},
   "outputs": [],
   "source": [
    "#q5\n",
    "dogs = pd.DataFrame({'name':['Buster\\n', 'Subee\\n', 'Jax', 'Izzy'], \n",
    "                     'dob':['2005-05-06', '2005-10-07', '2019-07-15', '2020-12-22'],\n",
    "                    'sex':[0,1,0,1]})\n",
    "\n",
    "#1\n",
    "dogs['name'] = dogs['name'].str.strip()\n",
    "dogs"
   ]
  },
  {
   "cell_type": "code",
   "execution_count": null,
   "metadata": {},
   "outputs": [],
   "source": [
    "#2\n",
    "dogs['dob'] = pd.to_datetime(dogs['dob'])"
   ]
  },
  {
   "cell_type": "code",
   "execution_count": null,
   "metadata": {},
   "outputs": [],
   "source": [
    "dogs['year'] =dogs['dob'].dt.year\n",
    "\n",
    "dogs"
   ]
  },
  {
   "cell_type": "code",
   "execution_count": null,
   "metadata": {},
   "outputs": [],
   "source": [
    "#3\n",
    "dogs['sex'] = dogs['sex'].replace({0:'good boy',1: 'good girl'})\n",
    "\n",
    "dogs"
   ]
  },
  {
   "cell_type": "markdown",
   "metadata": {},
   "source": [
    "You are finished! Upload your completed notebook to Canvas. \n",
    "\n",
    "Enjoy the break, and I will see you next Monday."
   ]
  }
 ],
 "metadata": {
  "celltoolbar": "Edit Metadata",
  "hide_input": false,
  "kernelspec": {
   "display_name": "Python 3",
   "language": "python",
   "name": "python3"
  },
  "language_info": {
   "codemirror_mode": {
    "name": "ipython",
    "version": 3
   },
   "file_extension": ".py",
   "mimetype": "text/x-python",
   "name": "python",
   "nbconvert_exporter": "python",
   "pygments_lexer": "ipython3",
   "version": "3.8.8"
  }
 },
 "nbformat": 4,
 "nbformat_minor": 4
}
