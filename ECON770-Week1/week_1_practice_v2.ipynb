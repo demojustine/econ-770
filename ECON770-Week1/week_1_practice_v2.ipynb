{
 "cells": [
  {
   "cell_type": "markdown",
   "id": "3e25e745",
   "metadata": {},
   "source": [
    "Meng Yuan"
   ]
  },
  {
   "cell_type": "markdown",
   "id": "88589769",
   "metadata": {},
   "source": [
    "* Econ 706\n",
    "* Econ 770\n",
    "* Econ 725"
   ]
  },
  {
   "cell_type": "code",
   "execution_count": 1,
   "id": "e1f9a855",
   "metadata": {},
   "outputs": [
    {
     "name": "stdout",
     "output_type": "stream",
     "text": [
      "a string\n"
     ]
    }
   ],
   "source": [
    "s = 'a string'\n",
    "print(s)\n"
   ]
  },
  {
   "cell_type": "markdown",
   "id": "c607c59d",
   "metadata": {},
   "source": [
    "```ptyhon\n",
    "s= 10\n",
    "print(s)\n",
    "```"
   ]
  }
 ],
 "metadata": {
  "kernelspec": {
   "display_name": "Python 3",
   "language": "python",
   "name": "python3"
  },
  "language_info": {
   "codemirror_mode": {
    "name": "ipython",
    "version": 3
   },
   "file_extension": ".py",
   "mimetype": "text/x-python",
   "name": "python",
   "nbconvert_exporter": "python",
   "pygments_lexer": "ipython3",
   "version": "3.8.8"
  }
 },
 "nbformat": 4,
 "nbformat_minor": 5
}
