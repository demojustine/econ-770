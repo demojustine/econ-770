{
 "cells": [
  {
   "cell_type": "markdown",
   "metadata": {},
   "source": [
    "# Exam 1 (100 pts total)\n",
    "\n",
    "files needed = ('baseball_exam_data.csv', 'base_money.xlsx', 'dane_housing_starts.csv')\n",
    "\n",
    "You have 75 minutes to complete this exam.\n",
    "\n",
    "Answer all the questions below in this notebook. You should insert as many cells into the notebook as you need. When you are finished, upload your finished notebook to Canvas. \n",
    "\n",
    "* You may use your notes and the Internet, but you cannot work with others.  \n",
    "* Import any packages you need to complete this exam.\n",
    "* Do not modify the data files 'baseball_exam_data.csv', 'base_money.xlsx', and 'dane_housing_starts.csv'. All data manipulation should happen in your code.\n",
    "\n",
    "Remember, jupyter notebooks and python have lots of built in help facilities. \n",
    "\n",
    "**If you have questions I am available in the zoom chat.** \n",
    "\n",
    "https://uwmadison.zoom.us/j/95644841284?pwd=eUdaRnE1SXlKcmtqUGN2M2Z1aUkydz09\n"
   ]
  },
  {
   "cell_type": "markdown",
   "metadata": {},
   "source": [
    "## Question 0 (5 pts): Yuan, Meng\n",
    " \n",
    "Replace 'Your name' above with your actual name. Enter it as: last name, first name."
   ]
  },
  {
   "cell_type": "markdown",
   "metadata": {},
   "source": [
    "## Question 1 (5 pts): Markdown\n",
    "\n",
    "Insert a markdown cell below. \n",
    "\n",
    "1. The cell should display \n",
    "\n",
    "for i in y:\n",
    "print(np.log(i))\n",
    "\n",
    "properly formatted as python code."
   ]
  },
  {
   "cell_type": "markdown",
   "metadata": {},
   "source": [
    "```\n",
    "for i in y:\n",
    "    print(np.log(i))\n",
    "```"
   ]
  },
  {
   "cell_type": "markdown",
   "metadata": {},
   "source": [
    "======48seconds======"
   ]
  },
  {
   "cell_type": "markdown",
   "metadata": {},
   "source": [
    "## Question 2 (20 pts): Functions and flow control\n",
    "\n",
    "Create a function named 'alternating_caps' that takes a string as its only argument. Return the string with alternating capital- and lower-case letters. Characters in even positions (0, 2, 4,...) in the string should be capitalized.  Characters in odd positions (1, 3, 5,...) in the string should be in lower case.  \n",
    "\n",
    "Test your function with the string `supercalifragilisticexpialidocious`.\n",
    "\n",
    "Your function should return the string as `SuPeRcAlIfRaGiLiStIcExPiAlIdOcIoUs`."
   ]
  },
  {
   "cell_type": "code",
   "execution_count": 1,
   "metadata": {},
   "outputs": [
    {
     "data": {
      "text/plain": [
       "'SuPeRcAlIfRaGiLiStIcExPiAlIdOcIoUs'"
      ]
     },
     "execution_count": 1,
     "metadata": {},
     "output_type": "execute_result"
    }
   ],
   "source": [
    "def alternating_caps(qa):\n",
    "    aq2 = ''\n",
    "    for i, c in enumerate(qa):\n",
    "        if i%2 == 0:\n",
    "            aq2 = aq2 + c.upper()\n",
    "        else:\n",
    "            aq2 = aq2 + c.lower()\n",
    "    return aq2    \n",
    "test1 = 'supercalifragilisticexpialidocious'\n",
    "alternating_caps(test1)"
   ]
  },
  {
   "cell_type": "markdown",
   "metadata": {},
   "source": [
    "\n",
    "## Question 3 (20 pts): Selecting data from a DataFrame \n",
    "\n",
    "Load the file 'baseball_exam_data.csv'. It contains data about National League baseball teams from 2013. Use python and pandas to answer the following questions.\n",
    "\n",
    "\\[You do not need to know anything about baseball to answer this question.\\]"
   ]
  },
  {
   "cell_type": "code",
   "execution_count": 2,
   "metadata": {},
   "outputs": [
    {
     "data": {
      "text/html": [
       "<div>\n",
       "<style scoped>\n",
       "    .dataframe tbody tr th:only-of-type {\n",
       "        vertical-align: middle;\n",
       "    }\n",
       "\n",
       "    .dataframe tbody tr th {\n",
       "        vertical-align: top;\n",
       "    }\n",
       "\n",
       "    .dataframe thead th {\n",
       "        text-align: right;\n",
       "    }\n",
       "</style>\n",
       "<table border=\"1\" class=\"dataframe\">\n",
       "  <thead>\n",
       "    <tr style=\"text-align: right;\">\n",
       "      <th></th>\n",
       "      <th>yearID</th>\n",
       "      <th>lgID</th>\n",
       "      <th>teamID</th>\n",
       "      <th>Wins</th>\n",
       "      <th>Loses</th>\n",
       "      <th>Runs</th>\n",
       "      <th>AtBats</th>\n",
       "      <th>Hits</th>\n",
       "      <th>2Bhits</th>\n",
       "      <th>3Bhits</th>\n",
       "      <th>HR</th>\n",
       "      <th>BB</th>\n",
       "      <th>park</th>\n",
       "      <th>name</th>\n",
       "      <th>attendance</th>\n",
       "    </tr>\n",
       "  </thead>\n",
       "  <tbody>\n",
       "    <tr>\n",
       "      <th>0</th>\n",
       "      <td>2013</td>\n",
       "      <td>NL</td>\n",
       "      <td>SLN</td>\n",
       "      <td>97</td>\n",
       "      <td>65</td>\n",
       "      <td>783</td>\n",
       "      <td>5557</td>\n",
       "      <td>1494</td>\n",
       "      <td>322</td>\n",
       "      <td>20</td>\n",
       "      <td>125</td>\n",
       "      <td>481</td>\n",
       "      <td>Busch Stadium III</td>\n",
       "      <td>St. Louis Cardinals</td>\n",
       "      <td>3369769</td>\n",
       "    </tr>\n",
       "    <tr>\n",
       "      <th>1</th>\n",
       "      <td>2013</td>\n",
       "      <td>NL</td>\n",
       "      <td>PIT</td>\n",
       "      <td>94</td>\n",
       "      <td>68</td>\n",
       "      <td>634</td>\n",
       "      <td>5486</td>\n",
       "      <td>1345</td>\n",
       "      <td>273</td>\n",
       "      <td>35</td>\n",
       "      <td>161</td>\n",
       "      <td>469</td>\n",
       "      <td>PNC Park</td>\n",
       "      <td>Pittsburgh Pirates</td>\n",
       "      <td>2256862</td>\n",
       "    </tr>\n",
       "    <tr>\n",
       "      <th>2</th>\n",
       "      <td>2013</td>\n",
       "      <td>NL</td>\n",
       "      <td>CIN</td>\n",
       "      <td>90</td>\n",
       "      <td>72</td>\n",
       "      <td>698</td>\n",
       "      <td>5499</td>\n",
       "      <td>1370</td>\n",
       "      <td>274</td>\n",
       "      <td>20</td>\n",
       "      <td>155</td>\n",
       "      <td>585</td>\n",
       "      <td>Great American Ball Park</td>\n",
       "      <td>Cincinnati Reds</td>\n",
       "      <td>2534369</td>\n",
       "    </tr>\n",
       "    <tr>\n",
       "      <th>3</th>\n",
       "      <td>2013</td>\n",
       "      <td>NL</td>\n",
       "      <td>MIL</td>\n",
       "      <td>74</td>\n",
       "      <td>88</td>\n",
       "      <td>640</td>\n",
       "      <td>5474</td>\n",
       "      <td>1381</td>\n",
       "      <td>238</td>\n",
       "      <td>43</td>\n",
       "      <td>157</td>\n",
       "      <td>407</td>\n",
       "      <td>Miller Park</td>\n",
       "      <td>Milwaukee Brewers</td>\n",
       "      <td>2531105</td>\n",
       "    </tr>\n",
       "    <tr>\n",
       "      <th>4</th>\n",
       "      <td>2013</td>\n",
       "      <td>NL</td>\n",
       "      <td>CHN</td>\n",
       "      <td>66</td>\n",
       "      <td>96</td>\n",
       "      <td>602</td>\n",
       "      <td>5498</td>\n",
       "      <td>1307</td>\n",
       "      <td>297</td>\n",
       "      <td>18</td>\n",
       "      <td>172</td>\n",
       "      <td>439</td>\n",
       "      <td>U.S. Cellular Field</td>\n",
       "      <td>Chicago White Sox</td>\n",
       "      <td>1768413</td>\n",
       "    </tr>\n",
       "    <tr>\n",
       "      <th>5</th>\n",
       "      <td>2013</td>\n",
       "      <td>NL</td>\n",
       "      <td>ATL</td>\n",
       "      <td>96</td>\n",
       "      <td>66</td>\n",
       "      <td>688</td>\n",
       "      <td>5441</td>\n",
       "      <td>1354</td>\n",
       "      <td>247</td>\n",
       "      <td>21</td>\n",
       "      <td>181</td>\n",
       "      <td>542</td>\n",
       "      <td>Turner Field</td>\n",
       "      <td>Atlanta Braves</td>\n",
       "      <td>2548679</td>\n",
       "    </tr>\n",
       "    <tr>\n",
       "      <th>6</th>\n",
       "      <td>2013</td>\n",
       "      <td>NL</td>\n",
       "      <td>WAS</td>\n",
       "      <td>86</td>\n",
       "      <td>76</td>\n",
       "      <td>656</td>\n",
       "      <td>5436</td>\n",
       "      <td>1365</td>\n",
       "      <td>259</td>\n",
       "      <td>27</td>\n",
       "      <td>161</td>\n",
       "      <td>464</td>\n",
       "      <td>Nationals Park</td>\n",
       "      <td>Washington Nationals</td>\n",
       "      <td>2652422</td>\n",
       "    </tr>\n",
       "    <tr>\n",
       "      <th>7</th>\n",
       "      <td>2013</td>\n",
       "      <td>NL</td>\n",
       "      <td>NYN</td>\n",
       "      <td>74</td>\n",
       "      <td>88</td>\n",
       "      <td>619</td>\n",
       "      <td>5559</td>\n",
       "      <td>1318</td>\n",
       "      <td>263</td>\n",
       "      <td>32</td>\n",
       "      <td>130</td>\n",
       "      <td>512</td>\n",
       "      <td>Citi Field</td>\n",
       "      <td>New York Mets</td>\n",
       "      <td>2135657</td>\n",
       "    </tr>\n",
       "    <tr>\n",
       "      <th>8</th>\n",
       "      <td>2013</td>\n",
       "      <td>NL</td>\n",
       "      <td>PHI</td>\n",
       "      <td>73</td>\n",
       "      <td>89</td>\n",
       "      <td>610</td>\n",
       "      <td>5456</td>\n",
       "      <td>1355</td>\n",
       "      <td>255</td>\n",
       "      <td>32</td>\n",
       "      <td>140</td>\n",
       "      <td>417</td>\n",
       "      <td>Citizens Bank Park</td>\n",
       "      <td>Philadelphia Phillies</td>\n",
       "      <td>3012403</td>\n",
       "    </tr>\n",
       "    <tr>\n",
       "      <th>9</th>\n",
       "      <td>2013</td>\n",
       "      <td>NL</td>\n",
       "      <td>MIA</td>\n",
       "      <td>62</td>\n",
       "      <td>100</td>\n",
       "      <td>513</td>\n",
       "      <td>5449</td>\n",
       "      <td>1257</td>\n",
       "      <td>219</td>\n",
       "      <td>31</td>\n",
       "      <td>95</td>\n",
       "      <td>432</td>\n",
       "      <td>Marlins Park</td>\n",
       "      <td>Miami Marlins</td>\n",
       "      <td>1586322</td>\n",
       "    </tr>\n",
       "    <tr>\n",
       "      <th>10</th>\n",
       "      <td>2013</td>\n",
       "      <td>NL</td>\n",
       "      <td>LAN</td>\n",
       "      <td>92</td>\n",
       "      <td>70</td>\n",
       "      <td>649</td>\n",
       "      <td>5491</td>\n",
       "      <td>1447</td>\n",
       "      <td>281</td>\n",
       "      <td>17</td>\n",
       "      <td>138</td>\n",
       "      <td>476</td>\n",
       "      <td>Dodger Stadium</td>\n",
       "      <td>Los Angeles Dodgers</td>\n",
       "      <td>3743527</td>\n",
       "    </tr>\n",
       "    <tr>\n",
       "      <th>11</th>\n",
       "      <td>2013</td>\n",
       "      <td>NL</td>\n",
       "      <td>ARI</td>\n",
       "      <td>81</td>\n",
       "      <td>81</td>\n",
       "      <td>685</td>\n",
       "      <td>5676</td>\n",
       "      <td>1468</td>\n",
       "      <td>302</td>\n",
       "      <td>31</td>\n",
       "      <td>130</td>\n",
       "      <td>519</td>\n",
       "      <td>Chase Field</td>\n",
       "      <td>Arizona Diamondbacks</td>\n",
       "      <td>2134795</td>\n",
       "    </tr>\n",
       "    <tr>\n",
       "      <th>12</th>\n",
       "      <td>2013</td>\n",
       "      <td>NL</td>\n",
       "      <td>SDN</td>\n",
       "      <td>76</td>\n",
       "      <td>86</td>\n",
       "      <td>618</td>\n",
       "      <td>5517</td>\n",
       "      <td>1349</td>\n",
       "      <td>246</td>\n",
       "      <td>26</td>\n",
       "      <td>146</td>\n",
       "      <td>467</td>\n",
       "      <td>Petco Park</td>\n",
       "      <td>San Diego Padres</td>\n",
       "      <td>2166691</td>\n",
       "    </tr>\n",
       "    <tr>\n",
       "      <th>13</th>\n",
       "      <td>2013</td>\n",
       "      <td>NL</td>\n",
       "      <td>SFN</td>\n",
       "      <td>76</td>\n",
       "      <td>86</td>\n",
       "      <td>629</td>\n",
       "      <td>5552</td>\n",
       "      <td>1446</td>\n",
       "      <td>280</td>\n",
       "      <td>35</td>\n",
       "      <td>107</td>\n",
       "      <td>469</td>\n",
       "      <td>AT&amp;T Park</td>\n",
       "      <td>San Francisco Giants</td>\n",
       "      <td>3326796</td>\n",
       "    </tr>\n",
       "    <tr>\n",
       "      <th>14</th>\n",
       "      <td>2013</td>\n",
       "      <td>NL</td>\n",
       "      <td>COL</td>\n",
       "      <td>74</td>\n",
       "      <td>88</td>\n",
       "      <td>706</td>\n",
       "      <td>5599</td>\n",
       "      <td>1511</td>\n",
       "      <td>283</td>\n",
       "      <td>36</td>\n",
       "      <td>159</td>\n",
       "      <td>427</td>\n",
       "      <td>Coors Field</td>\n",
       "      <td>Colorado Rockies</td>\n",
       "      <td>2793828</td>\n",
       "    </tr>\n",
       "  </tbody>\n",
       "</table>\n",
       "</div>"
      ],
      "text/plain": [
       "    yearID lgID teamID  Wins  Loses  Runs  AtBats  Hits  2Bhits  3Bhits   HR  \\\n",
       "0     2013   NL    SLN    97     65   783    5557  1494     322      20  125   \n",
       "1     2013   NL    PIT    94     68   634    5486  1345     273      35  161   \n",
       "2     2013   NL    CIN    90     72   698    5499  1370     274      20  155   \n",
       "3     2013   NL    MIL    74     88   640    5474  1381     238      43  157   \n",
       "4     2013   NL    CHN    66     96   602    5498  1307     297      18  172   \n",
       "5     2013   NL    ATL    96     66   688    5441  1354     247      21  181   \n",
       "6     2013   NL    WAS    86     76   656    5436  1365     259      27  161   \n",
       "7     2013   NL    NYN    74     88   619    5559  1318     263      32  130   \n",
       "8     2013   NL    PHI    73     89   610    5456  1355     255      32  140   \n",
       "9     2013   NL    MIA    62    100   513    5449  1257     219      31   95   \n",
       "10    2013   NL    LAN    92     70   649    5491  1447     281      17  138   \n",
       "11    2013   NL    ARI    81     81   685    5676  1468     302      31  130   \n",
       "12    2013   NL    SDN    76     86   618    5517  1349     246      26  146   \n",
       "13    2013   NL    SFN    76     86   629    5552  1446     280      35  107   \n",
       "14    2013   NL    COL    74     88   706    5599  1511     283      36  159   \n",
       "\n",
       "     BB                      park                   name  attendance  \n",
       "0   481         Busch Stadium III    St. Louis Cardinals     3369769  \n",
       "1   469                  PNC Park     Pittsburgh Pirates     2256862  \n",
       "2   585  Great American Ball Park        Cincinnati Reds     2534369  \n",
       "3   407               Miller Park      Milwaukee Brewers     2531105  \n",
       "4   439       U.S. Cellular Field      Chicago White Sox     1768413  \n",
       "5   542              Turner Field         Atlanta Braves     2548679  \n",
       "6   464            Nationals Park   Washington Nationals     2652422  \n",
       "7   512                Citi Field          New York Mets     2135657  \n",
       "8   417        Citizens Bank Park  Philadelphia Phillies     3012403  \n",
       "9   432              Marlins Park          Miami Marlins     1586322  \n",
       "10  476            Dodger Stadium    Los Angeles Dodgers     3743527  \n",
       "11  519               Chase Field   Arizona Diamondbacks     2134795  \n",
       "12  467                Petco Park       San Diego Padres     2166691  \n",
       "13  469                 AT&T Park   San Francisco Giants     3326796  \n",
       "14  427               Coors Field       Colorado Rockies     2793828  "
      ]
     },
     "execution_count": 2,
     "metadata": {},
     "output_type": "execute_result"
    }
   ],
   "source": [
    "import pandas as pd\n",
    "\n",
    "baseball_data = pd.read_csv(\"baseball_exam_data.csv\")\n",
    "baseball_data"
   ]
  },
  {
   "cell_type": "markdown",
   "metadata": {},
   "source": [
    "1. How many teams have more than 90 wins (`Wins`)?"
   ]
  },
  {
   "cell_type": "code",
   "execution_count": 3,
   "metadata": {},
   "outputs": [
    {
     "data": {
      "text/plain": [
       "4"
      ]
     },
     "execution_count": 3,
     "metadata": {},
     "output_type": "execute_result"
    }
   ],
   "source": [
    "baseball_data.loc[(baseball_data.Wins > 90), 'Wins'].count()"
   ]
  },
  {
   "cell_type": "markdown",
   "metadata": {},
   "source": [
    "2. What is the average attendance (`attendance`) of teams with more than 100 homeruns (`HR`) but fewer than 150 homeruns (`HR`)? \n",
    "\n",
    "   Format your answer to use a comma to separate the thousands. Report no decimal places."
   ]
  },
  {
   "cell_type": "code",
   "execution_count": 4,
   "metadata": {},
   "outputs": [
    {
     "name": "stdout",
     "output_type": "stream",
     "text": [
      "2,841,377\n"
     ]
    }
   ],
   "source": [
    "mean = baseball_data.loc[(baseball_data.HR >100) & (baseball_data.HR < 150), 'attendance'].mean()\n",
    "print('{0:,.0f}'.format(mean))"
   ]
  },
  {
   "cell_type": "markdown",
   "metadata": {},
   "source": [
    "3. Of the teams listed below, which team had the lowest runs scored (`Runs`)?\n",
    "\n",
    "   St. Louis Cardinals, Milwaukee Brewers, Los Angeles Dodgers, New York Mets, Miami Marlins"
   ]
  },
  {
   "cell_type": "code",
   "execution_count": 5,
   "metadata": {},
   "outputs": [
    {
     "ename": "SyntaxError",
     "evalue": "invalid syntax (<ipython-input-5-60646da21aae>, line 4)",
     "output_type": "error",
     "traceback": [
      "\u001b[1;36m  File \u001b[1;32m\"<ipython-input-5-60646da21aae>\"\u001b[1;36m, line \u001b[1;32m4\u001b[0m\n\u001b[1;33m    baseball_data.loc[,['Runs','name']]\u001b[0m\n\u001b[1;37m                      ^\u001b[0m\n\u001b[1;31mSyntaxError\u001b[0m\u001b[1;31m:\u001b[0m invalid syntax\n"
     ]
    }
   ],
   "source": [
    "teams = ['St. Louis Cardinals', 'Milwaukee Brewers', 'Los Angeles Dodgers', 'New York Mets', 'Miami Marlins']\n",
    "baseball_2 = baseball_data\n",
    "baseball_2.set_index('')\n",
    "baseball_data.loc[,['Runs','name']]\n",
    "\n",
    "\n",
    "print('{0}'.format(baseball[baseball['name'].isin(teams)].sort_values('Runs').head(1)['name'].values[0]))"
   ]
  },
  {
   "cell_type": "markdown",
   "metadata": {},
   "source": [
    "## Question 4 (15 pts): Loading messy data\n",
    "\n",
    "The file 'base_money.xlsx' contains the monthly U.S. monetary base as computed by the St. Louis Federal Reserve. \n",
    "\n",
    "1. Load the file. Make sure that the variable AMBSL is of type `float64`. \n",
    "2. Set the index to 'DATE'.\n",
    "2. Print out the first 2 and last 2 rows of the DataFrame."
   ]
  },
  {
   "cell_type": "code",
   "execution_count": 6,
   "metadata": {},
   "outputs": [
    {
     "data": {
      "text/plain": [
       "AMBSL    float64\n",
       "dtype: object"
      ]
     },
     "execution_count": 6,
     "metadata": {},
     "output_type": "execute_result"
    }
   ],
   "source": [
    "import numpy as np\n",
    "money_data = pd.read_excel('base_money.xlsx', header=2, skipfooter = 1,na_values = ['missing', '##'])\n",
    "money_data['AMBSL'] = money_data['AMBSL'].astype(float)\n",
    "\n",
    "money_data = money_data.set_index('DATE')\n",
    "money_data.dtypes"
   ]
  },
  {
   "cell_type": "code",
   "execution_count": 7,
   "metadata": {},
   "outputs": [
    {
     "data": {
      "text/html": [
       "<div>\n",
       "<style scoped>\n",
       "    .dataframe tbody tr th:only-of-type {\n",
       "        vertical-align: middle;\n",
       "    }\n",
       "\n",
       "    .dataframe tbody tr th {\n",
       "        vertical-align: top;\n",
       "    }\n",
       "\n",
       "    .dataframe thead th {\n",
       "        text-align: right;\n",
       "    }\n",
       "</style>\n",
       "<table border=\"1\" class=\"dataframe\">\n",
       "  <thead>\n",
       "    <tr style=\"text-align: right;\">\n",
       "      <th></th>\n",
       "      <th>AMBSL</th>\n",
       "    </tr>\n",
       "    <tr>\n",
       "      <th>DATE</th>\n",
       "      <th></th>\n",
       "    </tr>\n",
       "  </thead>\n",
       "  <tbody>\n",
       "    <tr>\n",
       "      <th>1918-01-01</th>\n",
       "      <td>4.833</td>\n",
       "    </tr>\n",
       "    <tr>\n",
       "      <th>1918-02-01</th>\n",
       "      <td>4.873</td>\n",
       "    </tr>\n",
       "  </tbody>\n",
       "</table>\n",
       "</div>"
      ],
      "text/plain": [
       "            AMBSL\n",
       "DATE             \n",
       "1918-01-01  4.833\n",
       "1918-02-01  4.873"
      ]
     },
     "execution_count": 7,
     "metadata": {},
     "output_type": "execute_result"
    }
   ],
   "source": [
    "money_data.head(2)"
   ]
  },
  {
   "cell_type": "code",
   "execution_count": 8,
   "metadata": {},
   "outputs": [
    {
     "data": {
      "text/html": [
       "<div>\n",
       "<style scoped>\n",
       "    .dataframe tbody tr th:only-of-type {\n",
       "        vertical-align: middle;\n",
       "    }\n",
       "\n",
       "    .dataframe tbody tr th {\n",
       "        vertical-align: top;\n",
       "    }\n",
       "\n",
       "    .dataframe thead th {\n",
       "        text-align: right;\n",
       "    }\n",
       "</style>\n",
       "<table border=\"1\" class=\"dataframe\">\n",
       "  <thead>\n",
       "    <tr style=\"text-align: right;\">\n",
       "      <th></th>\n",
       "      <th>AMBSL</th>\n",
       "    </tr>\n",
       "    <tr>\n",
       "      <th>DATE</th>\n",
       "      <th></th>\n",
       "    </tr>\n",
       "  </thead>\n",
       "  <tbody>\n",
       "    <tr>\n",
       "      <th>2019-11-01</th>\n",
       "      <td>3330.788</td>\n",
       "    </tr>\n",
       "    <tr>\n",
       "      <th>NaT</th>\n",
       "      <td>NaN</td>\n",
       "    </tr>\n",
       "  </tbody>\n",
       "</table>\n",
       "</div>"
      ],
      "text/plain": [
       "               AMBSL\n",
       "DATE                \n",
       "2019-11-01  3330.788\n",
       "NaT              NaN"
      ]
     },
     "execution_count": 8,
     "metadata": {},
     "output_type": "execute_result"
    }
   ],
   "source": [
    "money_data.tail(2)"
   ]
  },
  {
   "cell_type": "markdown",
   "metadata": {},
   "source": [
    "3. Print out: \"The average monetary base is ???.???.\" \n",
    "\n",
    "   Replace the ???.??? with the average of the monetary base. Use three decimal places."
   ]
  },
  {
   "cell_type": "code",
   "execution_count": 9,
   "metadata": {},
   "outputs": [
    {
     "name": "stdout",
     "output_type": "stream",
     "text": [
      "The average monetary base is 487.953.\n"
     ]
    }
   ],
   "source": [
    "average_mon = money_data['AMBSL'].mean()\n",
    "print(\"The average monetary base is {0:.3f}.\".format(average_mon))"
   ]
  },
  {
   "cell_type": "markdown",
   "metadata": {},
   "source": [
    "## Question 5 (35 pts): Plotting\n",
    "\n",
    "The file 'dane_housing_start.csv' contains the number of new private houses started per year in Dane County. Use these data to recreate the figure below.  Some details:\n",
    "\n",
    "* The two dashed lines are at the maximum and minimum values of the growth rates of new private housing starts\n",
    "* Replace the '??.??' with the min and max of the growth rates of new private housing starts\n",
    "* The title font size is 16\n",
    "* The y-axis label font size is 12\n",
    "* The blue line and the min/max lines have width 2.0\n",
    "* The zero line has width 0.75\n",
    "* The y-axis min and max are (-40, 80)"
   ]
  },
  {
   "cell_type": "code",
   "execution_count": 26,
   "metadata": {
    "scrolled": true
   },
   "outputs": [],
   "source": [
    "import matplotlib.pyplot as plt\n",
    "\n",
    "growth_data = pd.read_csv(\"dane_housing_starts.csv\", index_col = 'DATE')\n",
    "growth_data['GROWTH_RATE'] = growth_data['BPPRIV055025'].pct_change()*100 \n",
    "\n",
    "gmin = growth_data['GROWTH_RATE'].min()\n",
    "gmax = growth_data['GROWTH_RATE'].max()"
   ]
  },
  {
   "cell_type": "code",
   "execution_count": 39,
   "metadata": {},
   "outputs": [
    {
     "data": {
      "image/png": "[encoded data removed]",
      "text/plain": [
       "<Figure size 1080x576 with 1 Axes>"
      ]
     },
     "metadata": {
      "needs_background": "light"
     },
     "output_type": "display_data"
    }
   ],
   "source": [
    "fig, ax = plt.subplots(figsize=(15,8))\n",
    "ax.plot(growth_data.index, growth_data['GROWTH_RATE'], linewidth = 2.0,  color = 'blue')\n",
    "ax.axhline(y=0, color='black', linewidth=0.75)  \n",
    "ax.axhline(y=gmin, color='black', linewidth=2.0, linestyle = '--')  \n",
    "ax.axhline(y=gmax, color='black', linewidth=2.0, linestyle = '--')  \n",
    "\n",
    "ax.text(1992, 66, 'maximum growth = {0:5.2f}'.format(gmax))\n",
    "ax.text(1992, -25, 'minimum growth = {0:5.2f}'.format(gmin))\n",
    "\n",
    "\n",
    "ax.set_title('Growth in new private housing, Dane County', fontsize = 16)\n",
    "ax.set_ylabel('percentage', fontsize = 12)\n",
    "\n",
    "ax.set_ylim(-40, 80)\n",
    "\n",
    "ax.spines['right'].set_visible(False) \n",
    "ax.spines['top'].set_visible(False)  \n",
    "\n",
    "plt.show()"
   ]
  },
  {
   "cell_type": "markdown",
   "metadata": {},
   "source": [
    "![figure](http://badgerdata.org/images/exam1.png)"
   ]
  },
  {
   "cell_type": "markdown",
   "metadata": {},
   "source": [
    "### You are finished!\n",
    "Upload your completed notebook to Canvas."
   ]
  }
 ],
 "metadata": {
  "celltoolbar": "Edit Metadata",
  "hide_input": false,
  "kernelspec": {
   "display_name": "Python 3",
   "language": "python",
   "name": "python3"
  },
  "language_info": {
   "codemirror_mode": {
    "name": "ipython",
    "version": 3
   },
   "file_extension": ".py",
   "mimetype": "text/x-python",
   "name": "python",
   "nbconvert_exporter": "python",
   "pygments_lexer": "ipython3",
   "version": "3.8.8"
  }
 },
 "nbformat": 4,
 "nbformat_minor": 2
}
