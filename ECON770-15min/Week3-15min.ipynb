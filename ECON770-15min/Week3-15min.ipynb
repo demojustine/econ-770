{
 "cells": [
  {
   "cell_type": "markdown",
   "id": "e530d061",
   "metadata": {},
   "source": [
    "# WEEK 3\n",
    "\n",
    "## Flow control"
   ]
  },
  {
   "cell_type": "code",
   "execution_count": 6,
   "id": "8a92c0f1",
   "metadata": {},
   "outputs": [
    {
     "name": "stdout",
     "output_type": "stream",
     "text": [
      "3\n"
     ]
    }
   ],
   "source": [
    "# 1 if-else-elif\n",
    "\n",
    "status = 'supersenior'\n",
    "\n",
    "if status == 'fresh':\n",
    "    class_rank = 0\n",
    "elif status == 'soph':\n",
    "    class_rank = 1\n",
    "elif status == 'jun':\n",
    "    class_rank = 2\n",
    "else:\n",
    "    class_rank = 3\n",
    "\n",
    "print(class_rank)"
   ]
  },
  {
   "cell_type": "code",
   "execution_count": 20,
   "id": "02aaecaa",
   "metadata": {},
   "outputs": [
    {
     "name": "stdout",
     "output_type": "stream",
     "text": [
      "Found him!\n",
      "Found him! His job is prof.\n"
     ]
    }
   ],
   "source": [
    "# 2 in\n",
    "names = ['kim', 'greg', 'bucky', 'barry', 'abe', 'hector']\n",
    "\n",
    "if 'kim' in names:\n",
    "    print('Found him!')\n",
    "    \n",
    "jobs = {'kim':'prof', 'greg':'TA', 'bucky':'mascot', 'barry':'football guy', 'abe':'president', 'hector':'biochemist'}\n",
    "\n",
    "employee = 'greg'\n",
    "\n",
    "if employee in jobs:\n",
    "    print('Found him! His job is {0}.'.format(jobs['kim']))\n",
    "else:\n",
    "    print('That person is not here.')"
   ]
  },
  {
   "cell_type": "code",
   "execution_count": 17,
   "id": "2f43b6fe",
   "metadata": {},
   "outputs": [
    {
     "name": "stdout",
     "output_type": "stream",
     "text": [
      "False\n",
      "------\n",
      "False\n",
      "True\n",
      "------\n",
      "False\n",
      "------\n",
      "Employee not found.\n"
     ]
    }
   ],
   "source": [
    "# 3 not\n",
    "x = 10\n",
    "y = 3\n",
    "b = (x == y)\n",
    "\n",
    "print(b)\n",
    "print(\"------\")\n",
    "print(not True)\n",
    "print(not False)\n",
    "\n",
    "print(\"------\")\n",
    "# The expression in parentheses is True. The `not` flips the sign.  \n",
    "b = not (3 > 2)\n",
    "\n",
    "print(b)\n",
    "\n",
    "print(\"------\")\n",
    "jobs = {'kim':'prof', 'greg':'TA', 'bucky':'mascot', 'barry':'football guy', 'abe':'president', 'hector':'biochemist'}\n",
    "\n",
    "employee = 'elroy'\n",
    "\n",
    "if employee not in jobs:\n",
    "    print('Employee not found.')"
   ]
  },
  {
   "cell_type": "code",
   "execution_count": 22,
   "id": "2416ebab",
   "metadata": {},
   "outputs": [
    {
     "name": "stdout",
     "output_type": "stream",
     "text": [
      "stop\n"
     ]
    }
   ],
   "source": [
    "# practice 1\n",
    "\n",
    "#1\n",
    "stoplight = {'green':'go' , 'yellow':'prepare to stop' , 'red':'stop'}\n",
    "status = 'red'\n",
    "if status in stoplight:\n",
    "    print(\"{0}\".format(stoplight[status]))"
   ]
  },
  {
   "cell_type": "markdown",
   "id": "c53cdb4c",
   "metadata": {},
   "source": [
    "#2 \n",
    "Without running any code, evaluate whether these statements are True or False.\n",
    "\n",
    "3 > 2 > -1 **True**\n",
    " \n",
    "(3 > 2) > -1 **True**\n",
    " \n",
    "'bill' != 'Bill' **True**\n",
    " \n",
    "not ('bill' != 'Bill') **False**\n",
    " \n",
    "(3<2) or not (2>3) **True**"
   ]
  },
  {
   "cell_type": "code",
   "execution_count": 35,
   "id": "206d4893",
   "metadata": {},
   "outputs": [
    {
     "name": "stdout",
     "output_type": "stream",
     "text": [
      "Abe said ' last full measure '\n",
      "Abe said ' of the people, by the people '\n",
      "Abe did not say ' four score and seven '\n"
     ]
    }
   ],
   "source": [
    "#3\n",
    "getty = \"\"\"\n",
    "    Four score and seven years ago our fathers brought forth on this continent, a new nation, \n",
    "    conceived in Liberty, and dedicated to the proposition that all men are created equal.\n",
    "    Now we are engaged in a great civil war, testing whether that nation, or any nation so conceived\n",
    "    and so dedicated, can long endure. We are met on a great battle-field of that war. We have come to \n",
    "    dedicate a portion of that field, as a final resting place for those who here gave their lives \n",
    "    that that nation might live. It is altogether fitting and proper that we should do this.\n",
    "    But, in a larger sense, we can not dedicate we can not consecrate we can not hallow—this ground. \n",
    "    The brave men, living and dead, who struggled here, have consecrated it, far above our poor power \n",
    "    to add or detract. The world will little note, nor long remember what we say here, but it can never \n",
    "    forget what they did here. It is for us the living, rather, to be dedicated here to the unfinished work \n",
    "    which they who fought here have thus far so nobly advanced. It is rather for us to be here dedicated to the \n",
    "    great task remaining before us that from these honored dead we take increased devotion to that cause for \n",
    "    which they gave the last full measure of devotion that we here highly resolve that \n",
    "    these dead shall not have died in vain that this nation, under God, shall have a new birth of \n",
    "    freedom and that government of the people, by the people, for the people, shall not perish from the earth.\n",
    "    \"\"\"\n",
    "phrases = ['last full measure', 'of the people, by the people', 'four score and seven']\n",
    "\n",
    "for i in range(3):\n",
    "    \n",
    "    if phrases[i] in getty:\n",
    "        print(\"Abe said\" , \"'\" , phrases[i], \"'\")\n",
    "    else:\n",
    "        print(\"Abe did not say\" ,  \"'\" , phrases[i], \"'\")\n"
   ]
  },
  {
   "cell_type": "markdown",
   "id": "b6522e81",
   "metadata": {},
   "source": [
    "Abe said \"four score and seven\"\n",
    "but it is in a upper capital in F \n",
    "if change the \"getty\" all lower version it will shows right.\n",
    "like below"
   ]
  },
  {
   "cell_type": "code",
   "execution_count": 38,
   "id": "b1dc775f",
   "metadata": {},
   "outputs": [
    {
     "name": "stdout",
     "output_type": "stream",
     "text": [
      "Abe said ' last full measure '\n",
      "Abe said ' of the people, by the people '\n",
      "Abe said ' four score and seven '\n"
     ]
    }
   ],
   "source": [
    "\n",
    "for i in range(3):\n",
    "    \n",
    "    if phrases[i] in getty.lower():\n",
    "        print(\"Abe said\" , \"'\" , phrases[i], \"'\")\n",
    "    else:\n",
    "        print(\"Abe did not say\" ,  \"'\" , phrases[i], \"'\")"
   ]
  },
  {
   "cell_type": "code",
   "execution_count": 44,
   "id": "497d75b9",
   "metadata": {},
   "outputs": [
    {
     "name": "stdout",
     "output_type": "stream",
     "text": [
      "1.0 <class 'float'>\n",
      "1 <class 'int'>\n",
      "True\n",
      "False\n",
      "-------------\n",
      "Take 0.1+0.2 as an example.\n",
      "The numerator and denominator are: (1351079888211149, 4503599627370496)\n",
      "The approximation is 1351079888211149/4503599627370496 = 0.30000000000000004\n",
      "-------------\n",
      "Take 0.3 as an example.\n",
      "The numerator and denominator are: (5404319552844595, 18014398509481984)\n",
      "The approximation is 5404319552844595/18014398509481984 = 0.3\n",
      "-------------\n",
      "0.9999999999999999\n",
      "-------------\n",
      "1.0\n",
      "1.235\n",
      "Rounding 1.2346987 to 4 digits is 1.2347.\n"
     ]
    }
   ],
   "source": [
    "#  Floating point numbers\n",
    "float_1 = 1.0\n",
    "print(float_1, type(float_1))\n",
    "\n",
    "int_1 = 1\n",
    "print(int_1, type(int_1))\n",
    "\n",
    "print(int_1 == float_1)\n",
    "\n",
    "print(0.1 + 0.2 == 0.3) \n",
    "\n",
    "print(\"-------------\")\n",
    "print('Take 0.1+0.2 as an example.')\n",
    "print('The numerator and denominator are:', float.as_integer_ratio(0.1+0.2))\n",
    "print('The approximation is 1351079888211149/4503599627370496 =', 1351079888211149/4503599627370496)\n",
    "print(\"-------------\")\n",
    "print('Take 0.3 as an example.')\n",
    "print('The numerator and denominator are:', float.as_integer_ratio(0.3))\n",
    "print('The approximation is 5404319552844595/18014398509481984 =', 5404319552844595/18014398509481984)\n",
    "print(\"-------------\")\n",
    "# Summation issues:\n",
    "float_5 = 0.1\n",
    "\n",
    "# This is not a good way to code this! Once we learn about loops, we will never write something like this again.\n",
    "float_6 = float_5 + float_5 + float_5 + float_5 + float_5 + float_5 + float_5 + float_5 + float_5 + float_5 \n",
    "\n",
    "print(float_6)\n",
    "print(\"-------------\")\n",
    "print(round(float_6, 5))\n",
    "\n",
    "float_7 = 1.2346987\n",
    "print(round(float_7, 3))\n",
    "\n",
    "print('Rounding 1.2346987 to 4 digits is {0:.4f}.'.format(float_7))"
   ]
  },
  {
   "cell_type": "code",
   "execution_count": 52,
   "id": "b8399c08",
   "metadata": {},
   "outputs": [
    {
     "name": "stdout",
     "output_type": "stream",
     "text": [
      "True\n"
     ]
    }
   ],
   "source": [
    "# practice\n",
    "\n",
    "#1\n",
    "num_1 = 5.34322356\n",
    "num_2 = 5.343\n",
    "\n",
    "num_11 = round(num_1, 3)\n",
    "print(num_11 == num_2)\n"
   ]
  },
  {
   "cell_type": "code",
   "execution_count": 62,
   "id": "d57d0c1e",
   "metadata": {},
   "outputs": [
    {
     "name": "stdout",
     "output_type": "stream",
     "text": [
      "2.220446049250313e-16\n",
      "1.0000000000000002\n",
      "1.0\n",
      "False\n",
      "True\n"
     ]
    }
   ],
   "source": [
    "#2\n",
    "# We are importing a package. We will learn about this soon.\n",
    "import numpy \n",
    "\n",
    "# We are using the function 'finfo' from the imported numpy package\n",
    "mach_eps = numpy.finfo(float).eps\n",
    "\n",
    "print(mach_eps)\n",
    "\n",
    "num1 =2**(-52)\n",
    "num1 = num1 + 1.0\n",
    "\n",
    "num2 = 1.0+2**(-53)\n",
    "\n",
    "print(num1)\n",
    "print(num2)\n",
    "print(num1 == 1.0)\n",
    "print(num2 == 1.0)"
   ]
  }
 ],
 "metadata": {
  "kernelspec": {
   "display_name": "Python 3",
   "language": "python",
   "name": "python3"
  },
  "language_info": {
   "codemirror_mode": {
    "name": "ipython",
    "version": 3
   },
   "file_extension": ".py",
   "mimetype": "text/x-python",
   "name": "python",
   "nbconvert_exporter": "python",
   "pygments_lexer": "ipython3",
   "version": "3.8.8"
  }
 },
 "nbformat": 4,
 "nbformat_minor": 5
}
