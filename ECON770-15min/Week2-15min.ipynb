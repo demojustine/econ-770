{
 "cells": [
  {
   "cell_type": "markdown",
   "id": "c05b3e7c",
   "metadata": {},
   "source": [
    "# Week 2 - 15min"
   ]
  },
  {
   "cell_type": "code",
   "execution_count": 20,
   "id": "6d833332",
   "metadata": {},
   "outputs": [
    {
     "name": "stdout",
     "output_type": "stream",
     "text": [
      "The total wage bill is 2928.1000000000004\n",
      "You may write me down in history \n",
      "With your bitter, twisted lies, \n",
      "You may tread me in the very dirt \n",
      "But still, like dust, I'll rise. \n",
      "\n",
      "The line's length is 134\n"
     ]
    }
   ],
   "source": [
    "#Practice 1\n",
    "\n",
    "#everyone's hours\n",
    "Hrsworked_Bob = 37\n",
    "Hrsworked_Alice = 42\n",
    "hrswored_Clarice = 45.6\n",
    "\n",
    "WAGE = 23.5000\n",
    "\n",
    "x = Hrsworked_Bob * WAGE + Hrsworked_Alice * WAGE + hrswored_Clarice * WAGE\n",
    "print('The total wage bill is', x)\n",
    "\n",
    "\n",
    "# This string is from Maya Angelou's poem \"Still I rise\"\n",
    "line = \"\"\"You may write me down in history \n",
    "With your bitter, twisted lies, \n",
    "You may tread me in the very dirt \n",
    "But still, like dust, I'll rise.\"\"\"\n",
    "print(line, '\\n')\n",
    "\n",
    "linelength =len(line)\n",
    "\n",
    " \n",
    "print('The line\\'s length is', linelength)"
   ]
  },
  {
   "cell_type": "code",
   "execution_count": 8,
   "id": "05ef8b0d",
   "metadata": {},
   "outputs": [
    {
     "name": "stdout",
     "output_type": "stream",
     "text": [
      "The UW school song is Varsity.\n",
      "The UW school song is Varsity. It was written in 1898.\n",
      "The UW school song is 1898. It was written in Varsity.\n",
      "The UW school song is Varsity. It was written in 1898. The first lyric is Varsity! Varsity!\n",
      "The UW school song is Varsity. It was written in 1998.\n"
     ]
    }
   ],
   "source": [
    "# part 2  字符串格式化\n",
    "school_song = 'Varsity'\n",
    "\n",
    "print('The UW school song is {0}.'.format(school_song))\n",
    "\n",
    "# What kind of variable is this?\n",
    "year_written = 1898 \n",
    "\n",
    "print('The UW school song is {0}. It was written in {1}.'.format(school_song, year_written))\n",
    "\n",
    "# The values can be outputed in any order.\n",
    "print('The UW school song is {1}. It was written in {0}.'.format(school_song, year_written))\n",
    "\n",
    "# The values can be used more than once. \n",
    "print('The UW school song is {0}. It was written in {1}. The first lyric is {0}! {0}!'.format(school_song, year_written))\n",
    "\n",
    "print('The UW school song is {song}. It was written in {year}.'.format(song='Varsity', year='1998'))"
   ]
  },
  {
   "cell_type": "code",
   "execution_count": 18,
   "id": "94ab23ef",
   "metadata": {},
   "outputs": [
    {
     "name": "stdout",
     "output_type": "stream",
     "text": [
      "不作任何格式化 0.3333333333333333\n",
      "格式化default值:小数点后字符长度为六位 foo = 0.333333\n",
      "输出宽度为5个'空格'的数字 : 5个空格中的3个在小数点右边 foo = 0.333\n",
      "输出宽度为8个'空格'的数字 : 8个空格中的3个在小数点右边 foo =    0.333\n",
      "0 + 输出宽度为8个'空格'的数字 : 8个空格中的3个在小数点右边 foo = 0000.333\n",
      "字符宽度 + , +  .[ ]f // An easy to read  big float is = 5,692,348,925.20\n"
     ]
    }
   ],
   "source": [
    "# part 3 格式化浮点数\n",
    "\n",
    "foo = 1/3\n",
    "print(\"不作任何格式化\", foo)\n",
    "\n",
    "# This is the default float format.\n",
    "print(\"格式化default值:小数点后字符长度为六位\", 'foo = {0:f}'.format(foo))\n",
    "\n",
    "print(\"输出宽度为5个'空格'的数字 : 5个空格中的3个在小数点右边\", 'foo = {0:5.3f}'.format(foo))\n",
    "\n",
    "# Now the space reserved for the number is 8\n",
    "print(\"输出宽度为8个'空格'的数字 : 8个空格中的3个在小数点右边\", 'foo = {0:8.3f}'.format(foo))\n",
    "\n",
    "# The zero before the 8 prints out the leading zeros. \n",
    "print(\"0 + 输出宽度为8个'空格'的数字 : 8个空格中的3个在小数点右边\", 'foo = {0:08.3f}'.format(foo))\n",
    "\n",
    "print('字符宽度 + , +  .[ ]f // An easy to read  big float is = {0:16,.2f}'.format(5692348925.2))"
   ]
  },
  {
   "cell_type": "code",
   "execution_count": 33,
   "id": "5e8cf40d",
   "metadata": {},
   "outputs": [
    {
     "name": "stdout",
     "output_type": "stream",
     "text": [
      "the number is larger than the width we specify is like: 123456789123456.80\n",
      "3.0%\n",
      "65.30%\n",
      "65.30%\n",
      "0.056%\n",
      "03.000%\n",
      "65.30%\n",
      "00.056%\n"
     ]
    }
   ],
   "source": [
    "# practice 2\n",
    "\n",
    "# 1\n",
    "big_float = 123456789123456.7899\n",
    "print('the number is larger than the width we specify is like: {0:5.2f}'.format(big_float))\n",
    "\n",
    "# 2\n",
    "x = 0.03 \n",
    "print('{0:4.1%}'.format(x))\n",
    "y = 0.65297 \n",
    "print('{0:6.2%}'.format(y))\n",
    "print('{0:5.2%}'.format(y))\n",
    "z = 0.00056 \n",
    "print('{0:5.3%}'.format(z))\n",
    "\n",
    "# 3\n",
    "print('{0:07.3%}'.format(x))\n",
    "print('{0:05.2%}'.format(y))\n",
    "print('{0:07.3%}'.format(z))"
   ]
  }
 ],
 "metadata": {
  "kernelspec": {
   "display_name": "Python 3",
   "language": "python",
   "name": "python3"
  },
  "language_info": {
   "codemirror_mode": {
    "name": "ipython",
    "version": 3
   },
   "file_extension": ".py",
   "mimetype": "text/x-python",
   "name": "python",
   "nbconvert_exporter": "python",
   "pygments_lexer": "ipython3",
   "version": "3.8.8"
  }
 },
 "nbformat": 4,
 "nbformat_minor": 5
}
