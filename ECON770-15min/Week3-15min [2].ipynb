{
 "cells": [
  {
   "cell_type": "markdown",
   "id": "4cd14d6e",
   "metadata": {},
   "source": [
    "# WEEK 3\n",
    "\n",
    "## function args"
   ]
  },
  {
   "cell_type": "code",
   "execution_count": 11,
   "id": "e93d1e4e",
   "metadata": {},
   "outputs": [
    {
     "name": "stdout",
     "output_type": "stream",
     "text": [
      "-=====-\n",
      "The econ department phone number is:\n",
      "608-263-2989\n"
     ]
    }
   ],
   "source": [
    "# Argument types\n",
    "def divider(numerator, denominator):\n",
    "    \"\"\"\n",
    "    Divides numerator by denominator.  \n",
    "    \"\"\"\n",
    "    return numerator/denominator \n",
    "# Here numerator = 5 and denominator = 10\n",
    "divider(5, 10)\n",
    "# Here numerator = 10 and denominator = 5\n",
    "divider(10, 5)\n",
    "\n",
    "divider(numerator=100, denominator=25)\n",
    "\n",
    "# Is this 4, or 0.25? 用keyword形式赋值 顺序不重要\n",
    "divider(denominator=25, numerator=100)\n",
    "\n",
    "print('-=====-')\n",
    "# print() has a keyword argument 'sep' that sets the separating character.\n",
    "print('The econ department phone number is:') \n",
    "print('608', '263', '2989', sep='-')\n"
   ]
  },
  {
   "cell_type": "code",
   "execution_count": 14,
   "id": "cd10ab59",
   "metadata": {},
   "outputs": [
    {
     "data": {
      "text/plain": [
       "0.4535147392290249"
      ]
     },
     "execution_count": 14,
     "metadata": {},
     "output_type": "execute_result"
    }
   ],
   "source": [
    "# Default arguments\n",
    "def weight_converter(weight, how='kgtolb'): # function定义时可以给定默认值\n",
    "    \"\"\"\n",
    "    Converts weights to different units. Currently supports pounds to kilograms\n",
    "    and kilograms to pounds.\n",
    "    \"\"\"\n",
    "    if how == 'kgtolb':\n",
    "        return weight*2.205\n",
    "    elif how == 'lbtokg':\n",
    "        return weight/2.205\n",
    "    \n",
    "# If I do not pass the `how` argument, I get kilos to lbs. \n",
    "weight_converter(1.0)\n",
    "\n",
    "weight_converter(1.0, how='lbtokg')"
   ]
  },
  {
   "cell_type": "code",
   "execution_count": 21,
   "id": "e74e059c",
   "metadata": {},
   "outputs": [
    {
     "ename": "SyntaxError",
     "evalue": "positional argument follows keyword argument (<ipython-input-21-8172ac777bc4>, line 7)",
     "output_type": "error",
     "traceback": [
      "\u001b[1;36m  File \u001b[1;32m\"<ipython-input-21-8172ac777bc4>\"\u001b[1;36m, line \u001b[1;32m7\u001b[0m\n\u001b[1;33m    print(sep='-', '608', '263', '2989')\u001b[0m\n\u001b[1;37m                   ^\u001b[0m\n\u001b[1;31mSyntaxError\u001b[0m\u001b[1;31m:\u001b[0m positional argument follows keyword argument\n"
     ]
    }
   ],
   "source": [
    "# practice \n",
    "#1\n",
    "print('608', '263', '2989') # 不写就是default值 = =|||\n",
    "print('608', '263', '2989', end = '?') \n",
    "\n",
    "#2\n",
    "print(sep='-', '608', '263', '2989') # Can not work."
   ]
  },
  {
   "cell_type": "code",
   "execution_count": 40,
   "id": "097a75f8",
   "metadata": {},
   "outputs": [
    {
     "ename": "SyntaxError",
     "evalue": "invalid syntax (<ipython-input-40-ca0dc5d8f39a>, line 12)",
     "output_type": "error",
     "traceback": [
      "\u001b[1;36m  File \u001b[1;32m\"<ipython-input-40-ca0dc5d8f39a>\"\u001b[1;36m, line \u001b[1;32m12\u001b[0m\n\u001b[1;33m    data1 = {'kim':['prof', 'economics'], 'greg':['TA', 'economics'],\u001b[0m\n\u001b[1;37m    ^\u001b[0m\n\u001b[1;31mSyntaxError\u001b[0m\u001b[1;31m:\u001b[0m invalid syntax\n"
     ]
    }
   ],
   "source": [
    "#3\n",
    "\n",
    "def employee_summary(dataset, names, extended=False):\n",
    "    if names in dataset:\n",
    "        if extended ==False:\n",
    "            print(\"Employee {0} is in {1}.\".format(names.title(), dataset[names][1]))\n",
    "        else:\n",
    "            print(\"Employee {0} is a {1} in {2}.\".format(names,title(), dataset[names][0], dataset[names][1]))\n",
    "    else:\n",
    "        print(\"{0} is not an employee.\".format(name.title())\n",
    "\n",
    "data1 = {'kim':['prof', 'economics'], 'greg':['TA', 'economics'], \n",
    "        'bucky':['mascot', 'sports'], 'barry':['coach', 'the football team'], \n",
    "        'abe':['president', 'USA'], 'hector':['prof', 'biochemistry']}\n",
    "              \n",
    "employee_summary(data1, 'greg', extended=True)\n",
    "employee_summary(data1, 'goldy')\n",
    "employee_summary(data1, 'barry', extended=False)"
   ]
  },
  {
   "cell_type": "code",
   "execution_count": 39,
   "id": "01c8d3a2",
   "metadata": {},
   "outputs": [
    {
     "name": "stdout",
     "output_type": "stream",
     "text": [
      "Employee Greg is a TA in economics.\n",
      "Goldy is not an employee.\n",
      "Employee Barry is in the football team.\n"
     ]
    }
   ],
   "source": [
    "# Question 3\n",
    "\n",
    "def employee_summary(data_dict, name, extended=False):\n",
    "    if name in data_dict:\n",
    "        if extended == False:\n",
    "            print('Employee {0} is in {1}.'.format(name.title(), data_dict[name][1]))\n",
    "        else:\n",
    "            print('Employee {0} is a {1} in {2}.'.format(name.title(),\n",
    "                                                         data_dict[name][0], \n",
    "                                                         data_dict[name][1]))\n",
    "    else:\n",
    "        print('{0} is not an employee.'.format(name.title()))\n",
    "        \n",
    "data = {'kim':['prof', 'economics'], 'greg':['TA', 'economics'], \n",
    "        'bucky':['mascot', 'sports'], 'barry':['coach', 'the football team'], \n",
    "        'abe':['president', 'USA'], 'hector':['prof', 'biochemistry']}\n",
    "\n",
    "employee_summary(data, 'greg', extended=True)\n",
    "employee_summary(data, 'goldy')\n",
    "employee_summary(data, 'barry', extended=False)"
   ]
  }
 ],
 "metadata": {
  "kernelspec": {
   "display_name": "Python 3",
   "language": "python",
   "name": "python3"
  },
  "language_info": {
   "codemirror_mode": {
    "name": "ipython",
    "version": 3
   },
   "file_extension": ".py",
   "mimetype": "text/x-python",
   "name": "python",
   "nbconvert_exporter": "python",
   "pygments_lexer": "ipython3",
   "version": "3.8.8"
  }
 },
 "nbformat": 4,
 "nbformat_minor": 5
}
