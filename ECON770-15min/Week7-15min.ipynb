{
 "cells": [
  {
   "cell_type": "markdown",
   "metadata": {},
   "source": [
    "## Fifteen-minute Friday #7\n",
    "\n",
    "files needed = 'industrial_production.xlsx', 'VIXCLSD.csv', 'osk.csv'\n",
    "\n",
    "Fifteen-minute Fridays are brief, nongraded workbooks that provide some extra practice and introduce new topics for self-guided study. This week we are working on\n",
    "\n",
    "1. Exporting figures and using them in MS Word\n",
    "2. Rolling-window calculations\n",
    "\n",
    "The solutions to the practice problems are at the end of the notebook."
   ]
  },
  {
   "cell_type": "code",
   "execution_count": null,
   "metadata": {},
   "outputs": [],
   "source": [
    "import pandas as pd\n",
    "import matplotlib.pyplot as plt"
   ]
  },
  {
   "cell_type": "markdown",
   "metadata": {},
   "source": [
    "## Adding figures to MS Word. \n",
    "\n",
    "Part of your final project is an executive summary formatted as a PDF. A natural way to create the PDF is to create an MS Word document and export it as a PDF at the end. \n",
    "\n",
    "This means you will need to get your figures from a Jupyter notebook to an MS Word document. There are many ways to do this. The best way to do this is to first save your figure from inside your notebook, and then add it to your Word document. \n",
    "\n",
    "**Do not use a screenshot or the snipping tool to take a picture of the figure in your notebook and paste it into your document.** This will result in blurry figures that can be difficult to read. "
   ]
  },
  {
   "cell_type": "code",
   "execution_count": null,
   "metadata": {},
   "outputs": [],
   "source": [
    "ind_prod = pd.read_excel('industrial_production.xlsx', sheet_name='Quarterly', index_col=0)\n",
    "ind_prod = ind_prod.rename(columns={'IPB51000SQ':'ind prod consumer'})\n",
    "ind_prod.head(2)"
   ]
  },
  {
   "cell_type": "markdown",
   "metadata": {},
   "source": [
    "Let's plot consumer products production. We will save the figure in two formats. \n",
    "\n",
    "The first is PNG, which is a [raster graphics](https://en.wikipedia.org/wiki/Raster_graphics) format. A raster graphic is essentially made up of many tiny dots. \n",
    "\n",
    "The second is SVG, which is a [scalable vector](https://en.wikipedia.org/wiki/Scalable_Vector_Graphics) graphics format. The image is essentially a set of equations that describe the shape. \n",
    "\n",
    "matplotlib handles both these formats easily."
   ]
  },
  {
   "cell_type": "code",
   "execution_count": null,
   "metadata": {},
   "outputs": [],
   "source": [
    "fig, ax = plt.subplots(figsize=(5,3))\n",
    "ax.plot(ind_prod.index, ind_prod['ind prod consumer'], color='black')\n",
    "\n",
    "ax.set_ylabel('index (2012=100)')\n",
    "\n",
    "ax.spines['top'].set_visible(False)\n",
    "ax.spines['right'].set_visible(False)\n",
    "\n",
    "plt.savefig('ind_prod.svg')\n",
    "plt.savefig('ind_prod.png')\n",
    "\n",
    "plt.show()"
   ]
  },
  {
   "cell_type": "markdown",
   "metadata": {},
   "source": [
    "### No title?\n",
    "\n",
    "Notice that I did not add a title to the figure. This seems like malpractice. \n",
    "\n",
    "I did this because I will add the title in MS Word. The title is integrated into the caption and figure number object in Word. "
   ]
  },
  {
   "cell_type": "markdown",
   "metadata": {},
   "source": [
    "## Practice: Adding figures to Word\n",
    "\n",
    "1. Open a new MS Word document. \n",
    "\n",
    "2. Add the two figures we created in cell above. To add a figure to Word, use the `Insert` tab at the top of the document and choose `Pictures`.\n",
    "\n",
    "3. Add a caption. Right click on the figure and choose `Insert caption`. Set the `Label` field to `Figure`. I like my captions above the figure, but you can put them below if you choose. Make your captions consistent in their appearance and location.\n"
   ]
  },
  {
   "cell_type": "markdown",
   "metadata": {},
   "source": [
    "### The importance of vector graphics\n",
    "\n",
    "4. Zoom in on your document. The zoom control is in the lower-right corner. Do you see how blurry the PNG figure has become? The SVG figure scales smoothly with the figure's size. \n",
    "\n",
    "Be sure to use SVG files when creating your project documents. "
   ]
  },
  {
   "cell_type": "markdown",
   "metadata": {},
   "source": [
    "## Rolling window calculations\n",
    "Once we have set up our time series data with a datetime index, pandas can take care of the details. We have already seen how to resample the data, slice with dates, and use dates in plots. Very nice. Here, we take a look at rolling-window calculations."
   ]
  },
  {
   "cell_type": "markdown",
   "metadata": {},
   "source": [
    "Suppose we have yearly data from 1800 to 2000. A *ten-year rolling window* would create 190 windows (200 years of data minus 10) of the form: \n",
    "\n",
    "1800-1810, \n",
    "1801-1811,\n",
    "1802-1812,\n",
    ".\n",
    ".\n",
    ".,\n",
    "1988-1998,\n",
    "1989-1999,\n",
    "1990-2000.\n",
    "\n",
    "We can then compute a statistics for each window. For example, we can compute the mean of each window and have 190 observations &mdash; the moving or rolling average.   We often use moving averages to extract trends from noisy data.\n",
    "\n",
    "Let's use the vix data we used in class. I'm using the `parse_dates` option to tell pandas to try and convert the index to a DatetimeIndex, rather than do the conversion myself. "
   ]
  },
  {
   "cell_type": "code",
   "execution_count": null,
   "metadata": {},
   "outputs": [],
   "source": [
    "vix = pd.read_csv('VIXCLSD-1.csv', na_values='.', index_col=0, parse_dates=True)\n",
    "print(vix.head(), '\\n\\n', vix.shape)\n",
    "print('\\n\\n', vix.index)"
   ]
  },
  {
   "cell_type": "markdown",
   "metadata": {},
   "source": [
    "The `rolling()` method of DataFrame allows methods like `mean()` and `var()` to be calculated over a rolling window of the data.  \n",
    "\n",
    "Calling \n",
    "```python\n",
    "vix['VIXCLS'].rolling(30)\n",
    "```\n",
    "generates a Series of rolling observations. In this case, I am asking for a 30-day window. We can directly call a method like `mean()` or `var()` to compute rolling calculations. \n",
    "```python\n",
    "vix['VIXCLS'].rolling(30).mean()\n",
    "```\n",
    "Notice in the code below that I have to strip out the missing values using `dropna()`. Otherwise, `rolling()` will only work on the complete 30-day windows."
   ]
  },
  {
   "cell_type": "code",
   "execution_count": null,
   "metadata": {},
   "outputs": [],
   "source": [
    "# Drop missing observations and create the moving average\n",
    "vix['vix_ma'] = vix['VIXCLS'].dropna().rolling(30).mean()                             \n",
    "\n",
    "\n",
    "# Plot it\n",
    "fig, ax = plt.subplots(figsize=(10,5))\n",
    "\n",
    "ax.plot(vix.index, vix['VIXCLS'], color = 'red', label = 'daily close', alpha=0.25)\n",
    "ax.plot(vix.index, vix['vix_ma'], color = 'blue', label = '30-day moving average')\n",
    "\n",
    "ax.set_title('CBOE Volatility Index: VIX')\n",
    "ax.spines['top'].set_visible(False)\n",
    "ax.spines['right'].set_visible(False)\n",
    "ax.legend(frameon=False)\n",
    "\n",
    "plt.show()"
   ]
  },
  {
   "cell_type": "markdown",
   "metadata": {},
   "source": [
    "Note that this figure looks similar to the resampled data figures we made in class, but the two are conceptually different. Resampling to, say, the monthly levels returns the mean computed at each non-overlapping month in the data. The rolling window calculation is computing overlapping 30 day means. "
   ]
  },
  {
   "cell_type": "markdown",
   "metadata": {},
   "source": [
    "### Practice: Rolling windows\n",
    "\n",
    "We did the first three parts of this practice in class. You can copy your solutions over, but trying this again will make you a better programmer. \n",
    "\n",
    "1. Read the file 'osk.csv' into a DataFrame. The file contains daily closing prices for OshKosh Corp. and the S&P 500. \n",
    "\n",
    "2. Set the index to the date. Make sure the dates are datetime objects!"
   ]
  },
  {
   "cell_type": "markdown",
   "metadata": {},
   "source": [
    "3. *Normalize* each series (osk, sp500) by dividing every observation by the value at 01-02-2018. Try \n",
    "```python\n",
    "prices['osk_n'] = prices['osk'] / prices.loc['2018-01-02,','osk']\n",
    "```\n",
    "and something similar for the S&P 500."
   ]
  },
  {
   "cell_type": "markdown",
   "metadata": {},
   "source": [
    "4. Compute and plot the 90-day rolling standard deviation of the Osh Kosh and S&P 500 normalized daily prices. "
   ]
  },
  {
   "cell_type": "markdown",
   "metadata": {},
   "source": [
    "5. Plot the two standard deviation series again, but only for the first half of the year (Jan 2018 through June 2018). Use a slice on the index to do it. "
   ]
  },
  {
   "cell_type": "markdown",
   "metadata": {},
   "source": [
    "6. Do the x-axis labels look cluttered? Try `fig.autofmt_xdate()` and let matplotlib try to help."
   ]
  },
  {
   "cell_type": "code",
   "execution_count": null,
   "metadata": {},
   "outputs": [],
   "source": []
  },
  {
   "cell_type": "code",
   "execution_count": null,
   "metadata": {},
   "outputs": [],
   "source": []
  },
  {
   "cell_type": "code",
   "execution_count": null,
   "metadata": {},
   "outputs": [],
   "source": []
  },
  {
   "cell_type": "code",
   "execution_count": null,
   "metadata": {},
   "outputs": [],
   "source": []
  },
  {
   "cell_type": "code",
   "execution_count": null,
   "metadata": {},
   "outputs": [],
   "source": []
  },
  {
   "cell_type": "markdown",
   "metadata": {},
   "source": [
    "## Adding files to MS Word: Solutions\n",
    "\n",
    "You can find my word document on the course webpage. It is named 'inserting_figures.docx'."
   ]
  },
  {
   "cell_type": "markdown",
   "metadata": {},
   "source": [
    "## Rolling windows: Solutions"
   ]
  },
  {
   "cell_type": "code",
   "execution_count": null,
   "metadata": {},
   "outputs": [],
   "source": [
    "# Parts 1, 2, and 3\n",
    "prices = pd.read_csv('osk.csv', index_col=0, parse_dates=True)\n",
    "\n",
    "prices['osk_n'] = prices['osk'] / prices.loc['2018-01-02,','osk']\n",
    "prices['sp500_n'] = prices['sp500'] / prices.loc['2018-01-02,','sp500']\n",
    "\n",
    "prices.head(3)"
   ]
  },
  {
   "cell_type": "code",
   "execution_count": null,
   "metadata": {},
   "outputs": [],
   "source": [
    "# Part 4\n",
    "prices['std_osk'] = prices['osk_n'].rolling(90).std()\n",
    "prices['std_sp500'] = prices['sp500_n'].rolling(90).std()\n",
    "\n",
    "fig, ax = plt.subplots(figsize=(10,5))\n",
    "ax.plot(prices.index, prices['std_osk'], color = 'red', label = 'OSK: 90-day std')\n",
    "ax.plot(prices.index, prices['std_sp500'], color = 'blue', label = 'S&P500: 90-day std')\n",
    "\n",
    "\n",
    "ax.set_title('Rolling standard deviations')\n",
    "ax.spines['top'].set_visible(False)\n",
    "ax.spines['right'].set_visible(False)\n",
    "ax.legend(frameon=False)\n",
    "\n",
    "plt.show()"
   ]
  },
  {
   "cell_type": "code",
   "execution_count": null,
   "metadata": {},
   "outputs": [],
   "source": [
    "# Parts 5 and 6\n",
    "\n",
    "fig, ax = plt.subplots(figsize=(10,5))\n",
    "\n",
    "\n",
    "# Notice that I am not passing the x-variable explicitly. Matplotlib will default to the index.\n",
    "ax.plot(prices['std_sp500'].loc['01-01-2018':'06-30-2018'], color = 'blue', label = 'S&P 500: 90-day std')\n",
    "ax.plot(prices['std_osk'].loc['01-01-2018':'06-30-2018'], color = 'red', label = 'OSK: 90-day std')\n",
    "\n",
    "\n",
    "ax.set_title('Rolling standard deviations')\n",
    "ax.spines['top'].set_visible(False)\n",
    "ax.spines['right'].set_visible(False)\n",
    "ax.legend(frameon=False)\n",
    "\n",
    "# Let matplotlib choose how to rotate the labels \n",
    "fig.autofmt_xdate()\n",
    "\n",
    "plt.show()"
   ]
  }
 ],
 "metadata": {
  "celltoolbar": "Edit Metadata",
  "kernelspec": {
   "display_name": "Python 3",
   "language": "python",
   "name": "python3"
  },
  "language_info": {
   "codemirror_mode": {
    "name": "ipython",
    "version": 3
   },
   "file_extension": ".py",
   "mimetype": "text/x-python",
   "name": "python",
   "nbconvert_exporter": "python",
   "pygments_lexer": "ipython3",
   "version": "3.8.8"
  }
 },
 "nbformat": 4,
 "nbformat_minor": 2
}
