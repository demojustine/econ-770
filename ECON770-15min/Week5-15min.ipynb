{
 "cells": [
  {
   "cell_type": "markdown",
   "metadata": {},
   "source": [
    "## Fifteen-minute Friday #5\n",
    "\n",
    "files needed = ('data1.csv', 'data2.csv', 'data3.csv', 'data4.csv')\n",
    "\n",
    "Fifteen-minute Fridays are brief, nongraded workbooks that provide some extra practice and introduce new topics for self-guided study. This week we are working on\n",
    "\n",
    "1. More on file paths\n",
    "1. Using a loop to read many files \n",
    "\n",
    "The solutions to the practice problems are at the end of the notebook."
   ]
  },
  {
   "cell_type": "markdown",
   "metadata": {},
   "source": [
    "## Relative file paths\n",
    "\n",
    "A common way to organize your projects is to keep your data files in a folder separate from your code and your output. This means that you will need to specify where your files are located. "
   ]
  },
  {
   "cell_type": "markdown",
   "metadata": {},
   "source": [
    "1. Get your current working directory. We did this in class using the `os` package. "
   ]
  },
  {
   "cell_type": "markdown",
   "metadata": {},
   "source": [
    "2. Inside your current working directory, create a folder named 'data_files'.\n",
    "3. Move the files 'data1.csv', 'data2.csv', 'data3.csv', and 'data4.csv' into the 'data_files' folder."
   ]
  },
  {
   "cell_type": "markdown",
   "metadata": {},
   "source": [
    "### Absolute paths\n",
    "In class, we used the cwd + the file name to access files not in our current working directory. For example, I could use \n",
    "```python\n",
    "fname = os.getcwd()+'\\\\'+'data_files'+'\\\\'+'data1.csv'\n",
    "```\n",
    "and the variable `fname` would hold a string with the path to the file 'data1.csv'. Writing the path this way gives us the *absolute path* to the file. "
   ]
  },
  {
   "cell_type": "markdown",
   "metadata": {},
   "source": [
    "4. Use the absolute path approach to read data1.csv into a DataFrame. "
   ]
  },
  {
   "cell_type": "markdown",
   "metadata": {},
   "source": [
    "### Relative paths\n",
    "Suppose you moved these files to another machine. Depending on how that machine is set up, the absolute path may not work any longer. For example, the drive letter (C:\\, D:\\, etc. ) you are working on may have changed. Now your code is broken!\n",
    "\n",
    "We can construct a relative path to avoid these problems. A relative path specifies a path *relative to the current working directory*. We are using a relative path when we do not include any file path. For example, in\n",
    "\n",
    "```python\n",
    "df = pd.read_csv('data1.csv')\n",
    "```\n",
    "\n",
    "`read_csv()` is looking for the file 'data1.csv' in you current working directory. It will not find the file there, because the file is in the 'data_files' folder! Using a relative path, we start from our current working directory and go from there. So the file path in\n",
    "\n",
    "```python\n",
    "df = pd.read_csv('data_files\\\\data1.csv')\n",
    "```\n",
    "\n",
    "tells `read_csv()` to look for the file inside a folder named 'data_files' in the our current working directory.  "
   ]
  },
  {
   "cell_type": "markdown",
   "metadata": {},
   "source": [
    "5. Use the relative path approach to read 'data1.csv' into a DataFrame."
   ]
  },
  {
   "cell_type": "markdown",
   "metadata": {},
   "source": [
    "6. Create a folder named 'inner_folder' **inside** your data_files folder. \n",
    "7. Move 'data2.csv' into the 'inner_folder'.\n",
    "8. Use a relative path to read 'data2.csv' into a DataFrame."
   ]
  },
  {
   "cell_type": "markdown",
   "metadata": {},
   "source": [
    "What if we need to reference a file in a folder that is not in our current working directory? We use `..` to tell the computer to look one folder-level \"up\". \n",
    "\n",
    "Let's try it out. Close this notebook and move it inside 'inner_folder'. Then reopen the notebook and come back to this line. Go ahead, I'll wait here. "
   ]
  },
  {
   "cell_type": "markdown",
   "metadata": {},
   "source": [
    "9. Now, use a 'run all above' to execute your notebook. The absolute path you created in 4. is now broken. \n",
    "10. What is your current working directory now? "
   ]
  },
  {
   "cell_type": "markdown",
   "metadata": {},
   "source": [
    "Suppose we want open 'data1.csv' which is not in our current working directory, but in the directory \"above.\" We would use\n",
    "```python\n",
    "df = pd.read_csv('..\\\\data1.csv')\n",
    "```\n",
    "The `..` moves up one directory, so `read_csv()` is looking inside the 'data_files' folder for the file. "
   ]
  },
  {
   "cell_type": "markdown",
   "metadata": {},
   "source": [
    "11. Open 'data1.csv' using a relative path. "
   ]
  },
  {
   "cell_type": "markdown",
   "metadata": {},
   "source": [
    "## Using a loop to read files\n",
    "\n",
    "One last problem to finish off your week..."
   ]
  },
  {
   "cell_type": "markdown",
   "metadata": {},
   "source": [
    "1. Move 'data2.csv' back into 'data_files'. All four data files should be in the 'data_files' folder and this notebook should be in the 'inner_folder' folder. "
   ]
  },
  {
   "cell_type": "markdown",
   "metadata": {},
   "source": [
    "2. Use a loop and some string manipulation to create four DataFrames from the four data files. Assign the DataFrames to a dict with the keys `df1`, `df2`, `df3`, and `df4`."
   ]
  },
  {
   "cell_type": "code",
   "execution_count": null,
   "metadata": {},
   "outputs": [],
   "source": []
  },
  {
   "cell_type": "code",
   "execution_count": null,
   "metadata": {},
   "outputs": [],
   "source": []
  },
  {
   "cell_type": "markdown",
   "metadata": {},
   "source": [
    "## Relative file paths: Solutions"
   ]
  },
  {
   "cell_type": "code",
   "execution_count": null,
   "metadata": {},
   "outputs": [],
   "source": [
    "# 1. Get the current working directory.\n",
    "import os\n",
    "os.getcwd()"
   ]
  },
  {
   "cell_type": "code",
   "execution_count": null,
   "metadata": {},
   "outputs": [],
   "source": [
    "# 4. Read in the file with an absolute path.\n",
    "import pandas as pd\n",
    "df = pd.read_csv(os.getcwd()+'\\\\'+'data_files'+'\\\\'+'data1.csv')\n",
    "df.head(2)"
   ]
  },
  {
   "cell_type": "code",
   "execution_count": null,
   "metadata": {},
   "outputs": [],
   "source": [
    "# 5. Read in the file with a relative path.\n",
    "df = pd.read_csv('data_files\\\\data1.csv')"
   ]
  },
  {
   "cell_type": "code",
   "execution_count": null,
   "metadata": {},
   "outputs": [],
   "source": [
    "# 8. Read in the file with a relative path through two levels of directories.  \n",
    "df = pd.read_csv('data_files\\\\inner_folder\\\\data2.csv')"
   ]
  },
  {
   "cell_type": "code",
   "execution_count": null,
   "metadata": {},
   "outputs": [],
   "source": [
    "# 11. Move up one directory to read in a file with a relative path.\n",
    "df = pd.read_csv('..\\\\data1.csv')"
   ]
  },
  {
   "cell_type": "markdown",
   "metadata": {},
   "source": [
    "## Loops to read in files: Solutions"
   ]
  },
  {
   "cell_type": "code",
   "execution_count": null,
   "metadata": {},
   "outputs": [],
   "source": [
    "# 2. Loop over the files and create a dict of DataFrames.\n",
    "\n",
    "data = {}\n",
    "for i in range(1,5):\n",
    "    data[('df'+str(i))] = pd.read_csv('..\\\\data'+str(i)+'.csv')"
   ]
  }
 ],
 "metadata": {
  "celltoolbar": "Edit Metadata",
  "kernelspec": {
   "display_name": "Python 3",
   "language": "python",
   "name": "python3"
  },
  "language_info": {
   "codemirror_mode": {
    "name": "ipython",
    "version": 3
   },
   "file_extension": ".py",
   "mimetype": "text/x-python",
   "name": "python",
   "nbconvert_exporter": "python",
   "pygments_lexer": "ipython3",
   "version": "3.8.8"
  }
 },
 "nbformat": 4,
 "nbformat_minor": 2
}
