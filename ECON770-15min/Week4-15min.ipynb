{
 "cells": [
  {
   "cell_type": "markdown",
   "metadata": {},
   "source": [
    "## Fifteen-minute Friday #4\n",
    "\n",
    "files needed = 'industrial_production.xlsx'\n",
    "\n",
    "Fifteen-minute Fridays are brief, nongraded workbooks that provide some extra practice and introduce new topics for self-guided study. This week we are working on\n",
    "\n",
    "1. Working with DataFrames\n",
    "1. Practice working with messy data\n",
    "\n",
    "\n",
    "\n",
    "The solutions to the practice problems are at the end of the notebook."
   ]
  },
  {
   "cell_type": "markdown",
   "metadata": {},
   "source": [
    "## 1. Helpful DataFrame functions\n",
    "\n",
    "Let's look at few methods that help us learn about the contents of a DataFrame. Some of these we know already, some will be new. \n",
    "\n",
    "Describing and learning about a DataFrame is typically the first thing you do after getting it defined. We might want to know:\n",
    "\n",
    "* How big is this DataFrame?\n",
    "2. What are the column or row names?\n",
    "3. What are the data types? Are they the types we expected? \n",
    "4. How do we peek at small parts of the DataFrame?\n",
    "\n",
    "Once we think our DataFrame is set up correctly, we can move on to the analysis. We might still find some gremlins later...\n",
    "\n",
    "Give the following a try. "
   ]
  },
  {
   "cell_type": "markdown",
   "metadata": {},
   "source": [
    "### Loading and setting up your DataFrame\n",
    "\n",
    "1. Load the file 'industrial_production.xlsx' into a DataFrame. We want the sheet 'Quarterly'. \n",
    "2. Print out the first 4 rows and the last 4 rows of the DataFrame.\n",
    "2. Set the index to 'DATE'.\n",
    "3. Those variable names are terrible. Check out the 'README' tab in the excel workbook for the definitions. Rename the columns with sensible names.  "
   ]
  },
  {
   "cell_type": "code",
   "execution_count": 2,
   "metadata": {},
   "outputs": [
    {
     "data": {
      "text/html": [
       "<div>\n",
       "<style scoped>\n",
       "    .dataframe tbody tr th:only-of-type {\n",
       "        vertical-align: middle;\n",
       "    }\n",
       "\n",
       "    .dataframe tbody tr th {\n",
       "        vertical-align: top;\n",
       "    }\n",
       "\n",
       "    .dataframe thead th {\n",
       "        text-align: right;\n",
       "    }\n",
       "</style>\n",
       "<table border=\"1\" class=\"dataframe\">\n",
       "  <thead>\n",
       "    <tr style=\"text-align: right;\">\n",
       "      <th></th>\n",
       "      <th>Consumer goods</th>\n",
       "      <th>IPB51100SQ</th>\n",
       "      <th>IPG211111CSQ</th>\n",
       "      <th>IPG21SQ</th>\n",
       "      <th>IPG2211A2SQ</th>\n",
       "      <th>IPG3361T3SQ</th>\n",
       "      <th>IPGMFSQ</th>\n",
       "      <th>IPN31152NQ</th>\n",
       "      <th>IPN3311A2RNQ</th>\n",
       "    </tr>\n",
       "    <tr>\n",
       "      <th>DATE</th>\n",
       "      <th></th>\n",
       "      <th></th>\n",
       "      <th></th>\n",
       "      <th></th>\n",
       "      <th></th>\n",
       "      <th></th>\n",
       "      <th></th>\n",
       "      <th></th>\n",
       "      <th></th>\n",
       "    </tr>\n",
       "  </thead>\n",
       "  <tbody>\n",
       "    <tr>\n",
       "      <th>1919-01-01</th>\n",
       "      <td>NaN</td>\n",
       "      <td>NaN</td>\n",
       "      <td>NaN</td>\n",
       "      <td>22.7730</td>\n",
       "      <td>NaN</td>\n",
       "      <td>NaN</td>\n",
       "      <td>NaN</td>\n",
       "      <td>NaN</td>\n",
       "      <td>NaN</td>\n",
       "    </tr>\n",
       "    <tr>\n",
       "      <th>1919-04-01</th>\n",
       "      <td>NaN</td>\n",
       "      <td>NaN</td>\n",
       "      <td>NaN</td>\n",
       "      <td>23.4306</td>\n",
       "      <td>NaN</td>\n",
       "      <td>NaN</td>\n",
       "      <td>NaN</td>\n",
       "      <td>NaN</td>\n",
       "      <td>NaN</td>\n",
       "    </tr>\n",
       "  </tbody>\n",
       "</table>\n",
       "</div>"
      ],
      "text/plain": [
       "            Consumer goods  IPB51100SQ  IPG211111CSQ  IPG21SQ  IPG2211A2SQ  \\\n",
       "DATE                                                                         \n",
       "1919-01-01             NaN         NaN           NaN  22.7730          NaN   \n",
       "1919-04-01             NaN         NaN           NaN  23.4306          NaN   \n",
       "\n",
       "            IPG3361T3SQ  IPGMFSQ  IPN31152NQ  IPN3311A2RNQ  \n",
       "DATE                                                        \n",
       "1919-01-01          NaN      NaN         NaN           NaN  \n",
       "1919-04-01          NaN      NaN         NaN           NaN  "
      ]
     },
     "execution_count": 2,
     "metadata": {},
     "output_type": "execute_result"
    }
   ],
   "source": [
    "#1\n",
    "import pandas as pd\n",
    "import os\n",
    "quarterly = pd.read_excel('industrial_production.xlsx', sheet_name='Quarterly')\n",
    "\n",
    "#2\n",
    "quarterly.head(4)\n",
    "quarterly.tail(4)\n",
    "\n",
    "#3\n",
    "quarterly2 = quarterly.set_index('DATE')\n",
    "quarterly2\n",
    "\n",
    "#4\n",
    "quarterly2.rename(columns={'IPB51000SQ':'Consumer goods'}, inplace=True)\n",
    "quarterly2.head(2)"
   ]
  },
  {
   "cell_type": "markdown",
   "metadata": {},
   "source": [
    "### DataFrame attributes\n",
    "Any object, including DataFrame, has attributes. We access attributes using the `.` operator. \n",
    "\n",
    "\n",
    "5. Try `dtypes`. What does it tell you?\n",
    "6. Try `shape`. What is the return type? What does it tell you?\n",
    "7. Try `columns`. What is the return type? What does it tell you?\n",
    "8. Try `index`. What is the return type? What does it tell you?\n"
   ]
  },
  {
   "cell_type": "code",
   "execution_count": 8,
   "metadata": {},
   "outputs": [
    {
     "data": {
      "text/plain": [
       "(404, 9)"
      ]
     },
     "execution_count": 8,
     "metadata": {},
     "output_type": "execute_result"
    }
   ],
   "source": [
    "quarterly2.dtypes\n",
    "\n",
    "quarterly2.shape\n",
    "\n",
    "#quarterly2.columns\n",
    "\n",
    "#quarterly2.index"
   ]
  },
  {
   "cell_type": "markdown",
   "metadata": {},
   "source": [
    "### DataFrame methods\n",
    "Objects also have methods. The following are methods of DataFrame. They also use the `.` to access, but are like functions. \n",
    "\n",
    "9. Try `sample(5)`. What does it tell you?\n",
    "10. Try `describe()`. What does it tell you?"
   ]
  },
  {
   "cell_type": "code",
   "execution_count": 9,
   "metadata": {},
   "outputs": [
    {
     "data": {
      "text/html": [
       "<div>\n",
       "<style scoped>\n",
       "    .dataframe tbody tr th:only-of-type {\n",
       "        vertical-align: middle;\n",
       "    }\n",
       "\n",
       "    .dataframe tbody tr th {\n",
       "        vertical-align: top;\n",
       "    }\n",
       "\n",
       "    .dataframe thead th {\n",
       "        text-align: right;\n",
       "    }\n",
       "</style>\n",
       "<table border=\"1\" class=\"dataframe\">\n",
       "  <thead>\n",
       "    <tr style=\"text-align: right;\">\n",
       "      <th></th>\n",
       "      <th>Consumer goods</th>\n",
       "      <th>IPB51100SQ</th>\n",
       "      <th>IPG211111CSQ</th>\n",
       "      <th>IPG21SQ</th>\n",
       "      <th>IPG2211A2SQ</th>\n",
       "      <th>IPG3361T3SQ</th>\n",
       "      <th>IPGMFSQ</th>\n",
       "      <th>IPN31152NQ</th>\n",
       "      <th>IPN3311A2RNQ</th>\n",
       "    </tr>\n",
       "  </thead>\n",
       "  <tbody>\n",
       "    <tr>\n",
       "      <th>count</th>\n",
       "      <td>324.000000</td>\n",
       "      <td>292.000000</td>\n",
       "      <td>192.000000</td>\n",
       "      <td>404.000000</td>\n",
       "      <td>324.000000</td>\n",
       "      <td>192.000000</td>\n",
       "      <td>192.000000</td>\n",
       "      <td>192.000000</td>\n",
       "      <td>192.000000</td>\n",
       "    </tr>\n",
       "    <tr>\n",
       "      <th>mean</th>\n",
       "      <td>65.047151</td>\n",
       "      <td>65.033777</td>\n",
       "      <td>115.684291</td>\n",
       "      <td>71.476008</td>\n",
       "      <td>54.800645</td>\n",
       "      <td>79.146544</td>\n",
       "      <td>74.033846</td>\n",
       "      <td>109.750889</td>\n",
       "      <td>104.150758</td>\n",
       "    </tr>\n",
       "    <tr>\n",
       "      <th>std</th>\n",
       "      <td>32.738490</td>\n",
       "      <td>36.161831</td>\n",
       "      <td>25.731753</td>\n",
       "      <td>27.447983</td>\n",
       "      <td>35.141579</td>\n",
       "      <td>28.333690</td>\n",
       "      <td>24.334594</td>\n",
       "      <td>26.297457</td>\n",
       "      <td>23.704066</td>\n",
       "    </tr>\n",
       "    <tr>\n",
       "      <th>min</th>\n",
       "      <td>12.149600</td>\n",
       "      <td>14.197100</td>\n",
       "      <td>73.701500</td>\n",
       "      <td>17.560800</td>\n",
       "      <td>3.421900</td>\n",
       "      <td>32.428100</td>\n",
       "      <td>36.094600</td>\n",
       "      <td>63.286800</td>\n",
       "      <td>57.771000</td>\n",
       "    </tr>\n",
       "    <tr>\n",
       "      <th>25%</th>\n",
       "      <td>33.051625</td>\n",
       "      <td>35.750100</td>\n",
       "      <td>90.038175</td>\n",
       "      <td>45.412000</td>\n",
       "      <td>19.624250</td>\n",
       "      <td>54.963425</td>\n",
       "      <td>49.640475</td>\n",
       "      <td>91.246650</td>\n",
       "      <td>90.773525</td>\n",
       "    </tr>\n",
       "    <tr>\n",
       "      <th>50%</th>\n",
       "      <td>66.471100</td>\n",
       "      <td>57.756800</td>\n",
       "      <td>117.488500</td>\n",
       "      <td>84.690050</td>\n",
       "      <td>56.409250</td>\n",
       "      <td>78.134450</td>\n",
       "      <td>72.335600</td>\n",
       "      <td>105.492500</td>\n",
       "      <td>98.896600</td>\n",
       "    </tr>\n",
       "    <tr>\n",
       "      <th>75%</th>\n",
       "      <td>100.139600</td>\n",
       "      <td>100.364475</td>\n",
       "      <td>133.501100</td>\n",
       "      <td>91.499200</td>\n",
       "      <td>89.436600</td>\n",
       "      <td>105.321125</td>\n",
       "      <td>98.524600</td>\n",
       "      <td>126.651475</td>\n",
       "      <td>105.842975</td>\n",
       "    </tr>\n",
       "    <tr>\n",
       "      <th>max</th>\n",
       "      <td>113.684700</td>\n",
       "      <td>124.179300</td>\n",
       "      <td>194.487800</td>\n",
       "      <td>133.493200</td>\n",
       "      <td>107.675900</td>\n",
       "      <td>132.507800</td>\n",
       "      <td>108.265900</td>\n",
       "      <td>179.319100</td>\n",
       "      <td>182.248200</td>\n",
       "    </tr>\n",
       "  </tbody>\n",
       "</table>\n",
       "</div>"
      ],
      "text/plain": [
       "       Consumer goods  IPB51100SQ  IPG211111CSQ     IPG21SQ  IPG2211A2SQ  \\\n",
       "count      324.000000  292.000000    192.000000  404.000000   324.000000   \n",
       "mean        65.047151   65.033777    115.684291   71.476008    54.800645   \n",
       "std         32.738490   36.161831     25.731753   27.447983    35.141579   \n",
       "min         12.149600   14.197100     73.701500   17.560800     3.421900   \n",
       "25%         33.051625   35.750100     90.038175   45.412000    19.624250   \n",
       "50%         66.471100   57.756800    117.488500   84.690050    56.409250   \n",
       "75%        100.139600  100.364475    133.501100   91.499200    89.436600   \n",
       "max        113.684700  124.179300    194.487800  133.493200   107.675900   \n",
       "\n",
       "       IPG3361T3SQ     IPGMFSQ  IPN31152NQ  IPN3311A2RNQ  \n",
       "count   192.000000  192.000000  192.000000    192.000000  \n",
       "mean     79.146544   74.033846  109.750889    104.150758  \n",
       "std      28.333690   24.334594   26.297457     23.704066  \n",
       "min      32.428100   36.094600   63.286800     57.771000  \n",
       "25%      54.963425   49.640475   91.246650     90.773525  \n",
       "50%      78.134450   72.335600  105.492500     98.896600  \n",
       "75%     105.321125   98.524600  126.651475    105.842975  \n",
       "max     132.507800  108.265900  179.319100    182.248200  "
      ]
     },
     "execution_count": 9,
     "metadata": {},
     "output_type": "execute_result"
    }
   ],
   "source": [
    "quarterly2.sample(5)\n",
    "\n",
    "quarterly2.describe()"
   ]
  },
  {
   "cell_type": "markdown",
   "metadata": {},
   "source": [
    "## 2. Working with messy data: Pisa Scores\n",
    "\n",
    "The [pisa](https://www.oecd.org/pisa/) test is a test given to 15-year olds around the world. It evaluates reading, math, and science skills. \n",
    "\n",
    "1. In a web browser, go to [dx.doi.org/10.1787/888932937035](http://dx.doi.org/10.1787/888932937035) This should initiate a download of an excel file with pisa scores across countries. Open the workbook up and take a look. This is a bit of a mess.\n",
    "\n",
    "The issue here is that the workbook was formatted for humans to read. Since it is not a neat rectangular block of data, we will need to 'wrangle' it into shape. This is a common task in the real world, so let's practice some more.  "
   ]
  },
  {
   "cell_type": "markdown",
   "metadata": {},
   "source": [
    "2. Use the `read_excel()` function to create a DataFrame named `pisa` with the mean scores in math, reading, and science. Do not set an index yet. \n",
    "\n",
    "   1. There is some junk at the bottom of the spreadsheet. Try the `skipfooter` argument. Use the documentation for `read_excel()` to learn more.  \n",
    "   2. There is some junk at the top of the spreadsheet. Try the `skiprows` argument.\n",
    "   3. You can pick out the columns from the spreadsheet you want to use using the `usecols` argument. Alternatively, you could delete columns you do not want once you have the data in a DataFrame.\n",
    "\n",
    "   You can either read in the file that you downloaded to your computer or you can read the file directly from the Internet. Try it both ways!"
   ]
  },
  {
   "cell_type": "code",
   "execution_count": 18,
   "metadata": {},
   "outputs": [
    {
     "data": {
      "text/html": [
       "<div>\n",
       "<style scoped>\n",
       "    .dataframe tbody tr th:only-of-type {\n",
       "        vertical-align: middle;\n",
       "    }\n",
       "\n",
       "    .dataframe tbody tr th {\n",
       "        vertical-align: top;\n",
       "    }\n",
       "\n",
       "    .dataframe thead th {\n",
       "        text-align: right;\n",
       "    }\n",
       "</style>\n",
       "<table border=\"1\" class=\"dataframe\">\n",
       "  <thead>\n",
       "    <tr style=\"text-align: right;\">\n",
       "      <th></th>\n",
       "      <th>Unnamed: 0</th>\n",
       "      <th>Mathematics</th>\n",
       "      <th>Reading</th>\n",
       "      <th>Science</th>\n",
       "    </tr>\n",
       "  </thead>\n",
       "  <tbody>\n",
       "    <tr>\n",
       "      <th>0</th>\n",
       "      <td>NaN</td>\n",
       "      <td>Mean score in PISA 2012</td>\n",
       "      <td>Mean score in PISA 2012</td>\n",
       "      <td>Mean score in PISA 2012</td>\n",
       "    </tr>\n",
       "    <tr>\n",
       "      <th>1</th>\n",
       "      <td>NaN</td>\n",
       "      <td>NaN</td>\n",
       "      <td>NaN</td>\n",
       "      <td>NaN</td>\n",
       "    </tr>\n",
       "    <tr>\n",
       "      <th>2</th>\n",
       "      <td>OECD average</td>\n",
       "      <td>494.046447</td>\n",
       "      <td>496.462864</td>\n",
       "      <td>501.159793</td>\n",
       "    </tr>\n",
       "    <tr>\n",
       "      <th>3</th>\n",
       "      <td>NaN</td>\n",
       "      <td>NaN</td>\n",
       "      <td>NaN</td>\n",
       "      <td>NaN</td>\n",
       "    </tr>\n",
       "    <tr>\n",
       "      <th>4</th>\n",
       "      <td>Shanghai-China</td>\n",
       "      <td>612.675536</td>\n",
       "      <td>569.588408</td>\n",
       "      <td>580.117831</td>\n",
       "    </tr>\n",
       "  </tbody>\n",
       "</table>\n",
       "</div>"
      ],
      "text/plain": [
       "       Unnamed: 0           Mathematics                   Reading    \\\n",
       "0             NaN  Mean score in PISA 2012  Mean score in PISA 2012   \n",
       "1             NaN                      NaN                      NaN   \n",
       "2    OECD average               494.046447               496.462864   \n",
       "3             NaN                      NaN                      NaN   \n",
       "4  Shanghai-China               612.675536               569.588408   \n",
       "\n",
       "                 Science    \n",
       "0  Mean score in PISA 2012  \n",
       "1                      NaN  \n",
       "2               501.159793  \n",
       "3                      NaN  \n",
       "4               580.117831  "
      ]
     },
     "execution_count": 18,
     "metadata": {},
     "output_type": "execute_result"
    }
   ],
   "source": [
    "#2 \n",
    "#A\n",
    "pisa = pd.read_excel('week4-2.xls', skipfooter = 7, skiprows = 18, usecols=[0,1,9,13])\n",
    "\n",
    "pisa.head(5)\n",
    "\n"
   ]
  },
  {
   "cell_type": "markdown",
   "metadata": {},
   "source": [
    "3. Look up `dropna()` in the pandas documentation.  \n",
    "    1. Clean up your DataFrame. Drop any rows that have *at least one* `NaN`. Save the result into a new DataFrame named `pisa2`.\n",
    "\n",
    "   How many rows are in `pisa2`? "
   ]
  },
  {
   "cell_type": "code",
   "execution_count": 23,
   "metadata": {},
   "outputs": [
    {
     "data": {
      "text/html": [
       "<div>\n",
       "<style scoped>\n",
       "    .dataframe tbody tr th:only-of-type {\n",
       "        vertical-align: middle;\n",
       "    }\n",
       "\n",
       "    .dataframe tbody tr th {\n",
       "        vertical-align: top;\n",
       "    }\n",
       "\n",
       "    .dataframe thead th {\n",
       "        text-align: right;\n",
       "    }\n",
       "</style>\n",
       "<table border=\"1\" class=\"dataframe\">\n",
       "  <thead>\n",
       "    <tr style=\"text-align: right;\">\n",
       "      <th></th>\n",
       "      <th>Unnamed: 0</th>\n",
       "      <th>Mathematics</th>\n",
       "      <th>Reading</th>\n",
       "      <th>Science</th>\n",
       "    </tr>\n",
       "  </thead>\n",
       "  <tbody>\n",
       "    <tr>\n",
       "      <th>2</th>\n",
       "      <td>OECD average</td>\n",
       "      <td>494.046447</td>\n",
       "      <td>496.462864</td>\n",
       "      <td>501.159793</td>\n",
       "    </tr>\n",
       "    <tr>\n",
       "      <th>4</th>\n",
       "      <td>Shanghai-China</td>\n",
       "      <td>612.675536</td>\n",
       "      <td>569.588408</td>\n",
       "      <td>580.117831</td>\n",
       "    </tr>\n",
       "    <tr>\n",
       "      <th>5</th>\n",
       "      <td>Singapore</td>\n",
       "      <td>573.468314</td>\n",
       "      <td>542.215834</td>\n",
       "      <td>551.493157</td>\n",
       "    </tr>\n",
       "    <tr>\n",
       "      <th>6</th>\n",
       "      <td>Hong Kong-China</td>\n",
       "      <td>561.241096</td>\n",
       "      <td>544.600086</td>\n",
       "      <td>554.937434</td>\n",
       "    </tr>\n",
       "    <tr>\n",
       "      <th>7</th>\n",
       "      <td>Chinese Taipei</td>\n",
       "      <td>559.824796</td>\n",
       "      <td>523.118904</td>\n",
       "      <td>523.314904</td>\n",
       "    </tr>\n",
       "    <tr>\n",
       "      <th>...</th>\n",
       "      <td>...</td>\n",
       "      <td>...</td>\n",
       "      <td>...</td>\n",
       "      <td>...</td>\n",
       "    </tr>\n",
       "    <tr>\n",
       "      <th>64</th>\n",
       "      <td>Jordan</td>\n",
       "      <td>385.595556</td>\n",
       "      <td>399.034747</td>\n",
       "      <td>409.367215</td>\n",
       "    </tr>\n",
       "    <tr>\n",
       "      <th>65</th>\n",
       "      <td>Colombia</td>\n",
       "      <td>376.488601</td>\n",
       "      <td>403.402534</td>\n",
       "      <td>398.678632</td>\n",
       "    </tr>\n",
       "    <tr>\n",
       "      <th>66</th>\n",
       "      <td>Qatar</td>\n",
       "      <td>376.448399</td>\n",
       "      <td>387.504131</td>\n",
       "      <td>383.642553</td>\n",
       "    </tr>\n",
       "    <tr>\n",
       "      <th>67</th>\n",
       "      <td>Indonesia</td>\n",
       "      <td>375.114452</td>\n",
       "      <td>396.120095</td>\n",
       "      <td>381.911485</td>\n",
       "    </tr>\n",
       "    <tr>\n",
       "      <th>68</th>\n",
       "      <td>Peru</td>\n",
       "      <td>368.102547</td>\n",
       "      <td>384.151223</td>\n",
       "      <td>373.113448</td>\n",
       "    </tr>\n",
       "  </tbody>\n",
       "</table>\n",
       "<p>66 rows × 4 columns</p>\n",
       "</div>"
      ],
      "text/plain": [
       "         Unnamed: 0 Mathematics      Reading     Science  \n",
       "2      OECD average     494.046447  496.462864  501.159793\n",
       "4    Shanghai-China     612.675536  569.588408  580.117831\n",
       "5         Singapore     573.468314  542.215834  551.493157\n",
       "6   Hong Kong-China     561.241096  544.600086  554.937434\n",
       "7    Chinese Taipei     559.824796  523.118904  523.314904\n",
       "..              ...            ...         ...         ...\n",
       "64           Jordan     385.595556  399.034747  409.367215\n",
       "65         Colombia     376.488601  403.402534  398.678632\n",
       "66            Qatar     376.448399  387.504131  383.642553\n",
       "67        Indonesia     375.114452  396.120095  381.911485\n",
       "68             Peru     368.102547  384.151223  373.113448\n",
       "\n",
       "[66 rows x 4 columns]"
      ]
     },
     "execution_count": 23,
     "metadata": {},
     "output_type": "execute_result"
    }
   ],
   "source": [
    "#3\n",
    "pisa2 = pisa.dropna()\n",
    "pisa2.shape"
   ]
  },
  {
   "cell_type": "markdown",
   "metadata": {},
   "source": [
    "4. Using `pisa2`, make the country names the index."
   ]
  },
  {
   "cell_type": "code",
   "execution_count": 25,
   "metadata": {},
   "outputs": [
    {
     "data": {
      "text/html": [
       "<div>\n",
       "<style scoped>\n",
       "    .dataframe tbody tr th:only-of-type {\n",
       "        vertical-align: middle;\n",
       "    }\n",
       "\n",
       "    .dataframe tbody tr th {\n",
       "        vertical-align: top;\n",
       "    }\n",
       "\n",
       "    .dataframe thead th {\n",
       "        text-align: right;\n",
       "    }\n",
       "</style>\n",
       "<table border=\"1\" class=\"dataframe\">\n",
       "  <thead>\n",
       "    <tr style=\"text-align: right;\">\n",
       "      <th></th>\n",
       "      <th>Mathematics</th>\n",
       "      <th>Reading</th>\n",
       "      <th>Science</th>\n",
       "    </tr>\n",
       "    <tr>\n",
       "      <th>Unnamed: 0</th>\n",
       "      <th></th>\n",
       "      <th></th>\n",
       "      <th></th>\n",
       "    </tr>\n",
       "  </thead>\n",
       "  <tbody>\n",
       "    <tr>\n",
       "      <th>OECD average</th>\n",
       "      <td>494.046447</td>\n",
       "      <td>496.462864</td>\n",
       "      <td>501.159793</td>\n",
       "    </tr>\n",
       "    <tr>\n",
       "      <th>Shanghai-China</th>\n",
       "      <td>612.675536</td>\n",
       "      <td>569.588408</td>\n",
       "      <td>580.117831</td>\n",
       "    </tr>\n",
       "    <tr>\n",
       "      <th>Singapore</th>\n",
       "      <td>573.468314</td>\n",
       "      <td>542.215834</td>\n",
       "      <td>551.493157</td>\n",
       "    </tr>\n",
       "    <tr>\n",
       "      <th>Hong Kong-China</th>\n",
       "      <td>561.241096</td>\n",
       "      <td>544.600086</td>\n",
       "      <td>554.937434</td>\n",
       "    </tr>\n",
       "    <tr>\n",
       "      <th>Chinese Taipei</th>\n",
       "      <td>559.824796</td>\n",
       "      <td>523.118904</td>\n",
       "      <td>523.314904</td>\n",
       "    </tr>\n",
       "    <tr>\n",
       "      <th>...</th>\n",
       "      <td>...</td>\n",
       "      <td>...</td>\n",
       "      <td>...</td>\n",
       "    </tr>\n",
       "    <tr>\n",
       "      <th>Jordan</th>\n",
       "      <td>385.595556</td>\n",
       "      <td>399.034747</td>\n",
       "      <td>409.367215</td>\n",
       "    </tr>\n",
       "    <tr>\n",
       "      <th>Colombia</th>\n",
       "      <td>376.488601</td>\n",
       "      <td>403.402534</td>\n",
       "      <td>398.678632</td>\n",
       "    </tr>\n",
       "    <tr>\n",
       "      <th>Qatar</th>\n",
       "      <td>376.448399</td>\n",
       "      <td>387.504131</td>\n",
       "      <td>383.642553</td>\n",
       "    </tr>\n",
       "    <tr>\n",
       "      <th>Indonesia</th>\n",
       "      <td>375.114452</td>\n",
       "      <td>396.120095</td>\n",
       "      <td>381.911485</td>\n",
       "    </tr>\n",
       "    <tr>\n",
       "      <th>Peru</th>\n",
       "      <td>368.102547</td>\n",
       "      <td>384.151223</td>\n",
       "      <td>373.113448</td>\n",
       "    </tr>\n",
       "  </tbody>\n",
       "</table>\n",
       "<p>66 rows × 3 columns</p>\n",
       "</div>"
      ],
      "text/plain": [
       "                Mathematics      Reading     Science  \n",
       "Unnamed: 0                                            \n",
       "OECD average        494.046447  496.462864  501.159793\n",
       "Shanghai-China      612.675536  569.588408  580.117831\n",
       "Singapore           573.468314  542.215834  551.493157\n",
       "Hong Kong-China     561.241096  544.600086  554.937434\n",
       "Chinese Taipei      559.824796  523.118904  523.314904\n",
       "...                        ...         ...         ...\n",
       "Jordan              385.595556  399.034747  409.367215\n",
       "Colombia            376.488601  403.402534  398.678632\n",
       "Qatar               376.448399  387.504131  383.642553\n",
       "Indonesia           375.114452  396.120095  381.911485\n",
       "Peru                368.102547  384.151223  373.113448\n",
       "\n",
       "[66 rows x 3 columns]"
      ]
     },
     "execution_count": 25,
     "metadata": {},
     "output_type": "execute_result"
    }
   ],
   "source": [
    "#4\n",
    "pisa2 = pisa2.set_index('Unnamed: 0')\n",
    "pisa2"
   ]
  },
  {
   "cell_type": "markdown",
   "metadata": {},
   "source": [
    "5. Using `pisa2`, print out the ratios of the United States pisa scores (math, reading, science) relative to the OECD average."
   ]
  },
  {
   "cell_type": "code",
   "execution_count": 30,
   "metadata": {},
   "outputs": [
    {
     "data": {
      "text/plain": [
       "Mathematics       0.974335\n",
       "Reading           1.002254\n",
       "Science           0.992517\n",
       "dtype: object"
      ]
     },
     "execution_count": 30,
     "metadata": {},
     "output_type": "execute_result"
    }
   ],
   "source": [
    "#5\n",
    "ratio = pisa2.loc['United States'] / pisa2.loc['OECD average']\n",
    "ratio\n"
   ]
  },
  {
   "cell_type": "markdown",
   "metadata": {},
   "source": [
    "6. **Challenging.** Use `pisa2`. How correlated are the math, reading, and science scores with each other?  Write the correlation matrix to a file called 'pisa_corrs.xlsx'.\n",
    "\n",
    "    This is a challenging question because, depending on how you read in the data, your columns are probably of type 'Object' (strings, basically) and `.corr()` won't work. Take a look at the first row of `pisa` to see why the data are stored as strings. Google around and see if you can convert the three columns to numbers. Then find the correlations. "
   ]
  },
  {
   "cell_type": "code",
   "execution_count": null,
   "metadata": {},
   "outputs": [],
   "source": [
    "\n",
    "\n"
   ]
  },
  {
   "cell_type": "markdown",
   "metadata": {},
   "source": [
    "## Helpful DataFrame functions: Solutions"
   ]
  },
  {
   "cell_type": "code",
   "execution_count": null,
   "metadata": {},
   "outputs": [],
   "source": [
    "# Import pandas so that we can use it. The accepted short name for pandas is pd.  \n",
    "import pandas as pd"
   ]
  },
  {
   "cell_type": "code",
   "execution_count": null,
   "metadata": {},
   "outputs": [],
   "source": [
    "# 1. Load the dataframe.\n",
    "# 2. First four rows.\n",
    "ind = pd.read_excel('industrial_production.xlsx', sheet_name='Quarterly')\n",
    "ind.head(4)"
   ]
  },
  {
   "cell_type": "code",
   "execution_count": null,
   "metadata": {},
   "outputs": [],
   "source": [
    "# 2. Last four rows.\n",
    "\n",
    "ind.tail(4)"
   ]
  },
  {
   "cell_type": "markdown",
   "metadata": {},
   "source": [
    "Notice that I did not use `print()` when outputing `ind.head(4)` and `ind.tail(4)`. The benefit is that we get the extra formatting from Jupyter on the DataFrame. The cost is that we can only print one thing like this out per cell. Enter a new code cell and enter the  following:\n",
    "\n",
    "```python\n",
    "ind.head(4)\n",
    "ind.tail(4)\n",
    "```\n",
    "\n",
    "What do you get?\n"
   ]
  },
  {
   "cell_type": "code",
   "execution_count": null,
   "metadata": {},
   "outputs": [],
   "source": [
    "# 3. Set the index to 'DATE'.\n",
    "\n",
    "ind = ind.set_index('DATE')"
   ]
  },
  {
   "cell_type": "markdown",
   "metadata": {},
   "source": [
    "### Changing column names\n",
    "\n",
    "We need to change nine column names. This is a bit tedious, but at least we only have to do this once. Once written, we can reuse the code anytime we deal with this file. Below are three different ways to do it. "
   ]
  },
  {
   "cell_type": "code",
   "execution_count": null,
   "metadata": {},
   "outputs": [],
   "source": [
    "# 4. Change the column names (method 1). \n",
    "\n",
    "# This is the slick way. \n",
    "# Grab the column names from the index. \n",
    "# Make a list of the new column names.\n",
    "# Zip them together (check the documentation for zip) and then create a dict. \n",
    "# The columns have to be in the correct order with respect to new_names.\n",
    "\n",
    "old_names = ind.columns.to_list()\n",
    "new_names = ['consumer', 'consumer durables', 'crude oil', 'mining', 'elec and gas', 'cars', 'manuf', 'ice cream', 'steel']\n",
    "names = dict(zip(old_names, new_names))\n",
    "ind = ind.rename(columns=names)\n",
    "\n",
    "ind.head(2)"
   ]
  },
  {
   "cell_type": "code",
   "execution_count": null,
   "metadata": {},
   "outputs": [],
   "source": [
    "# 4. Change the column names (method 2). \n",
    "\n",
    "# If you know for sure that that the columns are in the correct order, you can also do this.\n",
    "# In method 1, you can look at `names` and make sure the new and old names line up before changing the columns names. \n",
    "\n",
    "# new_names = ['consumer', 'consumer durables', 'crude oil', 'mining', 'elec and gas', 'cars', 'manuf', 'ice cream', 'steel']\n",
    "# ind.columns = new_names"
   ]
  },
  {
   "cell_type": "code",
   "execution_count": null,
   "metadata": {},
   "outputs": [],
   "source": [
    "# 4. Change the column names (method 3).\n",
    "\n",
    "# The most tedious, but robust way. No matter what order the columns are in, this will replace the names properly. \n",
    "\n",
    "# names = {'IPB51000SQ':'consumer', 'IPB51100SQ':'consumer durables', 'IPG211111CSQ':'crude oil', \n",
    "#         'IPG21SQ':'mining', 'IPG2211A2SQ':'elec and gas', 'IPG3361T3SQ':'cars', 'IPGMFSQ':'manuf', \n",
    "#         'IPN31152NQ':'ice cream', 'IPN3311A2RNQ':'steel'}\n",
    "# ind = ind.rename(columns=names)"
   ]
  },
  {
   "cell_type": "code",
   "execution_count": null,
   "metadata": {},
   "outputs": [],
   "source": [
    "# 5. dtypes\n",
    "\n",
    "# Each column is made up of floats. (float64 is the same as float)\n",
    "ind.dtypes"
   ]
  },
  {
   "cell_type": "code",
   "execution_count": null,
   "metadata": {},
   "outputs": [],
   "source": [
    "# 6. shape\n",
    "\n",
    "# This gives us the number of rows and columns in a tuple.\n",
    "ind.shape"
   ]
  },
  {
   "cell_type": "code",
   "execution_count": null,
   "metadata": {},
   "outputs": [],
   "source": [
    "#7. (column) index \n",
    "\n",
    "# An index object. The column names. \n",
    "ind.columns"
   ]
  },
  {
   "cell_type": "code",
   "execution_count": null,
   "metadata": {},
   "outputs": [],
   "source": [
    "# 8. (row) index \n",
    "\n",
    "# Another index object. A different type (a DatetimeIndex, to hold dates). \n",
    "ind.index"
   ]
  },
  {
   "cell_type": "code",
   "execution_count": null,
   "metadata": {},
   "outputs": [],
   "source": [
    "# 9. sample()\n",
    "\n",
    "# A random sample of rows.\n",
    "ind.sample(5)"
   ]
  },
  {
   "cell_type": "code",
   "execution_count": null,
   "metadata": {},
   "outputs": [],
   "source": [
    "# 10. describe()\n",
    "\n",
    "# Summary statistics. If a column is not made up of numbers, it will not appear here. \n",
    "ind.describe()"
   ]
  },
  {
   "cell_type": "code",
   "execution_count": null,
   "metadata": {},
   "outputs": [],
   "source": []
  },
  {
   "cell_type": "code",
   "execution_count": null,
   "metadata": {},
   "outputs": [],
   "source": []
  },
  {
   "cell_type": "markdown",
   "metadata": {},
   "source": [
    "## Working with messy data: Solutions"
   ]
  },
  {
   "cell_type": "code",
   "execution_count": null,
   "metadata": {},
   "outputs": [],
   "source": [
    "# 2. Reading from the internet.\n",
    "\n",
    "url = 'http://dx.doi.org/10.1787/888932937035'\n",
    "pisa = pd.read_excel(url,\n",
    "                     skiprows=18,             # skip the first 18 rows\n",
    "                     skipfooter=7,            # skip the last 7\n",
    "                     usecols=[0,1,9,13],      # select columns of interest\n",
    "                     )\n",
    "\n",
    "# Rather than use the 'usecols' argument, you could have loaded all the columns and dropped the ones you do not want.\n",
    "# Notice that the first row is a bunch of text. That will cause some problems later...\n",
    "\n",
    "pisa.head()"
   ]
  },
  {
   "cell_type": "code",
   "execution_count": null,
   "metadata": {},
   "outputs": [],
   "source": [
    "# 3. Drop NaNs.\n",
    "\n",
    "pisa2 = pisa.dropna()\n",
    "pisa2.shape"
   ]
  },
  {
   "cell_type": "code",
   "execution_count": null,
   "metadata": {},
   "outputs": [],
   "source": [
    "# 4. Set the index.\n",
    "\n",
    "pisa2 = pisa2.set_index('Unnamed: 0')\n",
    "pisa2.head(2)"
   ]
  },
  {
   "cell_type": "code",
   "execution_count": null,
   "metadata": {},
   "outputs": [],
   "source": [
    "# 5. US relative to the average. \n",
    "# The US is pretty average...\n",
    "\n",
    "print(pisa2.loc['United States']/pisa2.loc['OECD average'])"
   ]
  },
  {
   "cell_type": "code",
   "execution_count": null,
   "metadata": {},
   "outputs": [],
   "source": [
    "# 6. Convert types/compute correlations\n",
    "# Strings! \n",
    "\n",
    "pisa2.dtypes"
   ]
  },
  {
   "cell_type": "code",
   "execution_count": null,
   "metadata": {},
   "outputs": [],
   "source": [
    "# New column names\n",
    "pisa2.columns = ['math', 'read', 'sci']  \n",
    "\n",
    "# There are several ways to convert strings to numeric values. This is one of them.\n",
    "pisa2=pisa2[['math', 'read', 'sci']].apply(pd.to_numeric)  \n",
    "pisa2.dtypes"
   ]
  },
  {
   "cell_type": "code",
   "execution_count": null,
   "metadata": {},
   "outputs": [],
   "source": [
    "# Now we are in good shape. What does .corr() do?\n",
    "# What is the return type of .corr()?\n",
    "\n",
    "pisa_corrs = pisa2.corr()\n",
    "print(pisa_corrs)\n",
    "print(type(pisa_corrs))\n",
    "\n",
    "# Now save the DataFrame of results to a file. \n",
    "pisa_corrs.to_excel('pisa_corrs.xlsx')"
   ]
  },
  {
   "cell_type": "code",
   "execution_count": null,
   "metadata": {},
   "outputs": [],
   "source": []
  }
 ],
 "metadata": {
  "celltoolbar": "Edit Metadata",
  "kernelspec": {
   "display_name": "Python 3",
   "language": "python",
   "name": "python3"
  },
  "language_info": {
   "codemirror_mode": {
    "name": "ipython",
    "version": 3
   },
   "file_extension": ".py",
   "mimetype": "text/x-python",
   "name": "python",
   "nbconvert_exporter": "python",
   "pygments_lexer": "ipython3",
   "version": "3.8.8"
  }
 },
 "nbformat": 4,
 "nbformat_minor": 2
}
