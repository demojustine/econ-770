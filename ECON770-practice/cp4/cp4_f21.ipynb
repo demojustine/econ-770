{
 "cells": [
  {
   "cell_type": "markdown",
   "metadata": {},
   "source": [
    "# Coding practice \\#4: Due midnight, November 19\n",
    "\n",
    "files needed = ('airline_products_2017.csv')\n",
    "\n",
    "Answer the questions below in a jupyter notebook. You can simply add cells to this notebook and enter your answers. When you are finished, upload the completed notebook to canvas. \n",
    "\n",
    "A reminder: My office hours are Tuesdays 10:45AM-11:45AM and Wednesdays 5:00PM-5:30PM in Soc Sci 7444. I am also available by email and zoom.\n",
    "\n",
    "*You should feel free to discuss the coding practice with your classmates, but the work you turn in should be your own.*"
   ]
  },
  {
   "cell_type": "markdown",
   "metadata": {},
   "source": [
    "# Exercise 0: Yuan, Meng\n",
    "Replace 'Last, First' above with your actual name. Enter it as: last name, first name."
   ]
  },
  {
   "cell_type": "code",
   "execution_count": 1,
   "metadata": {},
   "outputs": [],
   "source": [
    "import pandas as pd\n",
    "import matplotlib.pyplot as plt\n",
    "import numpy as np  \n",
    "import seaborn as sns"
   ]
  },
  {
   "cell_type": "markdown",
   "metadata": {},
   "source": [
    "# Exercise 1: groupby and more bar charts\n",
    "\n",
    "The file 'airline_products_2017.csv' contains some data used in the first chapter of Dennis's dissertation. The data are taken from the Airline Origin & Destination Survey (DB1B) but has been substantially cleaned. Thanks Dennis! \\[Dennis was the TA for this class in 2018. He is now working at Bates White Consulting. The course TAs have contributed a lot to the class.\\] \n",
    "\n",
    "In particular, the data contain information on a sample of airline itineraries for flights departing from one of seven airports in the San Francisco Bay region and arriving at one of the other large cities in the United States in the second quarter of 2017. Each observation contains information on the origin airport, destination airport, airline,  nonstop or connecting itinerary type, average one-way fare in dollars, and distance between the origin and destination (in miles).\n",
    "\n",
    "In this exercise, we will make a simple scatterplot and then repeatedly use the `.groupby()` method to create several bar charts. Follow the instructions below."
   ]
  },
  {
   "cell_type": "markdown",
   "metadata": {},
   "source": [
    "### Part (a):\n",
    "\n",
    "1. Load the data as a Pandas data frame and keep only the nonstop flights. \n",
    "2. Make a scatterplot of distance (x axis) against prices (y axis). \n",
    "3. Make the scatterpoints blue circles that are not filled in. \n",
    "\n",
    "You'll notice a strange gap in the distance data between 1,000 and 1,500 miles&mdash;it's called \"flyover country\" for a reason!"
   ]
  },
  {
   "cell_type": "code",
   "execution_count": 2,
   "metadata": {},
   "outputs": [
    {
     "data": {
      "text/html": [
       "<div>\n",
       "<style scoped>\n",
       "    .dataframe tbody tr th:only-of-type {\n",
       "        vertical-align: middle;\n",
       "    }\n",
       "\n",
       "    .dataframe tbody tr th {\n",
       "        vertical-align: top;\n",
       "    }\n",
       "\n",
       "    .dataframe thead th {\n",
       "        text-align: right;\n",
       "    }\n",
       "</style>\n",
       "<table border=\"1\" class=\"dataframe\">\n",
       "  <thead>\n",
       "    <tr style=\"text-align: right;\">\n",
       "      <th></th>\n",
       "      <th>Unnamed: 0</th>\n",
       "      <th>origin_airport</th>\n",
       "      <th>dest_airport</th>\n",
       "      <th>airline</th>\n",
       "      <th>fare</th>\n",
       "      <th>nonstop</th>\n",
       "      <th>distance</th>\n",
       "      <th>origin_city</th>\n",
       "      <th>dest_city</th>\n",
       "      <th>passengers</th>\n",
       "    </tr>\n",
       "  </thead>\n",
       "  <tbody>\n",
       "    <tr>\n",
       "      <th>0</th>\n",
       "      <td>51</td>\n",
       "      <td>SFO</td>\n",
       "      <td>ALB</td>\n",
       "      <td>Southwest Airlines</td>\n",
       "      <td>267.50681</td>\n",
       "      <td>0</td>\n",
       "      <td>2558.998270</td>\n",
       "      <td>San Francisco, CA</td>\n",
       "      <td>Albany, NY</td>\n",
       "      <td>250</td>\n",
       "    </tr>\n",
       "    <tr>\n",
       "      <th>1</th>\n",
       "      <td>52</td>\n",
       "      <td>SFO</td>\n",
       "      <td>ALB</td>\n",
       "      <td>United Airlines</td>\n",
       "      <td>346.01853</td>\n",
       "      <td>0</td>\n",
       "      <td>2558.998270</td>\n",
       "      <td>San Francisco, CA</td>\n",
       "      <td>Albany, NY</td>\n",
       "      <td>270</td>\n",
       "    </tr>\n",
       "    <tr>\n",
       "      <th>2</th>\n",
       "      <td>53</td>\n",
       "      <td>SJC</td>\n",
       "      <td>ALB</td>\n",
       "      <td>Southwest Airlines</td>\n",
       "      <td>275.93250</td>\n",
       "      <td>0</td>\n",
       "      <td>2543.615783</td>\n",
       "      <td>San Jose, CA</td>\n",
       "      <td>Albany, NY</td>\n",
       "      <td>320</td>\n",
       "    </tr>\n",
       "  </tbody>\n",
       "</table>\n",
       "</div>"
      ],
      "text/plain": [
       "   Unnamed: 0 origin_airport dest_airport             airline       fare  \\\n",
       "0          51            SFO          ALB  Southwest Airlines  267.50681   \n",
       "1          52            SFO          ALB     United Airlines  346.01853   \n",
       "2          53            SJC          ALB  Southwest Airlines  275.93250   \n",
       "\n",
       "   nonstop     distance        origin_city   dest_city  passengers  \n",
       "0        0  2558.998270  San Francisco, CA  Albany, NY         250  \n",
       "1        0  2558.998270  San Francisco, CA  Albany, NY         270  \n",
       "2        0  2543.615783       San Jose, CA  Albany, NY         320  "
      ]
     },
     "execution_count": 2,
     "metadata": {},
     "output_type": "execute_result"
    }
   ],
   "source": [
    "# part(a)\n",
    "#1\n",
    "\n",
    "airline_data = pd.read_csv(\"airline_products_2017.csv\")\n",
    "\n",
    "airline_data.head(3)"
   ]
  },
  {
   "cell_type": "code",
   "execution_count": 3,
   "metadata": {},
   "outputs": [
    {
     "data": {
      "text/html": [
       "<div>\n",
       "<style scoped>\n",
       "    .dataframe tbody tr th:only-of-type {\n",
       "        vertical-align: middle;\n",
       "    }\n",
       "\n",
       "    .dataframe tbody tr th {\n",
       "        vertical-align: top;\n",
       "    }\n",
       "\n",
       "    .dataframe thead th {\n",
       "        text-align: right;\n",
       "    }\n",
       "</style>\n",
       "<table border=\"1\" class=\"dataframe\">\n",
       "  <thead>\n",
       "    <tr style=\"text-align: right;\">\n",
       "      <th></th>\n",
       "      <th>Unnamed: 0</th>\n",
       "      <th>origin_airport</th>\n",
       "      <th>dest_airport</th>\n",
       "      <th>airline</th>\n",
       "      <th>fare</th>\n",
       "      <th>nonstop</th>\n",
       "      <th>distance</th>\n",
       "      <th>origin_city</th>\n",
       "      <th>dest_city</th>\n",
       "      <th>passengers</th>\n",
       "    </tr>\n",
       "  </thead>\n",
       "  <tbody>\n",
       "    <tr>\n",
       "      <th>6</th>\n",
       "      <td>119</td>\n",
       "      <td>SJC</td>\n",
       "      <td>ABQ</td>\n",
       "      <td>Southwest Airlines</td>\n",
       "      <td>183.86714</td>\n",
       "      <td>1</td>\n",
       "      <td>869.976792</td>\n",
       "      <td>San Jose, CA</td>\n",
       "      <td>Albuquerque, NM</td>\n",
       "      <td>490</td>\n",
       "    </tr>\n",
       "    <tr>\n",
       "      <th>8</th>\n",
       "      <td>121</td>\n",
       "      <td>SMF</td>\n",
       "      <td>ABQ</td>\n",
       "      <td>Southwest Airlines</td>\n",
       "      <td>213.29703</td>\n",
       "      <td>1</td>\n",
       "      <td>866.380980</td>\n",
       "      <td>Sacramento, CA</td>\n",
       "      <td>Albuquerque, NM</td>\n",
       "      <td>370</td>\n",
       "    </tr>\n",
       "    <tr>\n",
       "      <th>9</th>\n",
       "      <td>122</td>\n",
       "      <td>SFO</td>\n",
       "      <td>ABQ</td>\n",
       "      <td>United Airlines</td>\n",
       "      <td>244.94445</td>\n",
       "      <td>1</td>\n",
       "      <td>896.334413</td>\n",
       "      <td>San Francisco, CA</td>\n",
       "      <td>Albuquerque, NM</td>\n",
       "      <td>360</td>\n",
       "    </tr>\n",
       "  </tbody>\n",
       "</table>\n",
       "</div>"
      ],
      "text/plain": [
       "   Unnamed: 0 origin_airport dest_airport             airline       fare  \\\n",
       "6         119            SJC          ABQ  Southwest Airlines  183.86714   \n",
       "8         121            SMF          ABQ  Southwest Airlines  213.29703   \n",
       "9         122            SFO          ABQ     United Airlines  244.94445   \n",
       "\n",
       "   nonstop    distance        origin_city        dest_city  passengers  \n",
       "6        1  869.976792       San Jose, CA  Albuquerque, NM         490  \n",
       "8        1  866.380980     Sacramento, CA  Albuquerque, NM         370  \n",
       "9        1  896.334413  San Francisco, CA  Albuquerque, NM         360  "
      ]
     },
     "execution_count": 3,
     "metadata": {},
     "output_type": "execute_result"
    }
   ],
   "source": [
    "nonstop = airline_data[airline_data['nonstop']==1]\n",
    "nonstop.head(3)"
   ]
  },
  {
   "cell_type": "code",
   "execution_count": 4,
   "metadata": {
    "scrolled": true
   },
   "outputs": [
    {
     "data": {
      "image/png": "[encoded data removed]",
      "text/plain": [
       "<Figure size 720x720 with 1 Axes>"
      ]
     },
     "metadata": {
      "needs_background": "light"
     },
     "output_type": "display_data"
    }
   ],
   "source": [
    "#2+3\n",
    "fig, ax = plt.subplots(figsize=(10,10))\n",
    "\n",
    "ax.scatter(nonstop['distance'], nonstop['fare'],facecolors='none', edgecolors='blue')\n",
    "ax.spines['top'].set_visible(False)\n",
    "ax.spines['right'].set_visible(False)\n",
    "ax.set_xlabel('Distance')\n",
    "ax.set_ylabel('Price')\n",
    "\n",
    "plt.show()"
   ]
  },
  {
   "cell_type": "markdown",
   "metadata": {},
   "source": [
    "### Part (b):\n",
    "\n",
    "1. Use the `.groupby()` method to obtain the **median** fare for nonstop flights for each airline. Print the median fares to the screen."
   ]
  },
  {
   "cell_type": "code",
   "execution_count": 5,
   "metadata": {},
   "outputs": [],
   "source": [
    "#part(b)\n",
    "#1\n",
    "nonstop_medians_1 = nonstop[['airline','fare']].groupby('airline').median()"
   ]
  },
  {
   "cell_type": "code",
   "execution_count": 6,
   "metadata": {},
   "outputs": [
    {
     "data": {
      "text/html": [
       "<div>\n",
       "<style scoped>\n",
       "    .dataframe tbody tr th:only-of-type {\n",
       "        vertical-align: middle;\n",
       "    }\n",
       "\n",
       "    .dataframe tbody tr th {\n",
       "        vertical-align: top;\n",
       "    }\n",
       "\n",
       "    .dataframe thead th {\n",
       "        text-align: right;\n",
       "    }\n",
       "</style>\n",
       "<table border=\"1\" class=\"dataframe\">\n",
       "  <thead>\n",
       "    <tr style=\"text-align: right;\">\n",
       "      <th></th>\n",
       "      <th>fare</th>\n",
       "    </tr>\n",
       "    <tr>\n",
       "      <th>airline</th>\n",
       "      <th></th>\n",
       "    </tr>\n",
       "  </thead>\n",
       "  <tbody>\n",
       "    <tr>\n",
       "      <th>Alaska Airlines</th>\n",
       "      <td>140.300230</td>\n",
       "    </tr>\n",
       "    <tr>\n",
       "      <th>Allegiant Air</th>\n",
       "      <td>63.637638</td>\n",
       "    </tr>\n",
       "    <tr>\n",
       "      <th>American Airlines</th>\n",
       "      <td>221.730330</td>\n",
       "    </tr>\n",
       "    <tr>\n",
       "      <th>Delta Air Lines</th>\n",
       "      <td>167.254630</td>\n",
       "    </tr>\n",
       "    <tr>\n",
       "      <th>Frontier Airlines</th>\n",
       "      <td>109.993130</td>\n",
       "    </tr>\n",
       "    <tr>\n",
       "      <th>JetBlue Airways</th>\n",
       "      <td>240.673565</td>\n",
       "    </tr>\n",
       "    <tr>\n",
       "      <th>Skywest Airlines</th>\n",
       "      <td>101.370130</td>\n",
       "    </tr>\n",
       "    <tr>\n",
       "      <th>Southwest Airlines</th>\n",
       "      <td>222.615730</td>\n",
       "    </tr>\n",
       "    <tr>\n",
       "      <th>Spirit Air Lines</th>\n",
       "      <td>92.401984</td>\n",
       "    </tr>\n",
       "    <tr>\n",
       "      <th>Sun Country Airlines</th>\n",
       "      <td>189.357150</td>\n",
       "    </tr>\n",
       "    <tr>\n",
       "      <th>United Airlines</th>\n",
       "      <td>287.500950</td>\n",
       "    </tr>\n",
       "    <tr>\n",
       "      <th>Virgin America</th>\n",
       "      <td>240.048885</td>\n",
       "    </tr>\n",
       "  </tbody>\n",
       "</table>\n",
       "</div>"
      ],
      "text/plain": [
       "                            fare\n",
       "airline                         \n",
       "Alaska Airlines       140.300230\n",
       "Allegiant Air          63.637638\n",
       "American Airlines     221.730330\n",
       "Delta Air Lines       167.254630\n",
       "Frontier Airlines     109.993130\n",
       "JetBlue Airways       240.673565\n",
       "Skywest Airlines      101.370130\n",
       "Southwest Airlines    222.615730\n",
       "Spirit Air Lines       92.401984\n",
       "Sun Country Airlines  189.357150\n",
       "United Airlines       287.500950\n",
       "Virgin America        240.048885"
      ]
     },
     "execution_count": 6,
     "metadata": {},
     "output_type": "execute_result"
    }
   ],
   "source": [
    "nonstop_medians_1"
   ]
  },
  {
   "cell_type": "markdown",
   "metadata": {},
   "source": [
    "2. Make a bar chart displaying the median fare for American Airlines, Delta Air Lines, Southwest Airlines, and United Airlines. Give the chart appropriate labels etc. and make it look nice. \\[We covered bar charts in the week #9 Friday notebook.\\]\n",
    "\n",
    "Contrary to intuition, Delta appears to have much lower fares than Southwest!"
   ]
  },
  {
   "cell_type": "code",
   "execution_count": 7,
   "metadata": {},
   "outputs": [
    {
     "data": {
      "image/png": "[encoded data removed]",
      "text/plain": [
       "<Figure size 504x360 with 1 Axes>"
      ]
     },
     "metadata": {
      "needs_background": "light"
     },
     "output_type": "display_data"
    }
   ],
   "source": [
    "#2 \n",
    "bar_b2 = nonstop_medians_1.loc[['American Airlines','Delta Air Lines', 'Southwest Airlines', 'United Airlines']]\n",
    "\n",
    "fig, ax = plt.subplots(figsize=(7,5))\n",
    "\n",
    "ax.bar(bar_b2.index, bar_b2['fare'], color='orange', alpha=1.0)     \n",
    "\n",
    "ax.spines['top'].set_visible(False)\n",
    "ax.spines['right'].set_visible(False)\n",
    "\n",
    "ax.set_ylabel('Median Fare')\n",
    "ax.set_title('Median fare for Airlines')\n",
    "\n",
    "plt.show()"
   ]
  },
  {
   "cell_type": "markdown",
   "metadata": {},
   "source": [
    "### Part (c):\n",
    "\n",
    "The bar chart above might be misleading, because different airlines may fly to different cities that are different distances from San Francisco, so we might be confusing variation in fares across airlines with variation in fares for flights of different distances. Let's try to fix this:\n",
    "\n",
    "   1. On the original data frame of non-stop flights, use the `.cut()` method to create distance bins 500 miles in width (starting at 0 and ending at 3000). \n",
    "   \n",
    "   2. Use the `.groupby()` method to obtain the median airfare by distance bin by airline. "
   ]
  },
  {
   "cell_type": "code",
   "execution_count": 8,
   "metadata": {},
   "outputs": [],
   "source": [
    "# part(c)\n",
    "#1\n",
    "nonstop2 = nonstop"
   ]
  },
  {
   "cell_type": "code",
   "execution_count": 18,
   "metadata": {},
   "outputs": [
    {
     "name": "stderr",
     "output_type": "stream",
     "text": [
      "<ipython-input-18-8b7aeca027a6>:2: SettingWithCopyWarning: \n",
      "A value is trying to be set on a copy of a slice from a DataFrame.\n",
      "Try using .loc[row_indexer,col_indexer] = value instead\n",
      "\n",
      "See the caveats in the documentation: https://pandas.pydata.org/pandas-docs/stable/user_guide/indexing.html#returning-a-view-versus-a-copy\n",
      "  nonstop2['distance_bin'] = pd.cut(nonstop2['distance'], bins, right = False)\n"
     ]
    }
   ],
   "source": [
    "bins = list(range(0,3001,500))\n",
    "nonstop2['distance_bin'] = pd.cut(nonstop2['distance'], bins, right = False)"
   ]
  },
  {
   "cell_type": "code",
   "execution_count": 10,
   "metadata": {},
   "outputs": [
    {
     "data": {
      "text/html": [
       "<div>\n",
       "<style scoped>\n",
       "    .dataframe tbody tr th:only-of-type {\n",
       "        vertical-align: middle;\n",
       "    }\n",
       "\n",
       "    .dataframe tbody tr th {\n",
       "        vertical-align: top;\n",
       "    }\n",
       "\n",
       "    .dataframe thead th {\n",
       "        text-align: right;\n",
       "    }\n",
       "</style>\n",
       "<table border=\"1\" class=\"dataframe\">\n",
       "  <thead>\n",
       "    <tr style=\"text-align: right;\">\n",
       "      <th></th>\n",
       "      <th></th>\n",
       "      <th>fare</th>\n",
       "    </tr>\n",
       "    <tr>\n",
       "      <th>airline</th>\n",
       "      <th>distance_bin</th>\n",
       "      <th></th>\n",
       "    </tr>\n",
       "  </thead>\n",
       "  <tbody>\n",
       "    <tr>\n",
       "      <th rowspan=\"5\" valign=\"top\">Alaska Airlines</th>\n",
       "      <th>[0, 500)</th>\n",
       "      <td>121.368922</td>\n",
       "    </tr>\n",
       "    <tr>\n",
       "      <th>[500, 1000)</th>\n",
       "      <td>134.040610</td>\n",
       "    </tr>\n",
       "    <tr>\n",
       "      <th>[1000, 1500)</th>\n",
       "      <td>119.268510</td>\n",
       "    </tr>\n",
       "    <tr>\n",
       "      <th>[1500, 2000)</th>\n",
       "      <td>180.700170</td>\n",
       "    </tr>\n",
       "    <tr>\n",
       "      <th>[2000, 2500)</th>\n",
       "      <td>262.213583</td>\n",
       "    </tr>\n",
       "    <tr>\n",
       "      <th>...</th>\n",
       "      <th>...</th>\n",
       "      <td>...</td>\n",
       "    </tr>\n",
       "    <tr>\n",
       "      <th rowspan=\"5\" valign=\"top\">Virgin America</th>\n",
       "      <th>[500, 1000)</th>\n",
       "      <td>143.662103</td>\n",
       "    </tr>\n",
       "    <tr>\n",
       "      <th>[1000, 1500)</th>\n",
       "      <td>177.392670</td>\n",
       "    </tr>\n",
       "    <tr>\n",
       "      <th>[1500, 2000)</th>\n",
       "      <td>240.048885</td>\n",
       "    </tr>\n",
       "    <tr>\n",
       "      <th>[2000, 2500)</th>\n",
       "      <td>332.866327</td>\n",
       "    </tr>\n",
       "    <tr>\n",
       "      <th>[2500, 3000)</th>\n",
       "      <td>288.994597</td>\n",
       "    </tr>\n",
       "  </tbody>\n",
       "</table>\n",
       "<p>72 rows × 1 columns</p>\n",
       "</div>"
      ],
      "text/plain": [
       "                                    fare\n",
       "airline         distance_bin            \n",
       "Alaska Airlines [0, 500)      121.368922\n",
       "                [500, 1000)   134.040610\n",
       "                [1000, 1500)  119.268510\n",
       "                [1500, 2000)  180.700170\n",
       "                [2000, 2500)  262.213583\n",
       "...                                  ...\n",
       "Virgin America  [500, 1000)   143.662103\n",
       "                [1000, 1500)  177.392670\n",
       "                [1500, 2000)  240.048885\n",
       "                [2000, 2500)  332.866327\n",
       "                [2500, 3000)  288.994597\n",
       "\n",
       "[72 rows x 1 columns]"
      ]
     },
     "execution_count": 10,
     "metadata": {},
     "output_type": "execute_result"
    }
   ],
   "source": [
    "#2\n",
    "n2 = nonstop2[['fare','airline','distance_bin']].groupby(['airline','distance_bin']).mean()\n",
    "n2"
   ]
  },
  {
   "cell_type": "markdown",
   "metadata": {},
   "source": [
    "3. Then reset the index on the resulting series. Your data should be *long* at this point.\n"
   ]
  },
  {
   "cell_type": "code",
   "execution_count": 11,
   "metadata": {},
   "outputs": [
    {
     "data": {
      "text/html": [
       "<div>\n",
       "<style scoped>\n",
       "    .dataframe tbody tr th:only-of-type {\n",
       "        vertical-align: middle;\n",
       "    }\n",
       "\n",
       "    .dataframe tbody tr th {\n",
       "        vertical-align: top;\n",
       "    }\n",
       "\n",
       "    .dataframe thead th {\n",
       "        text-align: right;\n",
       "    }\n",
       "</style>\n",
       "<table border=\"1\" class=\"dataframe\">\n",
       "  <thead>\n",
       "    <tr style=\"text-align: right;\">\n",
       "      <th></th>\n",
       "      <th>airline</th>\n",
       "      <th>distance_bin</th>\n",
       "      <th>fare</th>\n",
       "    </tr>\n",
       "  </thead>\n",
       "  <tbody>\n",
       "    <tr>\n",
       "      <th>0</th>\n",
       "      <td>Alaska Airlines</td>\n",
       "      <td>[0, 500)</td>\n",
       "      <td>121.368922</td>\n",
       "    </tr>\n",
       "    <tr>\n",
       "      <th>1</th>\n",
       "      <td>Alaska Airlines</td>\n",
       "      <td>[500, 1000)</td>\n",
       "      <td>134.040610</td>\n",
       "    </tr>\n",
       "    <tr>\n",
       "      <th>2</th>\n",
       "      <td>Alaska Airlines</td>\n",
       "      <td>[1000, 1500)</td>\n",
       "      <td>119.268510</td>\n",
       "    </tr>\n",
       "  </tbody>\n",
       "</table>\n",
       "</div>"
      ],
      "text/plain": [
       "           airline  distance_bin        fare\n",
       "0  Alaska Airlines      [0, 500)  121.368922\n",
       "1  Alaska Airlines   [500, 1000)  134.040610\n",
       "2  Alaska Airlines  [1000, 1500)  119.268510"
      ]
     },
     "execution_count": 11,
     "metadata": {},
     "output_type": "execute_result"
    }
   ],
   "source": [
    "#3\n",
    "n3 = n2.reset_index()\n",
    "\n",
    "n3.head(3)\n"
   ]
  },
  {
   "cell_type": "markdown",
   "metadata": {},
   "source": [
    "   4. Keep the observations for the 4 airlines discussed above: American Airlines, Delta Air Lines, Southwest Airlines, and United Airlines.\n",
    "   5. Covert the distance bin column to a string instead of an Interval object type. \\[try `astype( )`\\]\n",
    "  "
   ]
  },
  {
   "cell_type": "code",
   "execution_count": 12,
   "metadata": {},
   "outputs": [
    {
     "data": {
      "text/html": [
       "<div>\n",
       "<style scoped>\n",
       "    .dataframe tbody tr th:only-of-type {\n",
       "        vertical-align: middle;\n",
       "    }\n",
       "\n",
       "    .dataframe tbody tr th {\n",
       "        vertical-align: top;\n",
       "    }\n",
       "\n",
       "    .dataframe thead th {\n",
       "        text-align: right;\n",
       "    }\n",
       "</style>\n",
       "<table border=\"1\" class=\"dataframe\">\n",
       "  <thead>\n",
       "    <tr style=\"text-align: right;\">\n",
       "      <th></th>\n",
       "      <th>airline</th>\n",
       "      <th>distance_bin</th>\n",
       "      <th>fare</th>\n",
       "    </tr>\n",
       "  </thead>\n",
       "  <tbody>\n",
       "    <tr>\n",
       "      <th>12</th>\n",
       "      <td>American Airlines</td>\n",
       "      <td>[0, 500)</td>\n",
       "      <td>134.206633</td>\n",
       "    </tr>\n",
       "    <tr>\n",
       "      <th>13</th>\n",
       "      <td>American Airlines</td>\n",
       "      <td>[500, 1000)</td>\n",
       "      <td>156.269220</td>\n",
       "    </tr>\n",
       "    <tr>\n",
       "      <th>14</th>\n",
       "      <td>American Airlines</td>\n",
       "      <td>[1000, 1500)</td>\n",
       "      <td>216.934467</td>\n",
       "    </tr>\n",
       "  </tbody>\n",
       "</table>\n",
       "</div>"
      ],
      "text/plain": [
       "              airline  distance_bin        fare\n",
       "12  American Airlines      [0, 500)  134.206633\n",
       "13  American Airlines   [500, 1000)  156.269220\n",
       "14  American Airlines  [1000, 1500)  216.934467"
      ]
     },
     "execution_count": 12,
     "metadata": {},
     "output_type": "execute_result"
    }
   ],
   "source": [
    "#4\n",
    "n4 = n3[n3.airline.isin(['American Airlines','Delta Air Lines', 'Southwest Airlines', 'United Airlines'])]\n",
    "\n",
    "n4.head(3)"
   ]
  },
  {
   "cell_type": "code",
   "execution_count": 13,
   "metadata": {},
   "outputs": [
    {
     "name": "stderr",
     "output_type": "stream",
     "text": [
      "<ipython-input-13-3a5047479b4e>:4: SettingWithCopyWarning: \n",
      "A value is trying to be set on a copy of a slice from a DataFrame.\n",
      "Try using .loc[row_indexer,col_indexer] = value instead\n",
      "\n",
      "See the caveats in the documentation: https://pandas.pydata.org/pandas-docs/stable/user_guide/indexing.html#returning-a-view-versus-a-copy\n",
      "  n5['distance_bin'] = n5['distance_bin'].astype(str)\n"
     ]
    },
    {
     "data": {
      "text/html": [
       "<div>\n",
       "<style scoped>\n",
       "    .dataframe tbody tr th:only-of-type {\n",
       "        vertical-align: middle;\n",
       "    }\n",
       "\n",
       "    .dataframe tbody tr th {\n",
       "        vertical-align: top;\n",
       "    }\n",
       "\n",
       "    .dataframe thead th {\n",
       "        text-align: right;\n",
       "    }\n",
       "</style>\n",
       "<table border=\"1\" class=\"dataframe\">\n",
       "  <thead>\n",
       "    <tr style=\"text-align: right;\">\n",
       "      <th></th>\n",
       "      <th>airline</th>\n",
       "      <th>distance_bin</th>\n",
       "      <th>fare</th>\n",
       "    </tr>\n",
       "  </thead>\n",
       "  <tbody>\n",
       "    <tr>\n",
       "      <th>12</th>\n",
       "      <td>American Airlines</td>\n",
       "      <td>[0, 500)</td>\n",
       "      <td>134.206633</td>\n",
       "    </tr>\n",
       "    <tr>\n",
       "      <th>13</th>\n",
       "      <td>American Airlines</td>\n",
       "      <td>[500, 1000)</td>\n",
       "      <td>156.269220</td>\n",
       "    </tr>\n",
       "    <tr>\n",
       "      <th>14</th>\n",
       "      <td>American Airlines</td>\n",
       "      <td>[1000, 1500)</td>\n",
       "      <td>216.934467</td>\n",
       "    </tr>\n",
       "  </tbody>\n",
       "</table>\n",
       "</div>"
      ],
      "text/plain": [
       "              airline  distance_bin        fare\n",
       "12  American Airlines      [0, 500)  134.206633\n",
       "13  American Airlines   [500, 1000)  156.269220\n",
       "14  American Airlines  [1000, 1500)  216.934467"
      ]
     },
     "execution_count": 13,
     "metadata": {},
     "output_type": "execute_result"
    }
   ],
   "source": [
    "#5\n",
    "n5 = n4\n",
    "\n",
    "n5['distance_bin'] = n5['distance_bin'].astype(str)\n",
    "\n",
    "n5.head(3)"
   ]
  },
  {
   "cell_type": "markdown",
   "metadata": {},
   "source": [
    " 6. Now let's create two **horizontal** bar charts using the subplot method. The first shows the median fare by airline for trips between 0 and 500 miles. The second does so for trips between 2,000 and 2,500 miles. \n",
    " \n",
    "The horizontal axis should show the median fare, the vertical axis should have the airline names as labels. Make the other aspects of the figure look nice. My figure looks like [this](http://badgerdata.org/images/fares.png). \n",
    "\n",
    "The resulting chart should show that Delta has the lowest fares for the flights between 0 and 500 miles but the highest fares for flights between 2,000 and 2,500 miles."
   ]
  },
  {
   "cell_type": "code",
   "execution_count": 14,
   "metadata": {},
   "outputs": [],
   "source": [
    "#6\n",
    "range_1 = ['[0, 500)']\n",
    "n61 = n5[n5['distance_bin'].isin(range_1)]\n",
    "range_2 = ['[2000, 2500)']\n",
    "n62 = n5[n5['distance_bin'].isin(range_2)]\n"
   ]
  },
  {
   "cell_type": "code",
   "execution_count": 15,
   "metadata": {},
   "outputs": [
    {
     "data": {
      "image/png": "[encoded data removed]",
      "text/plain": [
       "<Figure size 1440x504 with 2 Axes>"
      ]
     },
     "metadata": {
      "needs_background": "light"
     },
     "output_type": "display_data"
    }
   ],
   "source": [
    "fig, ax = plt.subplots(1, 2, figsize=(20,7))\n",
    "# median fare by airline for trips between 0 and 500 miles.\n",
    "ax[0].barh(n61['airline'], n61['fare'],  linewidth = 2.0,  color = 'SILVER')\n",
    "ax[0].invert_yaxis()\n",
    "ax[0].set_title(' The Median Fare by Airline for Trips Between 0 And 500 miles')\n",
    "ax[0].set_xlabel('dollars')\n",
    "ax[0].spines['top'].set_visible(False)\n",
    "ax[0].spines['right'].set_visible(False)\n",
    "\n",
    "# between 2,000 and 2,500 miles\n",
    "ax[1].barh(n62['airline'], n62['fare'],  linewidth = 2.0,  color = 'silver')\n",
    "ax[1].invert_yaxis()\n",
    "ax[1].set_title('The Median Fare by Airline for Trips Between 2000 And 2500 miles')\n",
    "ax[1].set_xlabel('dollars')\n",
    "ax[1].spines['top'].set_visible(False)\n",
    "ax[1].spines['right'].set_visible(False)\n",
    "\n",
    "plt.show()"
   ]
  },
  {
   "cell_type": "markdown",
   "metadata": {},
   "source": [
    "7. (Challenging) Create a single *grouped (horizontal) bar chart* with price in dollars on the x axis and the names of the airlines on the y axis. Plot six bars for each airline, grouped by airline. My figure looks like [this](http://badgerdata.org/images/fares_stacked.png)). I am not happy with my colors&mdash;I need to work on it some more.\n",
    "\n",
    "I used seaborn to do this but you are welcome to use whatever method you prefer. "
   ]
  },
  {
   "cell_type": "code",
   "execution_count": 16,
   "metadata": {},
   "outputs": [
    {
     "data": {
      "image/png": "[encoded data removed]",
      "text/plain": [
       "<Figure size 1440x504 with 1 Axes>"
      ]
     },
     "metadata": {
      "needs_background": "light"
     },
     "output_type": "display_data"
    }
   ],
   "source": [
    "#7\n",
    "\n",
    "fig, ax = plt.subplots(figsize=(20,7))\n",
    "\n",
    "ax = sns.barplot(x = 'fare', y = 'airline', hue = 'distance_bin', data = n5 , color = 'violet', alpha = 0.75)\n",
    "sns.despine(ax = ax)\n",
    "ax.set_xlabel('dollars')\n",
    "ax.set_ylabel('')\n",
    "ax.set_title('Median price by segment length(miles)')\n",
    "ax.legend(frameon=False, bbox_to_anchor=(0.8, 0.45))\n",
    "ax.text(300,1.7, 'miles')\n",
    "\n",
    "plt.show()"
   ]
  }
 ],
 "metadata": {
  "celltoolbar": "Attachments",
  "hide_input": false,
  "kernelspec": {
   "display_name": "Python 3",
   "language": "python",
   "name": "python3"
  },
  "language_info": {
   "codemirror_mode": {
    "name": "ipython",
    "version": 3
   },
   "file_extension": ".py",
   "mimetype": "text/x-python",
   "name": "python",
   "nbconvert_exporter": "python",
   "pygments_lexer": "ipython3",
   "version": "3.8.8"
  }
 },
 "nbformat": 4,
 "nbformat_minor": 2
}
