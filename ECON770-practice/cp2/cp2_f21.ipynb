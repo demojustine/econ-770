{
 "cells": [
  {
   "cell_type": "markdown",
   "metadata": {},
   "source": [
    "# Coding practice \\#2: Due midnight, October 15\n",
    "\n",
    "files needed = ('banks_and_branches.csv', 'GDPCA.csv')\n",
    "\n",
    "Answer the questions below in a jupyter notebook. You can simply add cells to this notebook and enter your answers. When you are finished, upload the completed notebook to canvas. \n",
    "\n",
    "A reminder: My office hours are Tuesdays 10:45AM-11:45AM and Wednesdays 5:00PM-5:30PM in Soc Sci 7444. I am also available by email and zoom.\n",
    "\n",
    "*You should feel free to discuss the coding practice with your classmates, but the work you turn in should be your own.*"
   ]
  },
  {
   "cell_type": "markdown",
   "metadata": {},
   "source": [
    "## Exercise 0: Yuan, Meng\n",
    "Replace 'Last, First' above with your actual name. Enter it as: last name, first name."
   ]
  },
  {
   "cell_type": "markdown",
   "metadata": {},
   "source": [
    "## Exercise 1: Subsets\n",
    "Let's practice pulling subsets out of a data frame. We subset a lot. Our goal is to build some muscle memory, so that every time we need to subset the data, we do not need to go look up how to do it. \n",
    "\n",
    "To this end, first try the exercises below without consulting your notes or the internet. Sort out where you need to improve and keep practicing! \n",
    "\n",
    "A. Create a DataFrame from the following dict. \n",
    "```python\n",
    "data_dict = {'soda':['coke', 'diet coke', 'sprite', 'pepsi', 'mug', 'mt. dew'],\n",
    "            'cals':[140, 1, 90, 150, 130, 170],\n",
    "            'sodium':[45, 40, 65, 30, 65, 60],\n",
    "            'corp': ['coca cola', 'coca cola', 'coca cola', 'pepsico', 'pepsico', 'pepsico']}\n",
    "```"
   ]
  },
  {
   "cell_type": "code",
   "execution_count": 1,
   "metadata": {},
   "outputs": [
    {
     "data": {
      "text/html": [
       "<div>\n",
       "<style scoped>\n",
       "    .dataframe tbody tr th:only-of-type {\n",
       "        vertical-align: middle;\n",
       "    }\n",
       "\n",
       "    .dataframe tbody tr th {\n",
       "        vertical-align: top;\n",
       "    }\n",
       "\n",
       "    .dataframe thead th {\n",
       "        text-align: right;\n",
       "    }\n",
       "</style>\n",
       "<table border=\"1\" class=\"dataframe\">\n",
       "  <thead>\n",
       "    <tr style=\"text-align: right;\">\n",
       "      <th></th>\n",
       "      <th>soda</th>\n",
       "      <th>cals</th>\n",
       "      <th>sodium</th>\n",
       "      <th>corp</th>\n",
       "    </tr>\n",
       "  </thead>\n",
       "  <tbody>\n",
       "    <tr>\n",
       "      <th>0</th>\n",
       "      <td>coke</td>\n",
       "      <td>140</td>\n",
       "      <td>45</td>\n",
       "      <td>coca cola</td>\n",
       "    </tr>\n",
       "    <tr>\n",
       "      <th>1</th>\n",
       "      <td>diet coke</td>\n",
       "      <td>1</td>\n",
       "      <td>40</td>\n",
       "      <td>coca cola</td>\n",
       "    </tr>\n",
       "    <tr>\n",
       "      <th>2</th>\n",
       "      <td>sprite</td>\n",
       "      <td>90</td>\n",
       "      <td>65</td>\n",
       "      <td>coca cola</td>\n",
       "    </tr>\n",
       "    <tr>\n",
       "      <th>3</th>\n",
       "      <td>pepsi</td>\n",
       "      <td>150</td>\n",
       "      <td>30</td>\n",
       "      <td>pepsico</td>\n",
       "    </tr>\n",
       "    <tr>\n",
       "      <th>4</th>\n",
       "      <td>mug</td>\n",
       "      <td>130</td>\n",
       "      <td>65</td>\n",
       "      <td>pepsico</td>\n",
       "    </tr>\n",
       "    <tr>\n",
       "      <th>5</th>\n",
       "      <td>mt. dew</td>\n",
       "      <td>170</td>\n",
       "      <td>60</td>\n",
       "      <td>pepsico</td>\n",
       "    </tr>\n",
       "  </tbody>\n",
       "</table>\n",
       "</div>"
      ],
      "text/plain": [
       "        soda  cals  sodium       corp\n",
       "0       coke   140      45  coca cola\n",
       "1  diet coke     1      40  coca cola\n",
       "2     sprite    90      65  coca cola\n",
       "3      pepsi   150      30    pepsico\n",
       "4        mug   130      65    pepsico\n",
       "5    mt. dew   170      60    pepsico"
      ]
     },
     "execution_count": 1,
     "metadata": {},
     "output_type": "execute_result"
    }
   ],
   "source": [
    " # exercise 1\n",
    "    # A\n",
    "import pandas as pd\n",
    "data_dict = {'soda':['coke', 'diet coke', 'sprite', 'pepsi', 'mug', 'mt. dew'],\n",
    "            'cals':[140, 1, 90, 150, 130, 170],\n",
    "            'sodium':[45, 40, 65, 30, 65, 60],\n",
    "            'corp': ['coca cola', 'coca cola', 'coca cola', 'pepsico', 'pepsico', 'pepsico']}\n",
    "data_soda = pd.DataFrame(data_dict)\n",
    "data_soda"
   ]
  },
  {
   "cell_type": "markdown",
   "metadata": {},
   "source": [
    "B. Print a DataFrame containing only sodas with more than 10 calories."
   ]
  },
  {
   "cell_type": "code",
   "execution_count": 2,
   "metadata": {},
   "outputs": [
    {
     "data": {
      "text/html": [
       "<div>\n",
       "<style scoped>\n",
       "    .dataframe tbody tr th:only-of-type {\n",
       "        vertical-align: middle;\n",
       "    }\n",
       "\n",
       "    .dataframe tbody tr th {\n",
       "        vertical-align: top;\n",
       "    }\n",
       "\n",
       "    .dataframe thead th {\n",
       "        text-align: right;\n",
       "    }\n",
       "</style>\n",
       "<table border=\"1\" class=\"dataframe\">\n",
       "  <thead>\n",
       "    <tr style=\"text-align: right;\">\n",
       "      <th></th>\n",
       "      <th>soda</th>\n",
       "      <th>cals</th>\n",
       "      <th>sodium</th>\n",
       "      <th>corp</th>\n",
       "    </tr>\n",
       "  </thead>\n",
       "  <tbody>\n",
       "    <tr>\n",
       "      <th>0</th>\n",
       "      <td>coke</td>\n",
       "      <td>140</td>\n",
       "      <td>45</td>\n",
       "      <td>coca cola</td>\n",
       "    </tr>\n",
       "    <tr>\n",
       "      <th>2</th>\n",
       "      <td>sprite</td>\n",
       "      <td>90</td>\n",
       "      <td>65</td>\n",
       "      <td>coca cola</td>\n",
       "    </tr>\n",
       "    <tr>\n",
       "      <th>3</th>\n",
       "      <td>pepsi</td>\n",
       "      <td>150</td>\n",
       "      <td>30</td>\n",
       "      <td>pepsico</td>\n",
       "    </tr>\n",
       "    <tr>\n",
       "      <th>4</th>\n",
       "      <td>mug</td>\n",
       "      <td>130</td>\n",
       "      <td>65</td>\n",
       "      <td>pepsico</td>\n",
       "    </tr>\n",
       "    <tr>\n",
       "      <th>5</th>\n",
       "      <td>mt. dew</td>\n",
       "      <td>170</td>\n",
       "      <td>60</td>\n",
       "      <td>pepsico</td>\n",
       "    </tr>\n",
       "  </tbody>\n",
       "</table>\n",
       "</div>"
      ],
      "text/plain": [
       "      soda  cals  sodium       corp\n",
       "0     coke   140      45  coca cola\n",
       "2   sprite    90      65  coca cola\n",
       "3    pepsi   150      30    pepsico\n",
       "4      mug   130      65    pepsico\n",
       "5  mt. dew   170      60    pepsico"
      ]
     },
     "execution_count": 2,
     "metadata": {},
     "output_type": "execute_result"
    }
   ],
   "source": [
    "    # B\n",
    "data_soda[data_soda.cals >10]"
   ]
  },
  {
   "cell_type": "markdown",
   "metadata": {},
   "source": [
    "C. Print a DataFrame containing only sodas with more than 10 calories and less than 100 calories."
   ]
  },
  {
   "cell_type": "code",
   "execution_count": 3,
   "metadata": {},
   "outputs": [
    {
     "data": {
      "text/html": [
       "<div>\n",
       "<style scoped>\n",
       "    .dataframe tbody tr th:only-of-type {\n",
       "        vertical-align: middle;\n",
       "    }\n",
       "\n",
       "    .dataframe tbody tr th {\n",
       "        vertical-align: top;\n",
       "    }\n",
       "\n",
       "    .dataframe thead th {\n",
       "        text-align: right;\n",
       "    }\n",
       "</style>\n",
       "<table border=\"1\" class=\"dataframe\">\n",
       "  <thead>\n",
       "    <tr style=\"text-align: right;\">\n",
       "      <th></th>\n",
       "      <th>soda</th>\n",
       "      <th>cals</th>\n",
       "      <th>sodium</th>\n",
       "      <th>corp</th>\n",
       "    </tr>\n",
       "  </thead>\n",
       "  <tbody>\n",
       "    <tr>\n",
       "      <th>2</th>\n",
       "      <td>sprite</td>\n",
       "      <td>90</td>\n",
       "      <td>65</td>\n",
       "      <td>coca cola</td>\n",
       "    </tr>\n",
       "  </tbody>\n",
       "</table>\n",
       "</div>"
      ],
      "text/plain": [
       "     soda  cals  sodium       corp\n",
       "2  sprite    90      65  coca cola"
      ]
     },
     "execution_count": 3,
     "metadata": {},
     "output_type": "execute_result"
    }
   ],
   "source": [
    "    # C\n",
    "data_soda.loc[(data_soda.cals >10) & (data_soda.cals <100)]"
   ]
  },
  {
   "cell_type": "markdown",
   "metadata": {},
   "source": [
    "D. Print a DataFrame containing only data for coke, pepsi, and mug. Use the `.isin()` method."
   ]
  },
  {
   "cell_type": "code",
   "execution_count": 4,
   "metadata": {},
   "outputs": [
    {
     "data": {
      "text/html": [
       "<div>\n",
       "<style scoped>\n",
       "    .dataframe tbody tr th:only-of-type {\n",
       "        vertical-align: middle;\n",
       "    }\n",
       "\n",
       "    .dataframe tbody tr th {\n",
       "        vertical-align: top;\n",
       "    }\n",
       "\n",
       "    .dataframe thead th {\n",
       "        text-align: right;\n",
       "    }\n",
       "</style>\n",
       "<table border=\"1\" class=\"dataframe\">\n",
       "  <thead>\n",
       "    <tr style=\"text-align: right;\">\n",
       "      <th></th>\n",
       "      <th>soda</th>\n",
       "      <th>cals</th>\n",
       "      <th>sodium</th>\n",
       "      <th>corp</th>\n",
       "    </tr>\n",
       "  </thead>\n",
       "  <tbody>\n",
       "    <tr>\n",
       "      <th>0</th>\n",
       "      <td>coke</td>\n",
       "      <td>140</td>\n",
       "      <td>45</td>\n",
       "      <td>coca cola</td>\n",
       "    </tr>\n",
       "    <tr>\n",
       "      <th>3</th>\n",
       "      <td>pepsi</td>\n",
       "      <td>150</td>\n",
       "      <td>30</td>\n",
       "      <td>pepsico</td>\n",
       "    </tr>\n",
       "    <tr>\n",
       "      <th>4</th>\n",
       "      <td>mug</td>\n",
       "      <td>130</td>\n",
       "      <td>65</td>\n",
       "      <td>pepsico</td>\n",
       "    </tr>\n",
       "  </tbody>\n",
       "</table>\n",
       "</div>"
      ],
      "text/plain": [
       "    soda  cals  sodium       corp\n",
       "0   coke   140      45  coca cola\n",
       "3  pepsi   150      30    pepsico\n",
       "4    mug   130      65    pepsico"
      ]
     },
     "execution_count": 4,
     "metadata": {},
     "output_type": "execute_result"
    }
   ],
   "source": [
    "    # D\n",
    "data_soda[data_soda.soda.isin(['coke','pepsi','mug'])]"
   ]
  },
  {
   "cell_type": "markdown",
   "metadata": {},
   "source": [
    "E. Set the index of the DataFrame to 'soda'."
   ]
  },
  {
   "cell_type": "code",
   "execution_count": 5,
   "metadata": {},
   "outputs": [
    {
     "data": {
      "text/html": [
       "<div>\n",
       "<style scoped>\n",
       "    .dataframe tbody tr th:only-of-type {\n",
       "        vertical-align: middle;\n",
       "    }\n",
       "\n",
       "    .dataframe tbody tr th {\n",
       "        vertical-align: top;\n",
       "    }\n",
       "\n",
       "    .dataframe thead th {\n",
       "        text-align: right;\n",
       "    }\n",
       "</style>\n",
       "<table border=\"1\" class=\"dataframe\">\n",
       "  <thead>\n",
       "    <tr style=\"text-align: right;\">\n",
       "      <th></th>\n",
       "      <th>cals</th>\n",
       "      <th>sodium</th>\n",
       "      <th>corp</th>\n",
       "    </tr>\n",
       "    <tr>\n",
       "      <th>soda</th>\n",
       "      <th></th>\n",
       "      <th></th>\n",
       "      <th></th>\n",
       "    </tr>\n",
       "  </thead>\n",
       "  <tbody>\n",
       "    <tr>\n",
       "      <th>coke</th>\n",
       "      <td>140</td>\n",
       "      <td>45</td>\n",
       "      <td>coca cola</td>\n",
       "    </tr>\n",
       "    <tr>\n",
       "      <th>diet coke</th>\n",
       "      <td>1</td>\n",
       "      <td>40</td>\n",
       "      <td>coca cola</td>\n",
       "    </tr>\n",
       "    <tr>\n",
       "      <th>sprite</th>\n",
       "      <td>90</td>\n",
       "      <td>65</td>\n",
       "      <td>coca cola</td>\n",
       "    </tr>\n",
       "    <tr>\n",
       "      <th>pepsi</th>\n",
       "      <td>150</td>\n",
       "      <td>30</td>\n",
       "      <td>pepsico</td>\n",
       "    </tr>\n",
       "    <tr>\n",
       "      <th>mug</th>\n",
       "      <td>130</td>\n",
       "      <td>65</td>\n",
       "      <td>pepsico</td>\n",
       "    </tr>\n",
       "    <tr>\n",
       "      <th>mt. dew</th>\n",
       "      <td>170</td>\n",
       "      <td>60</td>\n",
       "      <td>pepsico</td>\n",
       "    </tr>\n",
       "  </tbody>\n",
       "</table>\n",
       "</div>"
      ],
      "text/plain": [
       "           cals  sodium       corp\n",
       "soda                              \n",
       "coke        140      45  coca cola\n",
       "diet coke     1      40  coca cola\n",
       "sprite       90      65  coca cola\n",
       "pepsi       150      30    pepsico\n",
       "mug         130      65    pepsico\n",
       "mt. dew     170      60    pepsico"
      ]
     },
     "execution_count": 5,
     "metadata": {},
     "output_type": "execute_result"
    }
   ],
   "source": [
    "    # E\n",
    "data_soda.set_index('soda', inplace=True)\n",
    "data_soda"
   ]
  },
  {
   "cell_type": "markdown",
   "metadata": {},
   "source": [
    "F. Use `.loc[]` to print a DataFrame containing only coke, pepsi, and mug."
   ]
  },
  {
   "cell_type": "code",
   "execution_count": 6,
   "metadata": {},
   "outputs": [
    {
     "data": {
      "text/html": [
       "<div>\n",
       "<style scoped>\n",
       "    .dataframe tbody tr th:only-of-type {\n",
       "        vertical-align: middle;\n",
       "    }\n",
       "\n",
       "    .dataframe tbody tr th {\n",
       "        vertical-align: top;\n",
       "    }\n",
       "\n",
       "    .dataframe thead th {\n",
       "        text-align: right;\n",
       "    }\n",
       "</style>\n",
       "<table border=\"1\" class=\"dataframe\">\n",
       "  <thead>\n",
       "    <tr style=\"text-align: right;\">\n",
       "      <th></th>\n",
       "      <th>cals</th>\n",
       "      <th>sodium</th>\n",
       "      <th>corp</th>\n",
       "    </tr>\n",
       "    <tr>\n",
       "      <th>soda</th>\n",
       "      <th></th>\n",
       "      <th></th>\n",
       "      <th></th>\n",
       "    </tr>\n",
       "  </thead>\n",
       "  <tbody>\n",
       "    <tr>\n",
       "      <th>coke</th>\n",
       "      <td>140</td>\n",
       "      <td>45</td>\n",
       "      <td>coca cola</td>\n",
       "    </tr>\n",
       "    <tr>\n",
       "      <th>pepsi</th>\n",
       "      <td>150</td>\n",
       "      <td>30</td>\n",
       "      <td>pepsico</td>\n",
       "    </tr>\n",
       "    <tr>\n",
       "      <th>mug</th>\n",
       "      <td>130</td>\n",
       "      <td>65</td>\n",
       "      <td>pepsico</td>\n",
       "    </tr>\n",
       "  </tbody>\n",
       "</table>\n",
       "</div>"
      ],
      "text/plain": [
       "       cals  sodium       corp\n",
       "soda                          \n",
       "coke    140      45  coca cola\n",
       "pepsi   150      30    pepsico\n",
       "mug     130      65    pepsico"
      ]
     },
     "execution_count": 6,
     "metadata": {},
     "output_type": "execute_result"
    }
   ],
   "source": [
    "    # F\n",
    "data_soda.loc[['coke','pepsi','mug']]"
   ]
  },
  {
   "cell_type": "markdown",
   "metadata": {},
   "source": [
    "G. Print out the average sodium for pepsico products that have more than 135 calories. "
   ]
  },
  {
   "cell_type": "code",
   "execution_count": 7,
   "metadata": {},
   "outputs": [
    {
     "data": {
      "text/plain": [
       "45.0"
      ]
     },
     "execution_count": 7,
     "metadata": {},
     "output_type": "execute_result"
    }
   ],
   "source": [
    "    # G\n",
    "data_soda.loc[(data_soda.corp== 'pepsico') & (data_soda.cals > 135) , 'sodium'].mean()"
   ]
  },
  {
   "cell_type": "markdown",
   "metadata": {},
   "source": [
    "H. Print out the number of pepsico products with sodium above 60 mg."
   ]
  },
  {
   "cell_type": "code",
   "execution_count": 8,
   "metadata": {},
   "outputs": [
    {
     "data": {
      "text/plain": [
       "1"
      ]
     },
     "execution_count": 8,
     "metadata": {},
     "output_type": "execute_result"
    }
   ],
   "source": [
    "    # H\n",
    "data_soda.loc[(data_soda.corp== 'pepsico') & (data_soda.sodium >60), 'sodium'].count()"
   ]
  },
  {
   "cell_type": "markdown",
   "metadata": {},
   "source": [
    "I. Print out the calories in a coke. "
   ]
  },
  {
   "cell_type": "code",
   "execution_count": 9,
   "metadata": {},
   "outputs": [
    {
     "data": {
      "text/plain": [
       "140"
      ]
     },
     "execution_count": 9,
     "metadata": {},
     "output_type": "execute_result"
    }
   ],
   "source": [
    "    # I\n",
    "data_soda.loc['coke','cals']"
   ]
  },
  {
   "cell_type": "markdown",
   "metadata": {},
   "source": [
    "## Exercise 2: Importing data\n",
    "\n",
    "The file 'banks_and_branches.csv' (on the course website for download) contains data on the number of commercial banking institutions, branches, and offices in the United States at the end of each year between 1934 and 2017. \n",
    "\n",
    "\\[The data are from Table CB01, which is maintained by the Federal Deposit Insurance Corporation (FDIC).  FDIC data can be downloaded from https://www.fdic.gov/open/datatools.html. You are encouraged to browse around their website to see what's there &mdash; this might be a useful source for your final project.\\]\n",
    "\n",
    "Your task is to import this data into Python and get it into good shape. \n",
    "\n",
    "### Part (a):\n",
    "Import the data from 'banks_and_branches.csv' into a pandas data frame called `banking_data`. If you open the .csv file in Excel or a similar program, you'll notice that there are notes in several of the cells at the beginning of the file. Rather than delete these manually, you should use the `header` option in `pandas.read_csv` to use the correct row for the column names."
   ]
  },
  {
   "cell_type": "code",
   "execution_count": 10,
   "metadata": {},
   "outputs": [
    {
     "data": {
      "text/html": [
       "<div>\n",
       "<style scoped>\n",
       "    .dataframe tbody tr th:only-of-type {\n",
       "        vertical-align: middle;\n",
       "    }\n",
       "\n",
       "    .dataframe tbody tr th {\n",
       "        vertical-align: top;\n",
       "    }\n",
       "\n",
       "    .dataframe thead th {\n",
       "        text-align: right;\n",
       "    }\n",
       "</style>\n",
       "<table border=\"1\" class=\"dataframe\">\n",
       "  <thead>\n",
       "    <tr style=\"text-align: right;\">\n",
       "      <th></th>\n",
       "      <th>Year</th>\n",
       "      <th>Institutions</th>\n",
       "      <th>Branches</th>\n",
       "      <th>Offices</th>\n",
       "    </tr>\n",
       "  </thead>\n",
       "  <tbody>\n",
       "    <tr>\n",
       "      <th>0</th>\n",
       "      <td>2017</td>\n",
       "      <td>4,918</td>\n",
       "      <td>79,163</td>\n",
       "      <td>84,081</td>\n",
       "    </tr>\n",
       "    <tr>\n",
       "      <th>1</th>\n",
       "      <td>2016</td>\n",
       "      <td>5,112</td>\n",
       "      <td>80,089</td>\n",
       "      <td>85,201</td>\n",
       "    </tr>\n",
       "    <tr>\n",
       "      <th>2</th>\n",
       "      <td>2015</td>\n",
       "      <td>5,340</td>\n",
       "      <td>81,541</td>\n",
       "      <td>86,881</td>\n",
       "    </tr>\n",
       "    <tr>\n",
       "      <th>3</th>\n",
       "      <td>2014</td>\n",
       "      <td>5,607</td>\n",
       "      <td>81,990</td>\n",
       "      <td>87,597</td>\n",
       "    </tr>\n",
       "    <tr>\n",
       "      <th>4</th>\n",
       "      <td>2013</td>\n",
       "      <td>5,847</td>\n",
       "      <td>82,735</td>\n",
       "      <td>88,582</td>\n",
       "    </tr>\n",
       "    <tr>\n",
       "      <th>...</th>\n",
       "      <td>...</td>\n",
       "      <td>...</td>\n",
       "      <td>...</td>\n",
       "      <td>...</td>\n",
       "    </tr>\n",
       "    <tr>\n",
       "      <th>79</th>\n",
       "      <td>1938</td>\n",
       "      <td>13,661</td>\n",
       "      <td>3,412</td>\n",
       "      <td>17,073</td>\n",
       "    </tr>\n",
       "    <tr>\n",
       "      <th>80</th>\n",
       "      <td>1937</td>\n",
       "      <td>13,797</td>\n",
       "      <td>3,381</td>\n",
       "      <td>17,178</td>\n",
       "    </tr>\n",
       "    <tr>\n",
       "      <th>81</th>\n",
       "      <td>1936</td>\n",
       "      <td>13,973</td>\n",
       "      <td>3,261</td>\n",
       "      <td>17,234</td>\n",
       "    </tr>\n",
       "    <tr>\n",
       "      <th>82</th>\n",
       "      <td>1935</td>\n",
       "      <td>14,125</td>\n",
       "      <td>3,112</td>\n",
       "      <td>17,237</td>\n",
       "    </tr>\n",
       "    <tr>\n",
       "      <th>83</th>\n",
       "      <td>1934</td>\n",
       "      <td>14,146</td>\n",
       "      <td>0</td>\n",
       "      <td>14,146</td>\n",
       "    </tr>\n",
       "  </tbody>\n",
       "</table>\n",
       "<p>84 rows × 4 columns</p>\n",
       "</div>"
      ],
      "text/plain": [
       "    Year Institutions Branches Offices\n",
       "0   2017        4,918   79,163  84,081\n",
       "1   2016        5,112   80,089  85,201\n",
       "2   2015        5,340   81,541  86,881\n",
       "3   2014        5,607   81,990  87,597\n",
       "4   2013        5,847   82,735  88,582\n",
       "..   ...          ...      ...     ...\n",
       "79  1938       13,661    3,412  17,073\n",
       "80  1937       13,797    3,381  17,178\n",
       "81  1936       13,973    3,261  17,234\n",
       "82  1935       14,125    3,112  17,237\n",
       "83  1934       14,146        0  14,146\n",
       "\n",
       "[84 rows x 4 columns]"
      ]
     },
     "execution_count": 10,
     "metadata": {},
     "output_type": "execute_result"
    }
   ],
   "source": [
    "# Exercise 2 : Importing data\n",
    "\n",
    "# Part(a)\n",
    "\n",
    "banking_data = pd.read_csv('banks_and_branches.csv', header = 6) \n",
    "banking_data"
   ]
  },
  {
   "cell_type": "markdown",
   "metadata": {},
   "source": [
    "### Part (b):\n",
    "1. Convert each of the column names to lower case using a list comprehension.\n",
    "2. We don't need the 'branches' column&mdash;you might notice that the variable 'offices' is equal to 'institutions' plus 'branches'. Delete the 'branches' column.  \n",
    "3. Rename the 'institutions' column 'banks'.\n",
    "4. Print the data types of each column."
   ]
  },
  {
   "cell_type": "code",
   "execution_count": 11,
   "metadata": {},
   "outputs": [
    {
     "data": {
      "text/html": [
       "<div>\n",
       "<style scoped>\n",
       "    .dataframe tbody tr th:only-of-type {\n",
       "        vertical-align: middle;\n",
       "    }\n",
       "\n",
       "    .dataframe tbody tr th {\n",
       "        vertical-align: top;\n",
       "    }\n",
       "\n",
       "    .dataframe thead th {\n",
       "        text-align: right;\n",
       "    }\n",
       "</style>\n",
       "<table border=\"1\" class=\"dataframe\">\n",
       "  <thead>\n",
       "    <tr style=\"text-align: right;\">\n",
       "      <th></th>\n",
       "      <th>year</th>\n",
       "      <th>institutions</th>\n",
       "      <th>branches</th>\n",
       "      <th>offices</th>\n",
       "    </tr>\n",
       "  </thead>\n",
       "  <tbody>\n",
       "    <tr>\n",
       "      <th>0</th>\n",
       "      <td>2017</td>\n",
       "      <td>4,918</td>\n",
       "      <td>79,163</td>\n",
       "      <td>84,081</td>\n",
       "    </tr>\n",
       "    <tr>\n",
       "      <th>1</th>\n",
       "      <td>2016</td>\n",
       "      <td>5,112</td>\n",
       "      <td>80,089</td>\n",
       "      <td>85,201</td>\n",
       "    </tr>\n",
       "    <tr>\n",
       "      <th>2</th>\n",
       "      <td>2015</td>\n",
       "      <td>5,340</td>\n",
       "      <td>81,541</td>\n",
       "      <td>86,881</td>\n",
       "    </tr>\n",
       "    <tr>\n",
       "      <th>3</th>\n",
       "      <td>2014</td>\n",
       "      <td>5,607</td>\n",
       "      <td>81,990</td>\n",
       "      <td>87,597</td>\n",
       "    </tr>\n",
       "    <tr>\n",
       "      <th>4</th>\n",
       "      <td>2013</td>\n",
       "      <td>5,847</td>\n",
       "      <td>82,735</td>\n",
       "      <td>88,582</td>\n",
       "    </tr>\n",
       "    <tr>\n",
       "      <th>...</th>\n",
       "      <td>...</td>\n",
       "      <td>...</td>\n",
       "      <td>...</td>\n",
       "      <td>...</td>\n",
       "    </tr>\n",
       "    <tr>\n",
       "      <th>79</th>\n",
       "      <td>1938</td>\n",
       "      <td>13,661</td>\n",
       "      <td>3,412</td>\n",
       "      <td>17,073</td>\n",
       "    </tr>\n",
       "    <tr>\n",
       "      <th>80</th>\n",
       "      <td>1937</td>\n",
       "      <td>13,797</td>\n",
       "      <td>3,381</td>\n",
       "      <td>17,178</td>\n",
       "    </tr>\n",
       "    <tr>\n",
       "      <th>81</th>\n",
       "      <td>1936</td>\n",
       "      <td>13,973</td>\n",
       "      <td>3,261</td>\n",
       "      <td>17,234</td>\n",
       "    </tr>\n",
       "    <tr>\n",
       "      <th>82</th>\n",
       "      <td>1935</td>\n",
       "      <td>14,125</td>\n",
       "      <td>3,112</td>\n",
       "      <td>17,237</td>\n",
       "    </tr>\n",
       "    <tr>\n",
       "      <th>83</th>\n",
       "      <td>1934</td>\n",
       "      <td>14,146</td>\n",
       "      <td>0</td>\n",
       "      <td>14,146</td>\n",
       "    </tr>\n",
       "  </tbody>\n",
       "</table>\n",
       "<p>84 rows × 4 columns</p>\n",
       "</div>"
      ],
      "text/plain": [
       "    year institutions branches offices\n",
       "0   2017        4,918   79,163  84,081\n",
       "1   2016        5,112   80,089  85,201\n",
       "2   2015        5,340   81,541  86,881\n",
       "3   2014        5,607   81,990  87,597\n",
       "4   2013        5,847   82,735  88,582\n",
       "..   ...          ...      ...     ...\n",
       "79  1938       13,661    3,412  17,073\n",
       "80  1937       13,797    3,381  17,178\n",
       "81  1936       13,973    3,261  17,234\n",
       "82  1935       14,125    3,112  17,237\n",
       "83  1934       14,146        0  14,146\n",
       "\n",
       "[84 rows x 4 columns]"
      ]
     },
     "execution_count": 11,
     "metadata": {},
     "output_type": "execute_result"
    }
   ],
   "source": [
    "#Part(b)\n",
    "\n",
    "    #1\n",
    "banking_data.columns = [col_name.lower() for col_name in banking_data.columns]\n",
    "banking_data.columns = banking_data.columns.str.lower()\n",
    "banking_data\n",
    "\n"
   ]
  },
  {
   "cell_type": "code",
   "execution_count": 12,
   "metadata": {},
   "outputs": [
    {
     "data": {
      "text/html": [
       "<div>\n",
       "<style scoped>\n",
       "    .dataframe tbody tr th:only-of-type {\n",
       "        vertical-align: middle;\n",
       "    }\n",
       "\n",
       "    .dataframe tbody tr th {\n",
       "        vertical-align: top;\n",
       "    }\n",
       "\n",
       "    .dataframe thead th {\n",
       "        text-align: right;\n",
       "    }\n",
       "</style>\n",
       "<table border=\"1\" class=\"dataframe\">\n",
       "  <thead>\n",
       "    <tr style=\"text-align: right;\">\n",
       "      <th></th>\n",
       "      <th>year</th>\n",
       "      <th>institutions</th>\n",
       "      <th>offices</th>\n",
       "    </tr>\n",
       "  </thead>\n",
       "  <tbody>\n",
       "    <tr>\n",
       "      <th>0</th>\n",
       "      <td>2017</td>\n",
       "      <td>4,918</td>\n",
       "      <td>84,081</td>\n",
       "    </tr>\n",
       "    <tr>\n",
       "      <th>1</th>\n",
       "      <td>2016</td>\n",
       "      <td>5,112</td>\n",
       "      <td>85,201</td>\n",
       "    </tr>\n",
       "    <tr>\n",
       "      <th>2</th>\n",
       "      <td>2015</td>\n",
       "      <td>5,340</td>\n",
       "      <td>86,881</td>\n",
       "    </tr>\n",
       "    <tr>\n",
       "      <th>3</th>\n",
       "      <td>2014</td>\n",
       "      <td>5,607</td>\n",
       "      <td>87,597</td>\n",
       "    </tr>\n",
       "    <tr>\n",
       "      <th>4</th>\n",
       "      <td>2013</td>\n",
       "      <td>5,847</td>\n",
       "      <td>88,582</td>\n",
       "    </tr>\n",
       "    <tr>\n",
       "      <th>...</th>\n",
       "      <td>...</td>\n",
       "      <td>...</td>\n",
       "      <td>...</td>\n",
       "    </tr>\n",
       "    <tr>\n",
       "      <th>79</th>\n",
       "      <td>1938</td>\n",
       "      <td>13,661</td>\n",
       "      <td>17,073</td>\n",
       "    </tr>\n",
       "    <tr>\n",
       "      <th>80</th>\n",
       "      <td>1937</td>\n",
       "      <td>13,797</td>\n",
       "      <td>17,178</td>\n",
       "    </tr>\n",
       "    <tr>\n",
       "      <th>81</th>\n",
       "      <td>1936</td>\n",
       "      <td>13,973</td>\n",
       "      <td>17,234</td>\n",
       "    </tr>\n",
       "    <tr>\n",
       "      <th>82</th>\n",
       "      <td>1935</td>\n",
       "      <td>14,125</td>\n",
       "      <td>17,237</td>\n",
       "    </tr>\n",
       "    <tr>\n",
       "      <th>83</th>\n",
       "      <td>1934</td>\n",
       "      <td>14,146</td>\n",
       "      <td>14,146</td>\n",
       "    </tr>\n",
       "  </tbody>\n",
       "</table>\n",
       "<p>84 rows × 3 columns</p>\n",
       "</div>"
      ],
      "text/plain": [
       "    year institutions offices\n",
       "0   2017        4,918  84,081\n",
       "1   2016        5,112  85,201\n",
       "2   2015        5,340  86,881\n",
       "3   2014        5,607  87,597\n",
       "4   2013        5,847  88,582\n",
       "..   ...          ...     ...\n",
       "79  1938       13,661  17,073\n",
       "80  1937       13,797  17,178\n",
       "81  1936       13,973  17,234\n",
       "82  1935       14,125  17,237\n",
       "83  1934       14,146  14,146\n",
       "\n",
       "[84 rows x 3 columns]"
      ]
     },
     "execution_count": 12,
     "metadata": {},
     "output_type": "execute_result"
    }
   ],
   "source": [
    "    #2\n",
    "banking_data = banking_data.drop('branches', axis = 1)\n",
    "banking_data"
   ]
  },
  {
   "cell_type": "code",
   "execution_count": 13,
   "metadata": {},
   "outputs": [
    {
     "data": {
      "text/html": [
       "<div>\n",
       "<style scoped>\n",
       "    .dataframe tbody tr th:only-of-type {\n",
       "        vertical-align: middle;\n",
       "    }\n",
       "\n",
       "    .dataframe tbody tr th {\n",
       "        vertical-align: top;\n",
       "    }\n",
       "\n",
       "    .dataframe thead th {\n",
       "        text-align: right;\n",
       "    }\n",
       "</style>\n",
       "<table border=\"1\" class=\"dataframe\">\n",
       "  <thead>\n",
       "    <tr style=\"text-align: right;\">\n",
       "      <th></th>\n",
       "      <th>year</th>\n",
       "      <th>banks</th>\n",
       "      <th>offices</th>\n",
       "    </tr>\n",
       "  </thead>\n",
       "  <tbody>\n",
       "    <tr>\n",
       "      <th>0</th>\n",
       "      <td>2017</td>\n",
       "      <td>4,918</td>\n",
       "      <td>84,081</td>\n",
       "    </tr>\n",
       "    <tr>\n",
       "      <th>1</th>\n",
       "      <td>2016</td>\n",
       "      <td>5,112</td>\n",
       "      <td>85,201</td>\n",
       "    </tr>\n",
       "    <tr>\n",
       "      <th>2</th>\n",
       "      <td>2015</td>\n",
       "      <td>5,340</td>\n",
       "      <td>86,881</td>\n",
       "    </tr>\n",
       "    <tr>\n",
       "      <th>3</th>\n",
       "      <td>2014</td>\n",
       "      <td>5,607</td>\n",
       "      <td>87,597</td>\n",
       "    </tr>\n",
       "    <tr>\n",
       "      <th>4</th>\n",
       "      <td>2013</td>\n",
       "      <td>5,847</td>\n",
       "      <td>88,582</td>\n",
       "    </tr>\n",
       "    <tr>\n",
       "      <th>...</th>\n",
       "      <td>...</td>\n",
       "      <td>...</td>\n",
       "      <td>...</td>\n",
       "    </tr>\n",
       "    <tr>\n",
       "      <th>79</th>\n",
       "      <td>1938</td>\n",
       "      <td>13,661</td>\n",
       "      <td>17,073</td>\n",
       "    </tr>\n",
       "    <tr>\n",
       "      <th>80</th>\n",
       "      <td>1937</td>\n",
       "      <td>13,797</td>\n",
       "      <td>17,178</td>\n",
       "    </tr>\n",
       "    <tr>\n",
       "      <th>81</th>\n",
       "      <td>1936</td>\n",
       "      <td>13,973</td>\n",
       "      <td>17,234</td>\n",
       "    </tr>\n",
       "    <tr>\n",
       "      <th>82</th>\n",
       "      <td>1935</td>\n",
       "      <td>14,125</td>\n",
       "      <td>17,237</td>\n",
       "    </tr>\n",
       "    <tr>\n",
       "      <th>83</th>\n",
       "      <td>1934</td>\n",
       "      <td>14,146</td>\n",
       "      <td>14,146</td>\n",
       "    </tr>\n",
       "  </tbody>\n",
       "</table>\n",
       "<p>84 rows × 3 columns</p>\n",
       "</div>"
      ],
      "text/plain": [
       "    year   banks offices\n",
       "0   2017   4,918  84,081\n",
       "1   2016   5,112  85,201\n",
       "2   2015   5,340  86,881\n",
       "3   2014   5,607  87,597\n",
       "4   2013   5,847  88,582\n",
       "..   ...     ...     ...\n",
       "79  1938  13,661  17,073\n",
       "80  1937  13,797  17,178\n",
       "81  1936  13,973  17,234\n",
       "82  1935  14,125  17,237\n",
       "83  1934  14,146  14,146\n",
       "\n",
       "[84 rows x 3 columns]"
      ]
     },
     "execution_count": 13,
     "metadata": {},
     "output_type": "execute_result"
    }
   ],
   "source": [
    "    #3\n",
    "banking_data.rename(columns={'institutions':'banks'}, inplace=True)\n",
    "banking_data"
   ]
  },
  {
   "cell_type": "code",
   "execution_count": 14,
   "metadata": {},
   "outputs": [
    {
     "name": "stdout",
     "output_type": "stream",
     "text": [
      "year        int64\n",
      "banks      object\n",
      "offices    object\n",
      "dtype: object\n"
     ]
    }
   ],
   "source": [
    "    #4 \n",
    "print(banking_data.dtypes)"
   ]
  },
  {
   "cell_type": "markdown",
   "metadata": {},
   "source": [
    "### Part (c):\n",
    "\n",
    "You'll notice that some of the columns are listed as objects and not integers. \n",
    "\n",
    "1. Convert these columns to integers. Note that you'll need to remove the thousands separator (',') from each number first. \\[Have a look at pandas' `str.replace()` method and the `.astype()` method.\\] Print the data types of each column to confirm that they are all integers.\n",
    "\n",
    "2. Create a variable containing the average number of offices per institution in each year. Add a new column called 'offices_per_bank' to `banking_data` with this information.\n",
    "\n",
    "3. Save your DataFrame to a CSV file named 'banking_data.csv'. We will use this file for coding practice \\#3."
   ]
  },
  {
   "cell_type": "code",
   "execution_count": 15,
   "metadata": {},
   "outputs": [
    {
     "name": "stdout",
     "output_type": "stream",
     "text": [
      "year       int32\n",
      "banks      int32\n",
      "offices    int32\n",
      "dtype: object\n"
     ]
    }
   ],
   "source": [
    "#Part(c)\n",
    "    #1 \n",
    "banking_data = banking_data.replace(',','', regex= True)\n",
    "banking_data = banking_data.astype(int)\n",
    "\n",
    "# banking_data['banks'] = banking_data['banks'].str.replace(',','')\n",
    "# banking_data['offices'] = banking_data['offices'].str.replace(',','')\n",
    "print(banking_data.dtypes)\n"
   ]
  },
  {
   "cell_type": "code",
   "execution_count": 16,
   "metadata": {
    "scrolled": true
   },
   "outputs": [
    {
     "data": {
      "text/html": [
       "<div>\n",
       "<style scoped>\n",
       "    .dataframe tbody tr th:only-of-type {\n",
       "        vertical-align: middle;\n",
       "    }\n",
       "\n",
       "    .dataframe tbody tr th {\n",
       "        vertical-align: top;\n",
       "    }\n",
       "\n",
       "    .dataframe thead th {\n",
       "        text-align: right;\n",
       "    }\n",
       "</style>\n",
       "<table border=\"1\" class=\"dataframe\">\n",
       "  <thead>\n",
       "    <tr style=\"text-align: right;\">\n",
       "      <th></th>\n",
       "      <th>year</th>\n",
       "      <th>banks</th>\n",
       "      <th>offices</th>\n",
       "      <th>offices_per_bank</th>\n",
       "    </tr>\n",
       "  </thead>\n",
       "  <tbody>\n",
       "    <tr>\n",
       "      <th>0</th>\n",
       "      <td>2017</td>\n",
       "      <td>4918</td>\n",
       "      <td>84081</td>\n",
       "      <td>17.096584</td>\n",
       "    </tr>\n",
       "    <tr>\n",
       "      <th>1</th>\n",
       "      <td>2016</td>\n",
       "      <td>5112</td>\n",
       "      <td>85201</td>\n",
       "      <td>16.666862</td>\n",
       "    </tr>\n",
       "    <tr>\n",
       "      <th>2</th>\n",
       "      <td>2015</td>\n",
       "      <td>5340</td>\n",
       "      <td>86881</td>\n",
       "      <td>16.269850</td>\n",
       "    </tr>\n",
       "    <tr>\n",
       "      <th>3</th>\n",
       "      <td>2014</td>\n",
       "      <td>5607</td>\n",
       "      <td>87597</td>\n",
       "      <td>15.622793</td>\n",
       "    </tr>\n",
       "    <tr>\n",
       "      <th>4</th>\n",
       "      <td>2013</td>\n",
       "      <td>5847</td>\n",
       "      <td>88582</td>\n",
       "      <td>15.149991</td>\n",
       "    </tr>\n",
       "    <tr>\n",
       "      <th>...</th>\n",
       "      <td>...</td>\n",
       "      <td>...</td>\n",
       "      <td>...</td>\n",
       "      <td>...</td>\n",
       "    </tr>\n",
       "    <tr>\n",
       "      <th>79</th>\n",
       "      <td>1938</td>\n",
       "      <td>13661</td>\n",
       "      <td>17073</td>\n",
       "      <td>1.249762</td>\n",
       "    </tr>\n",
       "    <tr>\n",
       "      <th>80</th>\n",
       "      <td>1937</td>\n",
       "      <td>13797</td>\n",
       "      <td>17178</td>\n",
       "      <td>1.245053</td>\n",
       "    </tr>\n",
       "    <tr>\n",
       "      <th>81</th>\n",
       "      <td>1936</td>\n",
       "      <td>13973</td>\n",
       "      <td>17234</td>\n",
       "      <td>1.233379</td>\n",
       "    </tr>\n",
       "    <tr>\n",
       "      <th>82</th>\n",
       "      <td>1935</td>\n",
       "      <td>14125</td>\n",
       "      <td>17237</td>\n",
       "      <td>1.220319</td>\n",
       "    </tr>\n",
       "    <tr>\n",
       "      <th>83</th>\n",
       "      <td>1934</td>\n",
       "      <td>14146</td>\n",
       "      <td>14146</td>\n",
       "      <td>1.000000</td>\n",
       "    </tr>\n",
       "  </tbody>\n",
       "</table>\n",
       "<p>84 rows × 4 columns</p>\n",
       "</div>"
      ],
      "text/plain": [
       "    year  banks  offices  offices_per_bank\n",
       "0   2017   4918    84081         17.096584\n",
       "1   2016   5112    85201         16.666862\n",
       "2   2015   5340    86881         16.269850\n",
       "3   2014   5607    87597         15.622793\n",
       "4   2013   5847    88582         15.149991\n",
       "..   ...    ...      ...               ...\n",
       "79  1938  13661    17073          1.249762\n",
       "80  1937  13797    17178          1.245053\n",
       "81  1936  13973    17234          1.233379\n",
       "82  1935  14125    17237          1.220319\n",
       "83  1934  14146    14146          1.000000\n",
       "\n",
       "[84 rows x 4 columns]"
      ]
     },
     "execution_count": 16,
     "metadata": {},
     "output_type": "execute_result"
    }
   ],
   "source": [
    "    #2\n",
    "banking_data['offices_per_bank'] = banking_data['offices'] / banking_data['banks']\n",
    "banking_data"
   ]
  },
  {
   "cell_type": "code",
   "execution_count": 17,
   "metadata": {},
   "outputs": [],
   "source": [
    "    #3 \n",
    "banking_data.to_csv('banking_data.csv')"
   ]
  },
  {
   "cell_type": "markdown",
   "metadata": {},
   "source": [
    "## Exercise 3\n",
    "Let's work with U.S. GDP. The data come from FRED. The goal it to brush up on our data cleaning skills and compute a few summary statistics. \n",
    "\n",
    "### Part (a):\n",
    "1. The file GDPCA.csv contains annual real GDP. Read it into a DataFrame and create a series of growth rates."
   ]
  },
  {
   "cell_type": "code",
   "execution_count": 18,
   "metadata": {},
   "outputs": [
    {
     "ename": "ValueError",
     "evalue": "could not convert string to float: ''",
     "output_type": "error",
     "traceback": [
      "\u001b[1;31m---------------------------------------------------------------------------\u001b[0m",
      "\u001b[1;31mValueError\u001b[0m                                Traceback (most recent call last)",
      "\u001b[1;32m<ipython-input-18-b8c085193c82>\u001b[0m in \u001b[0;36m<module>\u001b[1;34m\u001b[0m\n\u001b[0;32m      5\u001b[0m \u001b[0mgdp_data\u001b[0m \u001b[1;33m=\u001b[0m \u001b[0mpd\u001b[0m\u001b[1;33m.\u001b[0m\u001b[0mread_csv\u001b[0m\u001b[1;33m(\u001b[0m\u001b[1;34m'GDPCA.csv'\u001b[0m\u001b[1;33m)\u001b[0m\u001b[1;33m\u001b[0m\u001b[1;33m\u001b[0m\u001b[0m\n\u001b[0;32m      6\u001b[0m \u001b[0mgdp_data\u001b[0m\u001b[1;33m[\u001b[0m\u001b[1;34m'GDPCA'\u001b[0m\u001b[1;33m]\u001b[0m \u001b[1;33m=\u001b[0m \u001b[0mgdp_data\u001b[0m\u001b[1;33m[\u001b[0m\u001b[1;34m'GDPCA'\u001b[0m\u001b[1;33m]\u001b[0m\u001b[1;33m.\u001b[0m\u001b[0mstr\u001b[0m\u001b[1;33m.\u001b[0m\u001b[0mreplace\u001b[0m\u001b[1;33m(\u001b[0m\u001b[1;34m'.'\u001b[0m\u001b[1;33m,\u001b[0m\u001b[1;34m''\u001b[0m\u001b[1;33m,\u001b[0m \u001b[0mregex\u001b[0m\u001b[1;33m=\u001b[0m \u001b[1;32mFalse\u001b[0m \u001b[1;33m)\u001b[0m\u001b[1;33m\u001b[0m\u001b[1;33m\u001b[0m\u001b[0m\n\u001b[1;32m----> 7\u001b[1;33m \u001b[0mgdp_data\u001b[0m\u001b[1;33m[\u001b[0m\u001b[1;34m'GDPCA'\u001b[0m\u001b[1;33m]\u001b[0m \u001b[1;33m=\u001b[0m \u001b[0mgdp_data\u001b[0m\u001b[1;33m[\u001b[0m\u001b[1;34m'GDPCA'\u001b[0m\u001b[1;33m]\u001b[0m\u001b[1;33m.\u001b[0m\u001b[0mastype\u001b[0m\u001b[1;33m(\u001b[0m\u001b[0mfloat\u001b[0m\u001b[1;33m)\u001b[0m\u001b[1;33m\u001b[0m\u001b[1;33m\u001b[0m\u001b[0m\n\u001b[0m\u001b[0;32m      8\u001b[0m \u001b[0mgdp_data\u001b[0m\u001b[1;33m[\u001b[0m\u001b[1;34m'GDPCA'\u001b[0m\u001b[1;33m]\u001b[0m \u001b[1;33m=\u001b[0m \u001b[0mgdp_data\u001b[0m\u001b[1;33m[\u001b[0m\u001b[1;34m'GDPCA'\u001b[0m\u001b[1;33m]\u001b[0m \u001b[1;33m/\u001b[0m\u001b[1;36m100\u001b[0m\u001b[1;33m\u001b[0m\u001b[1;33m\u001b[0m\u001b[0m\n\u001b[0;32m      9\u001b[0m \u001b[0mgdp_data\u001b[0m\u001b[1;33m[\u001b[0m\u001b[1;34m'growth_rate'\u001b[0m\u001b[1;33m]\u001b[0m \u001b[1;33m=\u001b[0m \u001b[0mgdp_data\u001b[0m\u001b[1;33m[\u001b[0m\u001b[1;34m'GDPCA'\u001b[0m\u001b[1;33m]\u001b[0m\u001b[1;33m.\u001b[0m\u001b[0mpct_change\u001b[0m\u001b[1;33m(\u001b[0m\u001b[1;33m)\u001b[0m\u001b[1;33m*\u001b[0m\u001b[1;36m100\u001b[0m\u001b[1;33m\u001b[0m\u001b[1;33m\u001b[0m\u001b[0m\n",
      "\u001b[1;32mC:\\ProgramData\\Anaconda3\\lib\\site-packages\\pandas\\core\\generic.py\u001b[0m in \u001b[0;36mastype\u001b[1;34m(self, dtype, copy, errors)\u001b[0m\n\u001b[0;32m   5875\u001b[0m         \u001b[1;32melse\u001b[0m\u001b[1;33m:\u001b[0m\u001b[1;33m\u001b[0m\u001b[1;33m\u001b[0m\u001b[0m\n\u001b[0;32m   5876\u001b[0m             \u001b[1;31m# else, only a single dtype is given\u001b[0m\u001b[1;33m\u001b[0m\u001b[1;33m\u001b[0m\u001b[1;33m\u001b[0m\u001b[0m\n\u001b[1;32m-> 5877\u001b[1;33m             \u001b[0mnew_data\u001b[0m \u001b[1;33m=\u001b[0m \u001b[0mself\u001b[0m\u001b[1;33m.\u001b[0m\u001b[0m_mgr\u001b[0m\u001b[1;33m.\u001b[0m\u001b[0mastype\u001b[0m\u001b[1;33m(\u001b[0m\u001b[0mdtype\u001b[0m\u001b[1;33m=\u001b[0m\u001b[0mdtype\u001b[0m\u001b[1;33m,\u001b[0m \u001b[0mcopy\u001b[0m\u001b[1;33m=\u001b[0m\u001b[0mcopy\u001b[0m\u001b[1;33m,\u001b[0m \u001b[0merrors\u001b[0m\u001b[1;33m=\u001b[0m\u001b[0merrors\u001b[0m\u001b[1;33m)\u001b[0m\u001b[1;33m\u001b[0m\u001b[1;33m\u001b[0m\u001b[0m\n\u001b[0m\u001b[0;32m   5878\u001b[0m             \u001b[1;32mreturn\u001b[0m \u001b[0mself\u001b[0m\u001b[1;33m.\u001b[0m\u001b[0m_constructor\u001b[0m\u001b[1;33m(\u001b[0m\u001b[0mnew_data\u001b[0m\u001b[1;33m)\u001b[0m\u001b[1;33m.\u001b[0m\u001b[0m__finalize__\u001b[0m\u001b[1;33m(\u001b[0m\u001b[0mself\u001b[0m\u001b[1;33m,\u001b[0m \u001b[0mmethod\u001b[0m\u001b[1;33m=\u001b[0m\u001b[1;34m\"astype\"\u001b[0m\u001b[1;33m)\u001b[0m\u001b[1;33m\u001b[0m\u001b[1;33m\u001b[0m\u001b[0m\n\u001b[0;32m   5879\u001b[0m \u001b[1;33m\u001b[0m\u001b[0m\n",
      "\u001b[1;32mC:\\ProgramData\\Anaconda3\\lib\\site-packages\\pandas\\core\\internals\\managers.py\u001b[0m in \u001b[0;36mastype\u001b[1;34m(self, dtype, copy, errors)\u001b[0m\n\u001b[0;32m    629\u001b[0m         \u001b[0mself\u001b[0m\u001b[1;33m,\u001b[0m \u001b[0mdtype\u001b[0m\u001b[1;33m,\u001b[0m \u001b[0mcopy\u001b[0m\u001b[1;33m:\u001b[0m \u001b[0mbool\u001b[0m \u001b[1;33m=\u001b[0m \u001b[1;32mFalse\u001b[0m\u001b[1;33m,\u001b[0m \u001b[0merrors\u001b[0m\u001b[1;33m:\u001b[0m \u001b[0mstr\u001b[0m \u001b[1;33m=\u001b[0m \u001b[1;34m\"raise\"\u001b[0m\u001b[1;33m\u001b[0m\u001b[1;33m\u001b[0m\u001b[0m\n\u001b[0;32m    630\u001b[0m     ) -> \"BlockManager\":\n\u001b[1;32m--> 631\u001b[1;33m         \u001b[1;32mreturn\u001b[0m \u001b[0mself\u001b[0m\u001b[1;33m.\u001b[0m\u001b[0mapply\u001b[0m\u001b[1;33m(\u001b[0m\u001b[1;34m\"astype\"\u001b[0m\u001b[1;33m,\u001b[0m \u001b[0mdtype\u001b[0m\u001b[1;33m=\u001b[0m\u001b[0mdtype\u001b[0m\u001b[1;33m,\u001b[0m \u001b[0mcopy\u001b[0m\u001b[1;33m=\u001b[0m\u001b[0mcopy\u001b[0m\u001b[1;33m,\u001b[0m \u001b[0merrors\u001b[0m\u001b[1;33m=\u001b[0m\u001b[0merrors\u001b[0m\u001b[1;33m)\u001b[0m\u001b[1;33m\u001b[0m\u001b[1;33m\u001b[0m\u001b[0m\n\u001b[0m\u001b[0;32m    632\u001b[0m \u001b[1;33m\u001b[0m\u001b[0m\n\u001b[0;32m    633\u001b[0m     def convert(\n",
      "\u001b[1;32mC:\\ProgramData\\Anaconda3\\lib\\site-packages\\pandas\\core\\internals\\managers.py\u001b[0m in \u001b[0;36mapply\u001b[1;34m(self, f, align_keys, ignore_failures, **kwargs)\u001b[0m\n\u001b[0;32m    425\u001b[0m                     \u001b[0mapplied\u001b[0m \u001b[1;33m=\u001b[0m \u001b[0mb\u001b[0m\u001b[1;33m.\u001b[0m\u001b[0mapply\u001b[0m\u001b[1;33m(\u001b[0m\u001b[0mf\u001b[0m\u001b[1;33m,\u001b[0m \u001b[1;33m**\u001b[0m\u001b[0mkwargs\u001b[0m\u001b[1;33m)\u001b[0m\u001b[1;33m\u001b[0m\u001b[1;33m\u001b[0m\u001b[0m\n\u001b[0;32m    426\u001b[0m                 \u001b[1;32melse\u001b[0m\u001b[1;33m:\u001b[0m\u001b[1;33m\u001b[0m\u001b[1;33m\u001b[0m\u001b[0m\n\u001b[1;32m--> 427\u001b[1;33m                     \u001b[0mapplied\u001b[0m \u001b[1;33m=\u001b[0m \u001b[0mgetattr\u001b[0m\u001b[1;33m(\u001b[0m\u001b[0mb\u001b[0m\u001b[1;33m,\u001b[0m \u001b[0mf\u001b[0m\u001b[1;33m)\u001b[0m\u001b[1;33m(\u001b[0m\u001b[1;33m**\u001b[0m\u001b[0mkwargs\u001b[0m\u001b[1;33m)\u001b[0m\u001b[1;33m\u001b[0m\u001b[1;33m\u001b[0m\u001b[0m\n\u001b[0m\u001b[0;32m    428\u001b[0m             \u001b[1;32mexcept\u001b[0m \u001b[1;33m(\u001b[0m\u001b[0mTypeError\u001b[0m\u001b[1;33m,\u001b[0m \u001b[0mNotImplementedError\u001b[0m\u001b[1;33m)\u001b[0m\u001b[1;33m:\u001b[0m\u001b[1;33m\u001b[0m\u001b[1;33m\u001b[0m\u001b[0m\n\u001b[0;32m    429\u001b[0m                 \u001b[1;32mif\u001b[0m \u001b[1;32mnot\u001b[0m \u001b[0mignore_failures\u001b[0m\u001b[1;33m:\u001b[0m\u001b[1;33m\u001b[0m\u001b[1;33m\u001b[0m\u001b[0m\n",
      "\u001b[1;32mC:\\ProgramData\\Anaconda3\\lib\\site-packages\\pandas\\core\\internals\\blocks.py\u001b[0m in \u001b[0;36mastype\u001b[1;34m(self, dtype, copy, errors)\u001b[0m\n\u001b[0;32m    671\u001b[0m             \u001b[0mvals1d\u001b[0m \u001b[1;33m=\u001b[0m \u001b[0mvalues\u001b[0m\u001b[1;33m.\u001b[0m\u001b[0mravel\u001b[0m\u001b[1;33m(\u001b[0m\u001b[1;33m)\u001b[0m\u001b[1;33m\u001b[0m\u001b[1;33m\u001b[0m\u001b[0m\n\u001b[0;32m    672\u001b[0m             \u001b[1;32mtry\u001b[0m\u001b[1;33m:\u001b[0m\u001b[1;33m\u001b[0m\u001b[1;33m\u001b[0m\u001b[0m\n\u001b[1;32m--> 673\u001b[1;33m                 \u001b[0mvalues\u001b[0m \u001b[1;33m=\u001b[0m \u001b[0mastype_nansafe\u001b[0m\u001b[1;33m(\u001b[0m\u001b[0mvals1d\u001b[0m\u001b[1;33m,\u001b[0m \u001b[0mdtype\u001b[0m\u001b[1;33m,\u001b[0m \u001b[0mcopy\u001b[0m\u001b[1;33m=\u001b[0m\u001b[1;32mTrue\u001b[0m\u001b[1;33m)\u001b[0m\u001b[1;33m\u001b[0m\u001b[1;33m\u001b[0m\u001b[0m\n\u001b[0m\u001b[0;32m    674\u001b[0m             \u001b[1;32mexcept\u001b[0m \u001b[1;33m(\u001b[0m\u001b[0mValueError\u001b[0m\u001b[1;33m,\u001b[0m \u001b[0mTypeError\u001b[0m\u001b[1;33m)\u001b[0m\u001b[1;33m:\u001b[0m\u001b[1;33m\u001b[0m\u001b[1;33m\u001b[0m\u001b[0m\n\u001b[0;32m    675\u001b[0m                 \u001b[1;31m# e.g. astype_nansafe can fail on object-dtype of strings\u001b[0m\u001b[1;33m\u001b[0m\u001b[1;33m\u001b[0m\u001b[1;33m\u001b[0m\u001b[0m\n",
      "\u001b[1;32mC:\\ProgramData\\Anaconda3\\lib\\site-packages\\pandas\\core\\dtypes\\cast.py\u001b[0m in \u001b[0;36mastype_nansafe\u001b[1;34m(arr, dtype, copy, skipna)\u001b[0m\n\u001b[0;32m   1095\u001b[0m     \u001b[1;32mif\u001b[0m \u001b[0mcopy\u001b[0m \u001b[1;32mor\u001b[0m \u001b[0mis_object_dtype\u001b[0m\u001b[1;33m(\u001b[0m\u001b[0marr\u001b[0m\u001b[1;33m)\u001b[0m \u001b[1;32mor\u001b[0m \u001b[0mis_object_dtype\u001b[0m\u001b[1;33m(\u001b[0m\u001b[0mdtype\u001b[0m\u001b[1;33m)\u001b[0m\u001b[1;33m:\u001b[0m\u001b[1;33m\u001b[0m\u001b[1;33m\u001b[0m\u001b[0m\n\u001b[0;32m   1096\u001b[0m         \u001b[1;31m# Explicit copy, or required since NumPy can't view from / to object.\u001b[0m\u001b[1;33m\u001b[0m\u001b[1;33m\u001b[0m\u001b[1;33m\u001b[0m\u001b[0m\n\u001b[1;32m-> 1097\u001b[1;33m         \u001b[1;32mreturn\u001b[0m \u001b[0marr\u001b[0m\u001b[1;33m.\u001b[0m\u001b[0mastype\u001b[0m\u001b[1;33m(\u001b[0m\u001b[0mdtype\u001b[0m\u001b[1;33m,\u001b[0m \u001b[0mcopy\u001b[0m\u001b[1;33m=\u001b[0m\u001b[1;32mTrue\u001b[0m\u001b[1;33m)\u001b[0m\u001b[1;33m\u001b[0m\u001b[1;33m\u001b[0m\u001b[0m\n\u001b[0m\u001b[0;32m   1098\u001b[0m \u001b[1;33m\u001b[0m\u001b[0m\n\u001b[0;32m   1099\u001b[0m     \u001b[1;32mreturn\u001b[0m \u001b[0marr\u001b[0m\u001b[1;33m.\u001b[0m\u001b[0mview\u001b[0m\u001b[1;33m(\u001b[0m\u001b[0mdtype\u001b[0m\u001b[1;33m)\u001b[0m\u001b[1;33m\u001b[0m\u001b[1;33m\u001b[0m\u001b[0m\n",
      "\u001b[1;31mValueError\u001b[0m: could not convert string to float: ''"
     ]
    }
   ],
   "source": [
    "#Exercise 3 \n",
    "\n",
    "#Part(a)\n",
    "    #1\n",
    "gdp_data = pd.read_csv('GDPCA.csv') \n",
    "gdp_data['GDPCA'] = gdp_data['GDPCA'].str.replace('.','', regex= False )\n",
    "gdp_data['GDPCA'] = gdp_data['GDPCA'].astype(float)\n",
    "gdp_data['GDPCA'] = gdp_data['GDPCA'] /100\n",
    "gdp_data['growth_rate'] = gdp_data['GDPCA'].pct_change()*100 \n",
    "gdp_data"
   ]
  },
  {
   "cell_type": "markdown",
   "metadata": {},
   "source": [
    "2. Something went wrong, right? There is a gremlin in the data. Find a way to use `read_csv()` to turn the bad data into `NaN`s. Now compute the growth rates. Print the first 5 rows."
   ]
  },
  {
   "cell_type": "code",
   "execution_count": 20,
   "metadata": {},
   "outputs": [
    {
     "data": {
      "text/html": [
       "<div>\n",
       "<style scoped>\n",
       "    .dataframe tbody tr th:only-of-type {\n",
       "        vertical-align: middle;\n",
       "    }\n",
       "\n",
       "    .dataframe tbody tr th {\n",
       "        vertical-align: top;\n",
       "    }\n",
       "\n",
       "    .dataframe thead th {\n",
       "        text-align: right;\n",
       "    }\n",
       "</style>\n",
       "<table border=\"1\" class=\"dataframe\">\n",
       "  <thead>\n",
       "    <tr style=\"text-align: right;\">\n",
       "      <th></th>\n",
       "      <th>DATE</th>\n",
       "      <th>GDPCA</th>\n",
       "      <th>growth_rate</th>\n",
       "    </tr>\n",
       "  </thead>\n",
       "  <tbody>\n",
       "    <tr>\n",
       "      <th>0</th>\n",
       "      <td>1929</td>\n",
       "      <td>1109.448</td>\n",
       "      <td>NaN</td>\n",
       "    </tr>\n",
       "    <tr>\n",
       "      <th>1</th>\n",
       "      <td>1930</td>\n",
       "      <td>1015.058</td>\n",
       "      <td>-8.507835</td>\n",
       "    </tr>\n",
       "    <tr>\n",
       "      <th>2</th>\n",
       "      <td>1931</td>\n",
       "      <td>950.037</td>\n",
       "      <td>-6.405644</td>\n",
       "    </tr>\n",
       "    <tr>\n",
       "      <th>3</th>\n",
       "      <td>1932</td>\n",
       "      <td>827.495</td>\n",
       "      <td>-12.898656</td>\n",
       "    </tr>\n",
       "    <tr>\n",
       "      <th>4</th>\n",
       "      <td>1933</td>\n",
       "      <td>817.265</td>\n",
       "      <td>-1.236261</td>\n",
       "    </tr>\n",
       "    <tr>\n",
       "      <th>5</th>\n",
       "      <td>1934</td>\n",
       "      <td>905.594</td>\n",
       "      <td>10.807877</td>\n",
       "    </tr>\n",
       "  </tbody>\n",
       "</table>\n",
       "</div>"
      ],
      "text/plain": [
       "   DATE     GDPCA  growth_rate\n",
       "0  1929  1109.448          NaN\n",
       "1  1930  1015.058    -8.507835\n",
       "2  1931   950.037    -6.405644\n",
       "3  1932   827.495   -12.898656\n",
       "4  1933   817.265    -1.236261\n",
       "5  1934   905.594    10.807877"
      ]
     },
     "execution_count": 20,
     "metadata": {},
     "output_type": "execute_result"
    }
   ],
   "source": [
    "    #2\n",
    "import numpy as np\n",
    "gdp_data = pd.read_csv('GDPCA.csv', na_values = '.') \n",
    "gdp_data['GDPCA'] = gdp_data['GDPCA'].astype(float)\n",
    "gdp_data['growth_rate'] = gdp_data['GDPCA'].pct_change()*100 \n",
    "gdp_data.head(6)"
   ]
  },
  {
   "cell_type": "markdown",
   "metadata": {},
   "source": [
    "### Part (b) \n",
    "1. Compute the mean gdp growth rate for 1960&ndash;1985\n",
    "2. Compute the standard deviation of the gdp growth rate for 1960&ndash;1985\n",
    "3. Repeat parts 1. and 2. for the period 1985&ndash;2007\n",
    "4. Print out your results in a few *neatly formatted* sentences. Comment on the differences between the two periods. \n",
    "\n"
   ]
  },
  {
   "cell_type": "code",
   "execution_count": 30,
   "metadata": {},
   "outputs": [
    {
     "name": "stdout",
     "output_type": "stream",
     "text": [
      "3.618358581704165\n"
     ]
    }
   ],
   "source": [
    "#Part (b)\n",
    "    #1  \n",
    "gdp_data.set_index('DATE', inplace=True)\n",
    "mean_1960 = gdp_data.loc['1960':'1985','growth_rate'].mean()\n",
    "print(mean_1960)"
   ]
  },
  {
   "cell_type": "code",
   "execution_count": 31,
   "metadata": {},
   "outputs": [
    {
     "name": "stdout",
     "output_type": "stream",
     "text": [
      "2.4658839162704664\n"
     ]
    }
   ],
   "source": [
    "    #2  \n",
    "std_1960 = gdp_data.loc['1960':'1985','growth_rate'].std()\n",
    "print(std_1960)"
   ]
  },
  {
   "cell_type": "code",
   "execution_count": 32,
   "metadata": {},
   "outputs": [
    {
     "name": "stdout",
     "output_type": "stream",
     "text": [
      "3.1710451249172285\n",
      "1.2131593098462135\n"
     ]
    }
   ],
   "source": [
    "    #3  \n",
    "mean_1985 = gdp_data.loc['1985':'2007','growth_rate'].mean()\n",
    "std_1985 = gdp_data.loc['1985':'2007','growth_rate'].std()\n",
    "print(mean_1985)\n",
    "print(std_1985 )"
   ]
  },
  {
   "cell_type": "code",
   "execution_count": 38,
   "metadata": {},
   "outputs": [
    {
     "name": "stdout",
     "output_type": "stream",
     "text": [
      "for data in 1929-1985, the mean and std are (3.62, 2.47)  \n",
      "for data in 1985-2017, the mean and std are (3.17, 1.21)  \n"
     ]
    }
   ],
   "source": [
    "    #4  \n",
    "print('for data in 1929-1985, the mean and std are ({0:.2f}, {1:.2f})  '.format(mean_1960 , std_1960))\n",
    "print('for data in 1985-2007, the mean and std are ({0:.2f}, {1:.2f})  '.format(mean_1985 , std_1985))"
   ]
  },
  {
   "cell_type": "markdown",
   "metadata": {},
   "source": [
    "The mean is smaller in the period 1985-2007 than the period 1929-1985 means the growth rate decreased average over time.\n",
    "The standard deviation is smaller in the period 1985-2007 than the period 1929-1985 means the growth rate becomes more concentrated over time. "
   ]
  },
  {
   "cell_type": "markdown",
   "metadata": {},
   "source": [
    "### Part (c)\n",
    "1. Recompute the mean and standard deviation for 1985-2018. \n",
    "2. How have things changed?"
   ]
  },
  {
   "cell_type": "code",
   "execution_count": 34,
   "metadata": {},
   "outputs": [
    {
     "name": "stdout",
     "output_type": "stream",
     "text": [
      "for data in 1985-2018, the mean and std are (2.67, 1.52)  \n"
     ]
    }
   ],
   "source": [
    "#Part (c)\n",
    "    #1\n",
    "mean_2018 = gdp_data.loc['1985':'2018','growth_rate'].mean()\n",
    "std_2018 = gdp_data.loc['1985':'2018','growth_rate'].std()\n",
    "print('for data in 1985-2018, the mean and std are ({0:.2f}, {1:.2f})  '.format(mean_2018 , std_2018))"
   ]
  },
  {
   "cell_type": "markdown",
   "metadata": {},
   "source": [
    "    #2\n",
    "The mean is smaller in the period 1985-2018 than the period 1985-2007, shows there was a decrease of gdp growth rate after 2007 on average. \n",
    "The standard diviration for period 1985-2018 is higher than the period 1985-2017 means the data become less close to the mean, less concentrated."
   ]
  },
  {
   "cell_type": "markdown",
   "metadata": {},
   "source": [
    "## Exercise 4: Cake cutting (Challenging)\n",
    "\n",
    "Source: This exercise is a modified version of one of Google's own coding exams, used to recruit new software developers each year. \n",
    "\n",
    "The setup: Happy Birthday! We brought some cake to celebrate! You take one look at your cake, and see the writing on it is representable as a string, `abcabcabcabc`.\n",
    "\n",
    "How to make everyone at your party happy: cut the cake such that everyone gets (1) the same number of letters, (2) the same sequence of letters as everyone else, and (3) you've cut your cake into the maximum number of pieces possible. So, for this cake, we can obviously split it into four pieces, each containing `abc`. Note: sequences are not interchangeable, so `bca` is not the same as `abc`.\n",
    "\n",
    "Your task: given an arbitrary cake, find the maximum number of pieces we can cut it into, i.e. the number of friends you can share your cake with.\n",
    "\n",
    "Here are the steps. You work out the code. \n",
    "\n",
    "1. Find the potential ways you can cut the cake. You cannot have fractions of letters. For example. Suppose the cake was 12 letters long `cake = 'abccbaabccba'`. You could cut it up into 1, 2, 3, 4, 6, or 12 pieces. Notice that you can divide 12 by each of these numbers and not have a remainder. Store your potential cake-piece lengths in a list named `piece_lengths`. \n",
    "\n",
    "\n",
    "2. For each potential piece length in `piece_lengths`:\n",
    "   1. Cut the first piece from the cake. (Remember: you can slice a string.) Given our example, the first piece would be 'a', since the first potential piece length is 1. The second potential length is 2, so that first piece would be 'ab'.\n",
    "   2. Create a string that is made up of the piece you cut repeated until it has the same length as the cake. In our example, we would repeat 'a' 12 times: `test_cake = 'aaaaaaaaaaaa'`. We would repeat 'ab' six times. `test_cake = 'abababababab'`.\n",
    "   3. Compare your test cake to the cake. If they are the same, then this is a successful cutting strategy. Keep this piece length&mdash;save it to a list. If the cake and test cake are not the same, move on to the next potential piece length. In our example, 6 is the only piece length that works. In general, there may be many piece lengths that work.  \n",
    "\n",
    "\n",
    "3. From your list of acceptable piece lengths, choose the shortest. Report the length of the piece and the number of pieces you can cut the cake into.    \n",
    "   \n",
    "   \n",
    "Test your algorithm with \n",
    "\n",
    "```python\n",
    "test_1 = 'abccbaabccba'\n",
    "test_2 = 'abcabcabcabc'\n",
    "test_3 = 'abcdabcdabcdabcd'\n",
    "```\n",
    "   "
   ]
  },
  {
   "cell_type": "markdown",
   "metadata": {},
   "source": [
    "1. Find the potential ways you can cut the cake. You cannot have fractions of letters. For example. Suppose the cake was 12 letters long `cake = 'abccbaabccba'`. You could cut it up into 1, 2, 3, 4, 6, or 12 pieces. Notice that you can divide 12 by each of these numbers and not have a remainder. Store your potential cake-piece lengths in a list named `piece_lengths`. \n",
    "\n",
    "\n",
    "2. For each potential piece length in `piece_lengths`:\n",
    "   1. Cut the first piece from the cake. (Remember: you can slice a string.) Given our example, the first piece would be 'a', since the first potential piece length is 1. The second potential length is 2, so that first piece would be 'ab'.\n",
    "   2. Create a string that is made up of the piece you cut repeated until it has the same length as the cake. In our example, we would repeat 'a' 12 times: `test_cake = 'aaaaaaaaaaaa'`. We would repeat 'ab' six times. `test_cake = 'abababababab'`.\n",
    "   3. Compare your test cake to the cake. If they are the same, then this is a successful cutting strategy. Keep this piece length&mdash;save it to a list. If the cake and test cake are not the same, move on to the next potential piece length. In our example, 6 is the only piece length that works. In general, there may be many piece lengths that work.  \n",
    "\n",
    "\n",
    "3. From your list of acceptable piece lengths, choose the shortest. Report the length of the piece and the number of pieces you can cut the cake into.  "
   ]
  },
  {
   "cell_type": "code",
   "execution_count": 45,
   "metadata": {},
   "outputs": [],
   "source": [
    "#Exercise 4"
   ]
  },
  {
   "cell_type": "code",
   "execution_count": 44,
   "metadata": {},
   "outputs": [
    {
     "name": "stdout",
     "output_type": "stream",
     "text": [
      "For the cake abccbaabccba ,I can cut the cake into 2 piece(s), and the length of the piece is 6 .\n",
      "For the cake abcabcabcabc ,I can cut the cake into 4 piece(s), and the length of the piece is 3 .\n",
      "For the cake abcdabcdabcdabcd ,I can cut the cake into 4 piece(s), and the length of the piece is 4 .\n"
     ]
    }
   ],
   "source": [
    "#data base\n",
    "test_1 = 'abccbaabccba'\n",
    "test_2 = 'abcabcabcabc'\n",
    "test_3 = 'abcdabcdabcdabcd'\n",
    "\n",
    "cakes = [test_1, test_2, test_3]\n",
    "\n",
    "for i in range(len(cakes)):\n",
    "    cake = cakes[i]\n",
    "    cake_len = len(cake)\n",
    "    \n",
    "    #1\n",
    "    piece_lengths = []\n",
    "    a = 0\n",
    "    for j in range(1, cake_len+1):\n",
    "        if (cake_len % j) == 0:\n",
    "            piece_lengths.append(j)\n",
    "        else:\n",
    "            a = a \n",
    "    \n",
    "    #2\n",
    "    piece_word = []\n",
    "    test_cake = ''\n",
    "    test_list = []\n",
    "    for j in range(len(piece_lengths)):\n",
    "        factor_num = piece_lengths[j]\n",
    "        piece_word.append(cake[0:factor_num:1])\n",
    "        repeat_num = int( cake_len / piece_lengths[j])\n",
    "        repeat_word = piece_word[j]\n",
    "        for k in range(repeat_num):\n",
    "            test_cake = repeat_word + test_cake\n",
    "        test_list.append(test_cake)\n",
    "        test_cake = ''\n",
    "    \n",
    "    #3\n",
    "    for j in range(len(piece_lengths)):\n",
    "        if test_list[j] == cake:\n",
    "            print('For the cake', cake, ',I can cut the cake into', int(cake_len /piece_lengths[j]), 'piece(s), and the length of the piece is', piece_lengths[j],'.')\n",
    "            break\n",
    "    \n"
   ]
  },
  {
   "cell_type": "markdown",
   "metadata": {},
   "source": [
    "### backup\n",
    "```\n",
    "#data base\n",
    "test_1 = 'abccbaabccba'\n",
    "test_2 = 'abcabcabcabc'\n",
    "test_3 = 'abcdabcdabcdabcd'\n",
    "\n",
    "#1 save the each string \n",
    "cake = test_3\n",
    "cake_len = len(cake)\n",
    "piece_lengths = []\n",
    "a = 0\n",
    "\n",
    "for i in range(1,cake_len+1):\n",
    "    if (cake_len % i) == 0:\n",
    "            piece_lengths.append(i)\n",
    "    else:\n",
    "            a = a \n",
    "                \n",
    "#2\n",
    "piece_word = []\n",
    "test_cake = ''\n",
    "test_list = []\n",
    "\n",
    "for i in range(len(piece_lengths)):\n",
    "    factor_num = piece_lengths[i]\n",
    "    piece_word.append(cake[0:factor_num:1])\n",
    "    \n",
    "for i in range(len(piece_lengths)):\n",
    "    repeat_num = int( cake_len / piece_lengths[i])\n",
    "    repeat_word = piece_word[i]\n",
    "    for j in range(repeat_num):\n",
    "        test_cake = repeat_word + test_cake\n",
    "    test_list.append(test_cake)\n",
    "    test_cake = ''\n",
    "\n",
    "#3\n",
    "for i in range(len(piece_lengths)):\n",
    "    if test_list[i] == cake:\n",
    "        print('For the cake', cake, ',I can cut the cake into', int(cake_len /piece_lengths[i]), 'piece(s), and the length of the piece is', piece_lengths[i],'.')\n",
    "        break\n",
    " ```"
   ]
  }
 ],
 "metadata": {
  "celltoolbar": "Attachments",
  "kernelspec": {
   "display_name": "Python 3",
   "language": "python",
   "name": "python3"
  },
  "language_info": {
   "codemirror_mode": {
    "name": "ipython",
    "version": 3
   },
   "file_extension": ".py",
   "mimetype": "text/x-python",
   "name": "python",
   "nbconvert_exporter": "python",
   "pygments_lexer": "ipython3",
   "version": "3.8.8"
  }
 },
 "nbformat": 4,
 "nbformat_minor": 2
}
